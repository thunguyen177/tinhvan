{
 "cells": [
  {
   "cell_type": "markdown",
   "metadata": {},
   "source": [
    "   <h3>1.Captain of sleeping in class team </h3>\n",
    "   <p> \"Mai is pretty. Yet, obviously demons will \"acknowledge their friendship\" with her.\" Parker thought. And the memory about the STATISTICS course that leads her here came back to him. \n",
    "    \"The first time he fell asleep, the professor was giving an example for the class.\n",
    "   Dr. Anderlecht utilized his magic to call in some mosquitoes from the field to make\n",
    "   the lecture more attractive. Yet, when he looked down, it was a very awkward situation. \n",
    "A male student was sleeping in class.   Left hand under his cheek, half-closed eyes (there was some rumor that he even snored)! \n",
    "   This made the professor a bit mad, but he still kept his calm outside. After finishing\n",
    "   the example, the professor sent the mosquitoes back to the field, except one was sent\n",
    "   directly to that student. And \"Aw!\", screamed the student after being bitten by a giant\n",
    "   mosquito. All the students busted in laughs. <br>\n",
    "As shameful as it may sound, it was not enough to keep Parker awake in Dr.Anderlecht's\n",
    "   course more than two classes.  Three classes later, he fell asleep again. This time,\n",
    "   instead of sending some bug to bite him, Dr. Anderlecht said very gently in front of the\n",
    "   class: \"The red hair student who sat behind the one that is sleeping, could you come up here\n",
    "   and show everyone how you solve this problem?\" <br> "
   ]
  },
  {
   "cell_type": "markdown",
   "metadata": {},
   "source": [
    "<h3> statistics and parameters </h3>\n",
    "<p>\"Suppose that after graduating, you want to find out information about the salaries of a company before applying. However,\n",
    "there are a lot of people in the company. Hence, to save time, you may want to select a random sample that is, to randomly choose some\n",
    "people and ask for their salaries instead. Then, each of the numbers you got from those people is called an <font color=\"red\"> observation </font>,\n",
    "and the collection of all these numbers is called a <font color=\"red\"> random sample</font>. You collect the data like that to study more about the\n",
    "salaries of the people in that company, which is the population.\" Mai told Parker. <br></p>\n",
    "\n",
    "\"Why does it has to be random?\" Parker asked. <br>\n",
    "\n",
    "<justify>To which, Mai replied. \"If you ask people of the same group or similar characteristics, they probably gonna comparable salaries.\n",
    "The salaries of the head are much higher than the staff,...\" <br>\n",
    "\n",
    "\"But if you just select a random sample like that, you will lose some precision,\" Parker said. <br>\n",
    "\n",
    "\"Yes, but I want to save my time. And I believe that the amount of precision that I lost is acceptable. If you want to get the\n",
    "salary of everyone, it's just like you taste the whole pot of soup in order to know if you've put in enough salt yet, leaving your\n",
    "family nothing!\"\n",
    "Mai explained. <br>\n",
    "\n",
    "\"Ok! I'm not such a foody\". Parker yawned.\n",
    "\n",
    "Feeling annoyed when Parker yawned right at the beginning of the tutoring session, Mai took a provoking example. \"Let me give you\n",
    "another example. Suppose that I want to find out the average age of your girlfriends. \n",
    " Instead of wasting my time asking for the ages of hundreds of girls that you have dated, I can \n",
    "just select some girls randomly and ask for their ages.\n",
    "That would give me a random sample of the ages of the girls, and each of those numbers shall be called\n",
    "an observation.  Loosing some precision but save a lot of\n",
    " time! In general, a population is the collection\n",
    "of all individuals or items under consideration in a statistical study. A sample is a part of the\n",
    "population from which information is obtained.The overall thing to which you want to study is a population. \n",
    "A subset of that overall is a sample.\" <br>\n",
    "Parker smiled. <br>\n",
    "\n",
    "Mai continued. \"Note that the average of all your girlfriend is something I don't know. \n",
    "I call it a parameter. A\n",
    "<font color=\"red\"> parameter </font> is a numerical description of a characteristic of the\n",
    " population. We don't know\n",
    "exactly what it is. So, we approximate them by using a <font color=\"red\"> statistic</font>, which is\n",
    "an appropriate estimate that we can obtain from our sample. In this case, an appropriate estimate (a statistic) can be\n",
    "the sample mean, also called the sample average, which is the average of all the ages in the random sample that I collected.\n",
    "Got it?\"\n",
    "<br />\n",
    "Parker laughed, \"Okay! But why do you want to find out the average age of my girlfriends? Do you want to be on that list?\"\n",
    "<br />\n",
    "Mai almost choked. \"I would never want to date with you!\"\n",
    "</p>\n"
   ]
  },
  {
   "cell_type": "code",
   "execution_count": null,
   "metadata": {},
   "outputs": [],
   "source": []
  }
 ],
 "metadata": {
  "kernelspec": {
   "display_name": "Python 3",
   "language": "python",
   "name": "python3"
  },
  "language_info": {
   "codemirror_mode": {
    "name": "ipython",
    "version": 3
   },
   "file_extension": ".py",
   "mimetype": "text/x-python",
   "name": "python",
   "nbconvert_exporter": "python",
   "pygments_lexer": "ipython3",
   "version": "3.7.4"
  }
 },
 "nbformat": 4,
 "nbformat_minor": 2
}
