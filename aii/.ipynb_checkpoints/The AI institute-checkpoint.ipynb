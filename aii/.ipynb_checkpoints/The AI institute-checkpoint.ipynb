{
 "cells": [
  {
   "cell_type": "markdown",
   "metadata": {
    "colab_type": "text",
    "id": "LONlQJbq5s4y"
   },
   "source": [
    "## Precision and recall\n",
    "\n",
    " $$precision = \\frac{\\text{# girls who love you}}{\\text{# girls whom you think are love you }}$$ \n",
    "\n",
    "  $$recall = \\frac{\\text{# girls who love you}}{\\text{# girls whom you know exactly whether she love you or not }}$$ "
   ]
  },
  {
   "cell_type": "markdown",
   "metadata": {
    "colab_type": "text",
    "id": "7pubhRUjoYJc"
   },
   "source": [
    "## The test\n",
    "\"Why are there so many tests?\"\n",
    "\n",
    "\"Do we? I thought we only have 2 tests: one mid-term and a final?\"\n",
    "\n",
    "\"I'm talking about statistical hypothesis-testing, nanny!\"\n",
    "\n",
    "\"Oh!\" \n",
    "\n",
    "\"Why are there so many tests for the same hypothesis?\"\n",
    " "
   ]
  },
  {
   "cell_type": "markdown",
   "metadata": {
    "colab_type": "text",
    "id": "z-n5SVXbC3qL"
   },
   "source": [
    "## Con sâu\n",
    "Em sợ sâu cũng đâu bằng anh sợ vợ"
   ]
  },
  {
   "cell_type": "code",
   "execution_count": null,
   "metadata": {
    "colab": {},
    "colab_type": "code",
    "id": "xVBympcYXdTX"
   },
   "outputs": [],
   "source": []
  }
 ],
 "metadata": {
  "colab": {
   "authorship_tag": "ABX9TyPcGkH4ixEV7p1Te9NAvwjn",
   "collapsed_sections": [],
   "name": "The AI institute.ipynb",
   "provenance": []
  },
  "kernelspec": {
   "display_name": "Python 3",
   "language": "python",
   "name": "python3"
  },
  "language_info": {
   "codemirror_mode": {
    "name": "ipython",
    "version": 3
   },
   "file_extension": ".py",
   "mimetype": "text/x-python",
   "name": "python",
   "nbconvert_exporter": "python",
   "pygments_lexer": "ipython3",
   "version": "3.8.3"
  }
 },
 "nbformat": 4,
 "nbformat_minor": 1
}
