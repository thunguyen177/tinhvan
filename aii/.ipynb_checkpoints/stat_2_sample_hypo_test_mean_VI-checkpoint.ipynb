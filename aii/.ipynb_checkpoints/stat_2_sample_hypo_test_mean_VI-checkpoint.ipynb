{
 "cells": [
  {
   "cell_type": "markdown",
   "metadata": {},
   "source": [
    "<a href='https://ellienguyen.style/'><font color=\"green\"> <b> <center> Ellie V  </center> </b></font> </a>"
   ]
  },
  {
   "cell_type": "markdown",
   "metadata": {},
   "source": [
    "<font color=\"green\"> <b> <center> Kiểm định giả thuyết cho trung bình 2 mẫu </center> </b></font>  \n",
    "\n",
    "Giả sử tôi có hai mẫu\n",
    "$$X_1,..., X_m\\;\\;\\underset{\\sim}{i.i.d}\\;\\;N(\\mu_1,\\sigma ^2) $$\n",
    "và\n",
    "$$Y_1,...,Y_m \\;\\underset{\\sim}{i.i.d} \\;\\;N(\\mu_2,\\sigma^2)$$\n",
    "thì\n",
    "$$\\overline{X}=\\frac{\\sum_iX_i}{m}\\sim \\;\\;N\\left(\\mu_1,\\frac{\\sigma ^2}{m}\\right)$$\n",
    " độc lập với\n",
    "$$\\overline{Y}=\\frac{\\sum_iY_i}{n}\\sim \\;\\;N\\left(\\mu_2,\\frac{\\sigma ^2}{n}\\right).$$\n",
    "Do đó,\n",
    "$$\\overline{X}-\\overline{Y}\\sim \\;\\;N\\left(\\mu_1-\\mu_2,\\frac{\\sigma ^2}{m}+\\frac{\\sigma ^2}{n}\\right)$$\n",
    "Ta viết lại được thành\n",
    "$$\\overline{X}-\\overline{Y}\\sim \\;\\;N\\left(\\mu_1-\\mu_2,\\sigma ^2\\left(\\frac{1}{m}+\\frac{1}{n}\\right)\\right)$$\n",
    "Như vậy, ta suy ra được\n",
    "$$\\frac{\\overline{X}-\\overline{Y}-(\\mu_1-\\mu_2)}{\\sqrt{\\sigma ^2\\left(\\frac{1}{m}+\\frac{1}{n}\\right)}}\\sim N(0,1)$$\n",
    "$$\\Rightarrow z_{-\\alpha/2}\\le\\frac{\\overline{X}-\\overline{Y}-(\\mu_1-\\mu_2)}{\\sigma \\sqrt{\\left(\\frac{1}{m}+\\frac{1}{n}\\right)}}\\le z_{\\alpha/2}$$\n",
    "$$\\Rightarrow \\overline{X}-\\overline{Y}-  z_{\\alpha/2}\\sigma \\sqrt{\\frac{1}{m}+\\frac{1}{n}}\\le \\mu_1-\\mu_2\\le \\overline{X}-\\overline{Y}+ z_{\\alpha/2}\\sigma\\sqrt{\\frac{1}{m}+\\frac{1}{n}}$$\n",
    "Do đó, khoảng tin cậy $1-\\alpha$ cho $\\mu_1-\\mu_2$ là\n",
    "$$\\left[ \\overline{X}-\\overline{Y}-  z_{\\alpha/2}\\sigma \\sqrt{\\frac{1}{m}+\\frac{1}{n}}, \\overline{X}-\\overline{Y}+ z_{\\alpha/2}\\sigma\\sqrt{\\frac{1}{m}+\\frac{1}{n}}\\right]$$"
   ]
  },
  {
   "cell_type": "markdown",
   "metadata": {},
   "source": [
    "Ở đây, khi cỡ mẫu là tương đối lớn, ta ước lượng $\\sigma ^2$ bằng cách sử dụng dữ liệu\n",
    "từ cả hai mẫu (do 2 mẫu có cùng phương sai):\n",
    "$$\\hat{\\sigma}^2 =s^2_{pooled}= \\frac{(n_1-1)s_1^2+(n_2-1)s_2^2}{n_1+n_2-2}$$\n",
    "Trường hợp $\\sigma _1^2\\neq \\sigma _2^2$ chúng ta suy luận tương tự.\n",
    "Khi cỡ mẫu nhỏ và phải ước lượng $\\sigma^2$ thì chúng ta dùng phân phối\n",
    "Student thay cho phân phối chuẩn."
   ]
  },
  {
   "cell_type": "markdown",
   "metadata": {},
   "source": [
    " <footer id=\"main-footer\">\n",
    "        <hr color = \"black\" width=\"400px\">\n",
    "    <center> Copyright &copy; 2019 Ellie Nguyen. All rights reserved.</center>\n",
    "</footer>"
   ]
  }
 ],
 "metadata": {
  "kernelspec": {
   "display_name": "Python 3",
   "language": "python",
   "name": "python3"
  },
  "language_info": {
   "codemirror_mode": {
    "name": "ipython",
    "version": 3
   },
   "file_extension": ".py",
   "mimetype": "text/x-python",
   "name": "python",
   "nbconvert_exporter": "python",
   "pygments_lexer": "ipython3",
   "version": "3.8.3"
  }
 },
 "nbformat": 4,
 "nbformat_minor": 4
}
