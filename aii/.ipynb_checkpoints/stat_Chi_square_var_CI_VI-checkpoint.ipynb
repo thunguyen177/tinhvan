{
 "cells": [
  {
   "cell_type": "markdown",
   "metadata": {},
   "source": [
    "<a href='https://ellienguyen.style/'><font color=\"green\"> <b> <center> Ellie V  </center> </b></font> </a>"
   ]
  },
  {
   "cell_type": "markdown",
   "metadata": {},
   "source": [
    "<font color=\"green\"> <b> <center> phân phối Chi bình phương và khoảng tin cậy cho phương sai </center> </b></font>  \n",
    "\n",
    "<ul>\n",
    "<li>\n",
    "<font color=\"#ff1493\"> \n",
    "Nếu $X_1...,X_n$ là các biến ngẫu nhiên độc lập có cùng phân phối $N(0,1)$ thì\n",
    "$X_1^2+...+X_n^2\\sim \\chi_n^2$. Trong đó, $\\chi_n^2$ là phân phối Chi bình phương\n",
    "với bậc tự do là n.\n",
    "\n",
    "Nếu $X_1...,X_n$  là các biến ngẫu nhiên độc lập có cùng phân phối $N(0,1)$ thì\n",
    "$\\frac{(n-1)s^2}{\\sigma ^2}\\sim \\chi _{n-1}^{2}$. Trong đó, $s^2$  là phương sai mẫu.</font> \n",
    "    \n",
    "Chú ý: <font color=\"#00bfff\">mặc dù tổng $s^2=\\sum_{i=1}^n(X_i-\\overline{X})^2 $ có  $n$\n",
    "thành phần nhưng bậc tự do của phân phối Chi bình phương là $n-1$. </font>\n",
    "\n",
    "</li>\n",
    "<li>\n",
    "Khoảng tin cậy cho $\\sigma ^2$ là\n",
    "$$\\frac{(n-1)s^2}{\\chi_{R,n-1}^2}<\\sigma ^2< \\frac{(n-1)s^2}{\\chi_{L,n-1}^2}.$$\n",
    "Trong đó, $\\chi_{R,df}^2,\\chi_{L,df}^2$  là các giá trị tới hạn bên trái và bên phải của\n",
    "phân phối Chi bình phương với bậc tự do df. (\n",
    "Phần diện tích về mé trái của giá trị tới hạn bên trái không nhất thiết phải\n",
    "bằng phần diện tích về mé phải  của giá trị tới hạn bên phải,\n",
    "miễn cộng lại bằng $\\alpha$ là được). \n",
    "<img src=\"img/stat/chisq.png\">\n",
    "\n",
    "</li>\n",
    " <li>\n",
    "Khoảng tin cậy cho $\\sigma $ là\n",
    "$$\\frac{(n-1)s^2}{\\chi_{R,n-1}^2}<\\sigma ^2< \\frac{(n-1)s^2}{\\chi_{L,n-1}^2}$$\n",
    "  (tức là ta lấy căn của biên của khoảng tin cậy cho $\\sigma ^2$)\n",
    " \n",
    "</li>\n",
    "</ul>\n",
    "</div>\n"
   ]
  },
  {
   "cell_type": "markdown",
   "metadata": {},
   "source": [
    "Quay lại với ví dụ về bánh xe: Giả sử bên nghiên cứu và phát triển của một công\n",
    "ty chuyên sản xuất bánh xe hơi lấy mẫu ngẫu nhiên có cỡ mẫu là 50 từ người tiêu dùng thì\n",
    "được phương sai mẫu là $s^2=22$ km. \n",
    "\n",
    "Như vậy, bậc tự do là $df=49$.  Ở mức tin cậy 0.05, với giá trị tới hạn bên trái\n",
    "là $\\chi_{0.02,49}^2= 30.87$ và giá trị tới hạn bên phải là $\\chi_{0.98,49}^2=71.41$, ta\n",
    "có khoảng tin cậy cho  $\\sigma^2$ là \n",
    "$$\\frac{49 \\times 22}{71.41}<\\sigma ^2< \\frac{49 \\times 22}{30.87}.$$\n",
    "\n",
    "Tức là\n",
    "$$15.1 <\\sigma ^2<34.92$$"
   ]
  },
  {
   "cell_type": "markdown",
   "metadata": {},
   "source": [
    " <footer id=\"main-footer\">\n",
    "        <hr color = \"black\" width=\"400px\">\n",
    "    <center> Copyright &copy; 2019 Ellie Nguyen. All rights reserved.</center>\n",
    "</footer>"
   ]
  }
 ],
 "metadata": {
  "kernelspec": {
   "display_name": "Python 3",
   "language": "python",
   "name": "python3"
  },
  "language_info": {
   "codemirror_mode": {
    "name": "ipython",
    "version": 3
   },
   "file_extension": ".py",
   "mimetype": "text/x-python",
   "name": "python",
   "nbconvert_exporter": "python",
   "pygments_lexer": "ipython3",
   "version": "3.8.3"
  }
 },
 "nbformat": 4,
 "nbformat_minor": 4
}
