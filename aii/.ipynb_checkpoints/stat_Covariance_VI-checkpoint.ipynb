{
 "cells": [
  {
   "cell_type": "markdown",
   "metadata": {},
   "source": [
    "<a href='https://ellienguyen.style/'><font color=\"green\"> <b> <center> Ellie V  </center> </b></font> </a>"
   ]
  },
  {
   "cell_type": "markdown",
   "metadata": {},
   "source": [
    "\n",
    "<font color=\"green\"> <b> <center> hiệp phương sai</center> </b></font>  \n",
    "Giả sử ta có số liệu sau\n",
    "  \n",
    "<pre>\n",
    "X 64.00000 70.0000 75.00000 78.00000 80.00000 90.00000 101.0000 96.00000 82.00000 73.00000\n",
    "Y 67.02898 72.6759 77.38556 80.34171 82.09058 91.24484 103.5563 98.39208 83.86483 73.83063\n",
    "\n",
    "X 65.00000 70.00000 80.00000 90.000 95.00000\n",
    "Y 65.31467 71.46963 81.43943 91.591 96.05272\n",
    "</pre>\n",
    "\n",
    "trong đó X là lượng mưa, Y là lượng bắp. Khi có số liệu như vậy,\n",
    "trước tiên ta vẽ hình sau (gọi là scatter plot).\n",
    "<img src=\"img/stat/corn_scatterplot.jpeg\">\n",
    "\n",
    "Trong hình ta thấy các điểm dường như nằm trên cùng một đường thẳng. Nếu lượng mưa tăng\n",
    "thì có vẻ như lượng bắp thu hoạch được cũng tăng. Nhưng đó chỉ là nhận xét. Ta muốn\n",
    "đo lường nó cụ thể. Khi đó, ta dùng hiệp phương sai (covariance).\n",
    "\n",
    "<font color=\"red\"> <b>Hiệp phương sai </b> đo lường sự biến thiên cùng nhau của hai biến ngẫu nhiên:</font>\n",
    "$$Cov(X,Y)=E(X-\\mu )(Y-\\nu )$$  \n",
    "\n",
    "Trong đó, $ E(X)=\\mu, E(Y)=\\nu$.\n",
    "\n",
    "Nếu 2 biến có cùng xu hướng biến đổi quanh kỳ vọng (nghĩa là,\n",
    "khi một biến có giá trị cao hơn giá trị kỳ vọng thì biến kia có xu hướng cũng cao hơn\n",
    "giá trị kỳ vọng, khi một biến có giá trị bé hơn giá trị kỳ vọng thì biến kia có xu hướng\n",
    "cũng thấp hơn giá trị kỳ vọng), thì hiệp phương sai giữa hai biến này có giá trị dương.\n",
    "Mặt khác, nếu một biến lớn hơn kì vọng còn biến kia có xu hướng nằm dưới giá trị kì vọng,\n",
    "thì hiệp phương sai của hai biến này có giá trị âm. \n",
    "Công thức trên còn có thể được viết là:\n",
    "$$Cov(X,Y)={E} (X Y)-\\mu \\nu.$$\n",
    "\n",
    "Nếu X, Y là các biến ngẫu nhiên giá trị thực và a, b là các hằng số:\n",
    "\n",
    "$$Cov(X,X)= Var (X)$$\n",
    "$$Cov(X,Y)=Cov(Y,X)$$.\n",
    "(Điều này cũng giống như \"tôi đi cùng anh = anh đi cùng tôi\")\n",
    "$$Cov(aX,bY)=ab Cov(X,Y)$$\n",
    "Trên thực tế, chúng ta ước lượng hiệp phương sai\n",
    "    $Cov(X,Y)=E(X-\\mu )(Y-\\nu )={E} (X Y)-\\mu \\nu$ bằng hiệp phương sai mẫu:\n",
    "\n",
    "$$\\widehat{Cov(X,Y)}=\\frac{1}{n-1}\\sum_{i=1}^n(X_i-\\overline{X})(Y_i-\\overline{Y}) $$\n",
    "\n",
    "Tại sao lại dùng ước lượng này? Ta thấy rằng: ta thường ước lượng $E(X)$ bằng\n",
    "$\\overline{X}$,  $E(Y)$ bằng $\\overline{Y}$. Cắm 2 ước lượng này vào\n",
    "    $Cov(X,Y)=E(X-\\mu )(Y-\\nu )$\n",
    "thì ta được $E(X-\\overline{X} )(Y-\\overline{Y} )$. Lớp bên ngoài lại là kỳ vọng, nên bạn\n",
    "có thể  nghĩ là lấy tổng, chia trung bình một lần nữa. Như vậy sẽ thành\n",
    "$\\frac{1}{n}\\sum_{i=1}^n(X_i-\\overline{X})(Y_i-\\overline{Y})$. Nhưng thực ra, thay vì chia cho n,\n",
    "chúng ta sẽ chia cho $n-1$ để ước lượng này là ước lượng không chệch (unbiased). Ở đây, trong $\\sum_{i=1}^n(X_i-\\overline{x})(Y_i-\\overline{Y})$ có $n-1$\n",
    "    bậc tự do. \n",
    "\n",
    "Bậc tự do có thể được lý giải như sau:\n",
    "Ta có n giá trị  $X_1,..., X_n$ và ta biết trung bình $\\overline{X}$. Như vậy nếu ta biết\n",
    "$n-1$ giá trị $X_1,..., X_{n-1}$ và ta biết trung bình $\\overline{X}$ thì ta có thể suy ra\n",
    "giá trị $X_n$.Ước lượng cắm vào kiểu này rất phổ biến và được gọi là\n",
    "\"plug-in estimate\"."
   ]
  },
  {
   "cell_type": "markdown",
   "metadata": {},
   "source": [
    " <footer id=\"main-footer\">\n",
    "        <hr color = \"black\" width=\"400px\">\n",
    "    <center> Copyright &copy; 2019 Ellie Nguyen. All rights reserved.</center>\n",
    "</footer>"
   ]
  }
 ],
 "metadata": {
  "kernelspec": {
   "display_name": "Python 3",
   "language": "python",
   "name": "python3"
  },
  "language_info": {
   "codemirror_mode": {
    "name": "ipython",
    "version": 3
   },
   "file_extension": ".py",
   "mimetype": "text/x-python",
   "name": "python",
   "nbconvert_exporter": "python",
   "pygments_lexer": "ipython3",
   "version": "3.8.3"
  }
 },
 "nbformat": 4,
 "nbformat_minor": 4
}
