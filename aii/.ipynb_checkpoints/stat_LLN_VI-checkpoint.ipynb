{
 "cells": [
  {
   "cell_type": "markdown",
   "metadata": {},
   "source": [
    "<a href='https://ellienguyen.style/'><font color=\"green\"> <b> <center> Ellie V  </center> </b></font> </a>"
   ]
  },
  {
   "cell_type": "markdown",
   "metadata": {},
   "source": [
    "<font color=\"green\"> <b> <center> Mũi tên đãng trí: luật số lớn</center> </b></font>  \n",
    "- Hôm nay lại bắn cung nữa hả?\n",
    "- Anh đã nâng được xác suất bắn trúng tâm bia chưa?\n",
    "- Rồi! Tôi tiến bộ nhanh lắm, cô không biết thì thôi!\n",
    "- Ừ thì tôi hỏi thăm thôi!  Vì chuyện là như thế này!  Giả dụ như xác suất bắn trúng của\n",
    "anh là 0.5  thì về lâu về dài  cứ 10 phát bắn thì anh sẽ bắn trúng 5 phát.  Tuy nhiên thì những\n",
    "lần đầu tiên anh có thể bắn trượt liên tiếp. Nếu vậy thật thì cũng đừng nản lòng. Cứ bắn tiếp 10\n",
    "phát xem sao. Nếu lại bắn trượt gần hết thì cứ tiếp, trước sau gì thì cũng có thêm nhiều phát trúng!\n",
    "- Cô nói cái kiểu gì ấy!  Nếu xác suất bắn trúng là 0.5 thì nếu tám phát liên tiếp mà đã\n",
    "trượt thì phát thứ chín với thứ mười, khả năng bắn trúng phải cao hơn chứ! Hơn nữa, với tiến bộ\n",
    "vượt bậc của tôi thì chuyện đó thì làm sao có thể xảy ra!\n",
    "- Ơ này! Mũi tên thì không có trí nhớ nhé!  Mỗi lần bắn là độc lập với nhau nên anh bắn\n",
    "lần nào thì xác suất trúng cũng chỉ là 0.5,  làm gì có chuyện sau 8 lần liên tiếp không bắn trúng\n",
    "thì lần thứ 9 với thứ 10 khả năng bắn trúng phải cao hơn???\n",
    "- Nhưng mà cô chẳng nói là về lâu về dài thì cứ 10 phát bắn thì anh sẽ bắn trúng 5 phát còn gì?\n",
    "\n",
    "Mai cười:\n",
    "\n",
    "- Về lâu về dài nhưng vấn đề là dài cỡ nào? Theo luật số lớn mạnh (strong law of large\n",
    "numbers) thì trung bình sẽ tiến tới kỳ vọng với xác suất bằng 1, nhưng anh phải để ý rằng công\n",
    "thức chỉ nói rằng là khi n tiến tới vô cùng thì điều này xảy ra! Nên nếu trong 10 phát đầu\n",
    "tiên mà  có 3, 4 phát bắn trúng thì cũng không có nghĩa rằng xác suất bắn trúng của anh là dưới\n",
    "0.5!"
   ]
  },
  {
   "cell_type": "markdown",
   "metadata": {},
   "source": [
    "<font color=\"green\"> <b> <center> Luật yếu số lớn (weak law of large numbers)</center> </b></font>  \n",
    "$$\\overline{X}_n \\xrightarrow{\\text{P}} \\mu \\qquad \\text {khi } n\\rightarrow \\infty, $$\n",
    "tức là \n",
    "$$\\forall\\epsilon>0,\\lim_{n\\to \\infty }P(|\\overline{X}-\\mu|>\\epsilon)=0.$$\n",
    "\n",
    "Nói cách khác,\n",
    "$$\\forall\\epsilon>0, \\lim_{n\\to \\infty }P \\left(\\,|\\overline{X}_n-\\mu |>\\varepsilon \\,\\right)=0.$$\n",
    "Tức là với $\\epsilon>0$ nhỏ đến cỡ nào, thì với cỡ mẫu đủ lớn, ta có thể đạt được xác suất \n",
    "rất cao rằng trung bình gần với kỳ vọng (no matter how small the nonzero margin is specified,\n",
    "with a sufficiently large sample there will be a very high probability that the average of the\n",
    "observations will be close to the expected value; i.e., their difference lie within the margin).\n",
    "\n",
    "<font color=\"green\"> <b> <center> Luật số lớn mạnh (strong law of large numbers):</center> </b></font>   \n",
    "$\\overline{X}_n \\xrightarrow{\\text{a.s.}} \\mu \\qquad \\text {khi } n\\rightarrow \\infty $  tức là\n",
    "$ P \\left(\\lim _{n\\to \\infty}{\\overline {X}}_{n}=\\mu \\right)=1.$ Như vậy, khi n tiến tới\n",
    "vô cùng thì trung bình tiến tới kỳ vọng với xác suất bằng một (as the number of trials \n",
    "n goes to infinity, the average of the observations converges to the expected value, \n",
    "is equal to one).''\n",
    "\n",
    "Rồi Mai hỳ hỳ nhấn mạnh:\n",
    "- Nên nếu chuyện như vậy xảy ra <font color=\"#ff1493\">trước mặt bạn gái</font> thì anh cứ kiên trì bắn cỡ 100 phát\n",
    "thì có thể tỷ lệ trúng sẽ gần với 0.5 hơn. Mà như vậy thì cũng theo luật số lớn á, anh cũng có thể thấy được rằng,khi cỡ mẫu nhỏ thì số liệu có thể dao động nhiều hơn.\n",
    "Trong khi đó, mẫu lớn nhìn sẽ có vẻ ổn định hơn theo luật số lớn!\n",
    "\n",
    "Cụ thể, nếu X là một biến ngẫu nhiên nhận giá trị 0 nếu anh bắn không trúng, và\n",
    "nhận giá trị bằng 1 nếu anh bắn trúng. Giả sử thêm rằng xác suất anh bắn trúng là $p$ thì\n",
    "$X\\sim Bernoulli(p)$. Do đó, $E(X)=p$,nên theo định lý giới hạn trung tâm,\n",
    "ta biết là ki ta thảy đồng xu càng nhiều thì\n",
    "$\\hat{p}=$<i>số lần cho mặt ngửa/số lần thảy đồng xu</i> càng tiến gần tới $p$."
   ]
  },
  {
   "cell_type": "markdown",
   "metadata": {},
   "source": [
    " <footer id=\"main-footer\">\n",
    "        <hr color = \"black\" width=\"400px\">\n",
    "    <center> Copyright &copy; 2019 Ellie Nguyen. All rights reserved.</center>\n",
    "</footer>"
   ]
  }
 ],
 "metadata": {
  "kernelspec": {
   "display_name": "Python 3",
   "language": "python",
   "name": "python3"
  },
  "language_info": {
   "codemirror_mode": {
    "name": "ipython",
    "version": 3
   },
   "file_extension": ".py",
   "mimetype": "text/x-python",
   "name": "python",
   "nbconvert_exporter": "python",
   "pygments_lexer": "ipython3",
   "version": "3.8.3"
  }
 },
 "nbformat": 4,
 "nbformat_minor": 4
}
