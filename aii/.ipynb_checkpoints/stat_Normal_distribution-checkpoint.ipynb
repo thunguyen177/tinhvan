{
 "cells": [
  {
   "cell_type": "markdown",
   "metadata": {},
   "source": [
    "<font color=\"green\" size = 14> Normal distribution </font>  "
   ]
  },
  {
   "cell_type": "markdown",
   "metadata": {},
   "source": [
    "\"Today, we're gonna learn about normal distribution,\" said Mai.\n",
    "\n",
    "\"Ok. What's normal about that?\" asked Parker, while keeping his eyes on the grasshoper in front of him.\n",
    "\n",
    "\"It's of a bell's shape. So, it's symmetric, i.e., $P(X\\le -x)=P(X\\ge x)$\"\n",
    "\n",
    "\"Why do you think someone's *belly* is *symmetric*?,\" asked Parker, looked in Mai's eyes.\n",
    "\n",
    "\"I SAID it has the shape of a BELL, not A BELLY!\"\n",
    "\n",
    "\"Ok. What's normal about that?\" laughed Parker.\n",
    "\n",
    "\"It's normal because it is popular in nature. Moreover, by the Central Limit Theorem, when independent random variables are added, their normalized sum tends toward a normal distribution, as the sample size increases, even if the original variables themselves are not normally distributed:\n",
    "$$ \\left({\\frac {{\\bar {X}}_{n}-\\mu }{\\sigma /\\sqrt{n}}}\\right)\\rightarrow N(0,1) \\; as \\; n \\rightarrow  \\infty$$"
   ]
  },
  {
   "cell_type": "code",
   "execution_count": null,
   "metadata": {},
   "outputs": [],
   "source": []
  }
 ],
 "metadata": {
  "kernelspec": {
   "display_name": "Python 3",
   "language": "python",
   "name": "python3"
  },
  "language_info": {
   "codemirror_mode": {
    "name": "ipython",
    "version": 3
   },
   "file_extension": ".py",
   "mimetype": "text/x-python",
   "name": "python",
   "nbconvert_exporter": "python",
   "pygments_lexer": "ipython3",
   "version": "3.8.3"
  }
 },
 "nbformat": 4,
 "nbformat_minor": 4
}
