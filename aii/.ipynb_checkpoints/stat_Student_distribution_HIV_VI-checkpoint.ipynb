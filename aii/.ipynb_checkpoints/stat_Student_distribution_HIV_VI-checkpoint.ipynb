{
 "cells": [
  {
   "cell_type": "markdown",
   "metadata": {},
   "source": [
    "<a href='https://ellienguyen.style/'><font color=\"green\"> <b> <center> Ellie V  </center> </b></font> </a>"
   ]
  },
  {
   "cell_type": "markdown",
   "metadata": {},
   "source": [
    "Đại dịch HIV và thời gian ủ bệnh trung bình\n",
    "Khi lại dịch AIDS xuất hiện vào thập niên 1980 thì người ta cần biết xem có bao nhiêu người\n",
    "bị lây nhiễm nhằm chuẩn bị đối phó với nạn dịch này.  Ta thấy rằng khi mà một cá nhân tiếp xúc\n",
    "với nguồn bệnh thì trong đó sẽ có một số người bị lây, và sau một thời gian ủ bệnh thì nhiều người\n",
    "trong số những người này sẽ có xuất hiện những triệu chứng của bệnh. Khi một người đã bị lây nhiễm\n",
    "thì người đó thành nguồn bệnh và có thể khiến người khác bị lây. Chúng ta không thể đoán được rằng\n",
    "ai là người sẽ tiếp xúc với nguồn bệnh hay là bị lây nhiễm hay là sẽ làm người khác bị lây.\n",
    "Thay vào đó chúng ta sử dụng mô hình xác suất và ước lượng các tham số của những phân phối này.\n",
    "Một trong những tham số quan trọng đó là thời gian ủ bệnh trung bình.\n",
    "Nếu biết được tham số ngày chúng ta có thể kết hợp với việc đếm những người có bệnh và ước lượng\n",
    "số lượng người bị lây. Hơn nữa, nhờ hoàn cảnh đặc biệt nên họ có một nhóm bệnh nhân mà họ biết\n",
    "được thời gian bị lây nhiễm và thời gian căn bệnh xuất hiện. Đó là do một số người mắc chứng máu\n",
    "loãng khó đông đã tiếp xúc với bệnh HIV qua nguồn máu chứa mầm bệnh.  Từ đó người ta có được dữ\n",
    "liệu để ước tính thời gian ủ bệnh trung bình.\n",
    "Tuy rằng chúng ta có ước lượng cho tham số nhưng nó chỉ là một con số (5.7 năm, 8 năm,...).\n",
    "Chúng ta không thể khẳng định là nó sát với giá trị thực tế của tham số đến mức nào.\n",
    "Do đó chúng ta dùng khoảng tin cậy của ước lượng. Đôi khi khoảng tin cậy là quá rộng.\n",
    "Như vậy thì chúng ta nên thu thập thêm thông tin để đưa ra quyết định tốt hơn.\n",
    "Trong trường hợp này thì chúng ta nên xem xét áp dụng các chính sách bằng cách sử dụng giá trị\n",
    "nhỏ nhất thay vì giá trị lớn nhất của tham số “thời gian ủ bệnh trung bình”.\n",
    "\n",
    "<font color=\"#00bfff\"> Ý nghĩa của khoảng tin cậy: Khi mà chúng ta gặp lại quá trình nhiều lần thì chúng ta sẽ\n",
    "thấy rằng khoảng tin cậy 95% sẽ cho ta một khoảng tin cậy mà giá trị thực của tham số nằm\n",
    "trong khoảng đã được tính 95% số lần thực hiện. Tuy nhiên xác suất tương ứng với khoảng tin\n",
    "cậy không phải xác suất mà chúng ta đúng.  Nó cũng không cho ta biết  ước lượng mà chúng ta có\n",
    "chính xác đến cỡ nào.</font> \n",
    "</i>\n",
    "<center> <hr color = \"#F333FF\" width=\"400px\"></center> \n",
    "\n",
    "Trên thực tế thì chúng ta thường không biết $\\sigma ^2$ mà phải ước lượng từ dữ liệu. Nếu cỡ mẫu\n",
    "n đủ lớn thì ta có thể xấp xỉ $\\frac{\\overline{X}-\\mu}{\\sigma ^2/n}$ bằng phân phối chuẩn $N(0,1)$.\n",
    "Nhưng nếu cõ mẫu nhỏ thì làm vậy không hiệu quả cho lắm. Bởi vậy, ta có định nghĩa\n",
    "\n",
    "<font color=\"#ff1493\"> \n",
    "Nếu $X_1,..., X_n\\;\\;\\underset{\\sim}{i.i.d}\\;\\;N(\\mu,\\sigma ^2)$ thì phân phối của\n",
    "$$T=\\frac{\\overline{X}-\\mu}{S/\\sqrt{n}}$$ được gọi là phân phối Student, hay phân phối t, với bậc\n",
    "tự do n-1.\n",
    "Ở đây, $S=\\sqrt{\\frac{\\sum_i(X_i-\\overline{X})^2}{n-1}}$.\n",
    "</font> "
   ]
  },
  {
   "cell_type": "markdown",
   "metadata": {},
   "source": [
    "Như vậy thì khoảng tin cậy cho $\\mu$ khi cỡ mẫu nhỏ là\n",
    "$$[\\overline{X}-t_{\\alpha/2}.\\frac{s}{\\sqrt{n}}, \\overline{X}+t_{\\alpha/2}.\\frac{s}{\\sqrt{n}}].$$\n",
    "Ta tìm hiểu thêm một chút về phân phối Student và mối liên hệ của nó với phân phối chuẩn \n",
    "Nhìn vào hình sau ($\\nu$ là bậc tự do) \n",
    "<img src=\"img/stat/student%20distribution.png\" width=\"400\" height=\"320\"> \n",
    "(Nguồn: Wikipedia)\n",
    "\n",
    "Ta thấy được rằng\n",
    "<font color=\"#ff1493\"> \n",
    "<ul>\n",
    "<li>phân phối Student cũng có hình chuông và đối xứng qua trung bình như phân phối chuẩn  </li>\n",
    "<li>trung bình, trung vị, mode của phân phối Student đều bằng 0</li>\n",
    "<li>Khi bậc tự do càng cao, phân phối Student tiến càng gần đến phân phối chuẩn (do đó,\n",
    "khi cỡ mẫu lớn, ta có thể  dùng phân phối chuẩn để xấp xỉ)</li>\n",
    "<li> phân phối Student hội tụ đến phân phối chuẩn</li>\n",
    "</ul>\n",
    "</font> \n",
    "    \n"
   ]
  },
  {
   "cell_type": "markdown",
   "metadata": {},
   "source": [
    "<center> <hr color = \"#F333FF\" width=\"400px\"></center> \n",
    "\n",
    "Trong những công thức về khoảng tin cậy mà ta rút ra được phía trên thì\n",
    "ta thấy độ dài của khoảng tin cậy lần lượt là $2z_{\\alpha/2}.\\frac{\\sigma ^2}{\\sqrt{n}}$\n",
    "và $2t_{\\alpha/2}.\\frac{s}{\\sqrt{n}}.$ Như vậy, để khoảng tin cậy trở nên ngắn hơn,\n",
    "chúng ta có thể tăng cỡ mẫu. Câu hỏi được đặt ra là cần thu thập bao nhiêu\n",
    "dữ liệu để thu được một khoảng tin cậy $1-\\alpha$ có độ dài cho trước là 2E?\n",
    "\n",
    "Để giải quyết vấn đề này, chúng ta giải phương trình\n",
    "$2E=2z_{\\alpha/2}.\\frac{\\sigma }{\\sqrt{n}}$\n",
    "theo n đối với trường hợp chúng ta đã biết $\\sigma^2$ hoặc khi cỡ mẫu lớn.\n",
    "Khi đó, ta thu được\n",
    "   $n =\\left(\\frac{z_{\\alpha/2}\\sigma }{E} \\right)^2$  (chú ý làm tròn nếu cần).\n",
    "\n",
    "Tương tự với trường hợp cỡ mẫu nhỏ, ta giải phương trình\n",
    "$$2E=2t_{\\alpha/2}.\\frac{s }{\\sqrt{n}}$$\n",
    "theo n.\n",
    "Khi đó, ta thu được\n",
    "   $n =\\left(\\frac{t_{\\alpha/2}s }{E} \\right)^2$  (chú ý làm tròn nếu cần).\n"
   ]
  },
  {
   "cell_type": "markdown",
   "metadata": {},
   "source": [
    " <footer id=\"main-footer\">\n",
    "        <hr color = \"black\" width=\"400px\">\n",
    "    <center> Copyright &copy; 2019 Ellie Nguyen. All rights reserved.</center>\n",
    "</footer>"
   ]
  }
 ],
 "metadata": {
  "kernelspec": {
   "display_name": "Python 3",
   "language": "python",
   "name": "python3"
  },
  "language_info": {
   "codemirror_mode": {
    "name": "ipython",
    "version": 3
   },
   "file_extension": ".py",
   "mimetype": "text/x-python",
   "name": "python",
   "nbconvert_exporter": "python",
   "pygments_lexer": "ipython3",
   "version": "3.8.3"
  }
 },
 "nbformat": 4,
 "nbformat_minor": 4
}
