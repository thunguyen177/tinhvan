{
 "cells": [
  {
   "cell_type": "markdown",
   "metadata": {},
   "source": [
    "<a href='https://ellienguyen.style/'><font color=\"green\"> <b> <center> Ellie V  </center> </b></font> </a>"
   ]
  },
  {
   "cell_type": "markdown",
   "metadata": {},
   "source": [
    "<font color=\"green\"> <b> <center> Các công thức cơ bản của xác suất </center> </b></font>  \n",
    "\n",
    "$ P(\\Omega/A)=1-P(A)$. Nghĩa là, xác suất mà một biến cố A sẽ không xảy ra,\n",
    "        tức là $P(\\Omega/A)$ bằng 1 trừ đi xác suất nó sẽ xảy ra. Ví dụ như xác suất\n",
    "        ngày mai trời nắng sẽ bằng 1 trừ đi xác suất ngày mai trời không nắng.\n",
    "Quy tắc cộng xác suất: $P(A\\cup B)=P(A)+P(B)-P(A\\cap B)\\,$. Nghĩa là, xác suất A hoặc B sẽ xảy ra bằng tổng xác suất A sẽ xảy ra với xác suất B sẽ xảy ra, trừ đi xác suất mà cả A và B cùng xảy ra. \n",
    "\n",
    "Để nhớ các công thức cơ bản của xác suất, anh có thể liên tưởng tới việc cộng diện tích\n",
    "        của những hình chồng lên nhau:\n",
    "        <img src=\"img/stat/omega1.png\"> \n",
    "Ta xem không gian mẫu như hình chữ nhật có diện tích bằng một, biến cố $A$ là hình tròn, và xác suất của một biến cố bằng diện tích của phần tương ứng với nó. Như vậy $P(\\Omega )=1$ (diện tích hình chữ nhật là 1). Nghĩa là, xác suất một biến cố sơ cấp nào đó trong tập mẫu sẽ xảy ra là 1.\n",
    "\n",
    "    Nói nôm na thì xác suất của tất cả những khả năng có thể xảy ra là 1.\n",
    "Xác suất $A$ xảy ra là diện tích của vòng tròn $A$. Như vậy, xác suất $A$ không xảy ra là phần diện tích bên ngoài $a$, tức là $1-P(A)$.\n",
    "$P(A\\cup B)$ là diện tích của phần bị gạch chéo trong hình:\n",
    "        <img src=\"img/stat/omega2.png\"> \n",
    "\n",
    "Nhưng ta lại thấy rằng diện tích phần hình gạch chéo ($P(A\\cup B)$) bằng diện tích đường tròn xanh $P(A)$ cộng diện tích đường tròn đỏ ($P(B)$)\n",
    "    trừ đi diện tích phần màu hồng ($P(A\\cap B)$). Như vậy, tóm lại thì\n",
    "    $P(A\\cup B)=P(A)+P(B)-P(A\\cap B)\\,$. Đơn giản không?"
   ]
  },
  {
   "cell_type": "markdown",
   "metadata": {},
   "source": [
    "Parker:\n",
    "- Đơn giản!\n",
    "\n",
    "Mai búng tay một cái, mọi thứ đã viết biến mất khỏi mặt giấy. Cô nàng thách đố Parker:\n",
    "- Đơn giản thì viết lại các công thức cho tôi!\n",
    "\n",
    "Parker vẽ hình. Nhưng hắn ngoáy ra hai cái vòng tròn rời nhau:\n",
    "    \n",
    "<img src=\"img/stat/omega3.png\"> \n",
    "\n",
    "Mai la oai oái\n",
    "- Anh vẽ hai cái vòng tròn mà rời nhau như vậy thì thành biến cố xung khắc (mutually exclusive events) rồi còn gì!!\n",
    "\n",
    "Rồi Mai lắc đầu:\n",
    "- Đơn giản như vậy mà cũng làm không xong!\n",
    "\n",
    "Parker quạu:\n",
    "- Xung khắc gì? Cô xung khắc với tôi á?\n",
    "\n",
    "Mai thè lưỡi, chẳng để tâm:\n",
    "- <font color=\"green\">Hai biến cố A và B được gọi là <b>xung khắc</b> nếu chúng không đồng thời\n",
    "    xảy ra trong một phép thử. Ví dụ 13: Tung một con xúc xắc, gọi $a$ là biến cố xúc xắc xuất hiện mặt hai chấm,\n",
    "    B là biến cố xúc xắc xuất hiện mặt 3 chấm thì A,B xung khắc.\n",
    "Nếu $A,B$ là hai biến cố xung khắc thì $P(A\\cup B)=P(A)+P(B)$</font> . Một ví dụ khác là anh đi câu. Gọi $A$ là biến cố lần đầu giật câu anh câu được tôm, B là biến cố lần đầu giật câu anh câu được cá. Như vậy thì đây là hai biến cố xung khắc."
   ]
  },
  {
   "cell_type": "markdown",
   "metadata": {},
   "source": [
    "Parker:\n",
    "\n",
    "- Cô nói vậy là sai rồi!\n",
    "\n",
    "Mai tròn mắt ngạc nhiên.\n",
    "\n",
    "Parker đắc trí:\n",
    "- Biến cố lần đầu giật câu tôi câu được tôm, và biến cố lần đầu giật câu tôi câu được cá là hai biến cố không xung khắc.\n",
    "- Tại sao?\n",
    "- Tại lúc tôm cắn câu thì một con cá có thể nhào tới đớp con tôm đó. Đúng lúc đó, tôi kéo cần câu, như vậy chẳng phải sẽ bắt được cả cá lẫn tôm hay sao?\n",
    "\n",
    "Haizz. Cá lớn đớp...tôm bé! Lần này Mai vặn lại không được, nên cô nàng đánh trống lảng ngay \n",
    "    lập tức:\n",
    "- Thôi được rồi! Tôi không để ý chi tiết đó! Nhưng anh phải nhớ là khi vẽ phải vẽ hai đường tròn\n",
    "    chồng nên nhau\n",
    "\n",
    "Ghi chú: Nếu A là một biến cố thì phần bù của A, tức là $\\Omega/A$ là biến cố mà $A$ không \n",
    "    xảy ra, kí hiệu là $A^c$ hoặc $\\overline{A}$ Ta lại có $P(A+A^c)=1$ mà $A$, $A^c$ rõ ràng\n",
    "    là hai biến cố xung khắc, nên $P(A)+P(A^c)=1$. Như vậy, $P(A^c)=1-P(A)$.\n",
    "Ta biết rằng nếu A, B là hai biến cố xung khắc thì $P(A\\cup B)=P(A)+P(B)$.  Tổng quát hơn, ta cũng có:\n",
    "        Nếu ta có một chuỗi đếm được bất kỳ gồm các biến cố đôi một không giao nhau \n",
    "    $ E_{1},E_{2},...$ thì $P(E_{1}\\cup E_{2}\\cup \\cdots )=\\sum P(E_{i})$. Nghĩa là, xác suất\n",
    "    của một tập biến cố là hợp của các tập con không giao nhau bằng tổng các xác suất của các tập con đó. Điều này không đúng nếu có hai tập con giao nhau."
   ]
  },
  {
   "cell_type": "markdown",
   "metadata": {},
   "source": [
    " <footer id=\"main-footer\">\n",
    "        <hr color = \"black\" width=\"400px\">\n",
    "    <center> Copyright &copy; 2019 Ellie Nguyen. All rights reserved.</center>\n",
    "</footer>"
   ]
  }
 ],
 "metadata": {
  "kernelspec": {
   "display_name": "Python 3",
   "language": "python",
   "name": "python3"
  },
  "language_info": {
   "codemirror_mode": {
    "name": "ipython",
    "version": 3
   },
   "file_extension": ".py",
   "mimetype": "text/x-python",
   "name": "python",
   "nbconvert_exporter": "python",
   "pygments_lexer": "ipython3",
   "version": "3.8.3"
  }
 },
 "nbformat": 4,
 "nbformat_minor": 4
}
