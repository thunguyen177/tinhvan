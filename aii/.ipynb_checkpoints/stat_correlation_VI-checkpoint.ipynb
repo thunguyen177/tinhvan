{
 "cells": [
  {
   "cell_type": "markdown",
   "metadata": {},
   "source": [
    "<a href='https://ellienguyen.style/'><font color=\"green\"> <b> <center> Ellie V  </center> </b></font> </a>"
   ]
  },
  {
   "cell_type": "markdown",
   "metadata": {},
   "source": [
    "<font color=\"green\"> <b> <center> Hệ số tương quan</center> </b></font>  \n",
    "\n",
    "Ta thấy là hiệp phương sai (covariance) thì bị ảnh hưởng bởi đơn vị sử dụng (m, cm,dm,mm,...).\n",
    "Nhưng nhiều khi ta hạn chế điều này. Khi ấy, ta có thể \"chuẩn hóa\" covariance\n",
    "$Cov(X,Y)=E(X-\\mu )(Y-\\nu )$ như sau:\n",
    "$$\\rho_{X,Y}=E\\left(\\frac{(X-\\mu )}{\\sigma _{X}}\\frac{(Y-\\nu  )}{\\sigma _{Y}}\\right)$$\n",
    "\n",
    "Khi này, ta chứng minh được $-1\\le \\rho_{X,Y}\\le 1$. \n",
    "Ta lại thấy rằng\n",
    "$$\\rho_{X,Y}=E\\left(\\frac{(X-\\mu )}{\\sigma _{X}}\\frac{(Y-\\nu  )}{\\sigma _{Y}}\\right)$$\n",
    "$$=\\frac{Cov(X,Y)}{\\sigma_{X}\\sigma _{Y}}=\\frac{E(X-\\mu )(Y-\\nu  )}{\\sigma _{X}\\sigma _{Y}}$$\n",
    "\n",
    "Ta có định nghĩa chính thức: Hệ số tương quan giữa hai biến ngẫu nhiên X và Y, với kỳ vọng tương ứng\n",
    "là $\\mu_{X},\\mu_{Y}$ và độ lệch chuẩn $\\sigma_{X},\\sigma_{Y}>0$,\n",
    "kí hiệu là $Corr (X,Y)$, hoặc $\\rho_{X,Y}$ được định nghĩa bởi:\n",
    "\n",
    "$$\\rho_{X,Y}=\\frac{Cov(X,Y)}{\\sigma_{X}\\sigma _{Y}}=\\frac{E(X-\\mu )(Y-\\nu )}{\\sigma _{X}\\sigma _{Y}},$$"
   ]
  },
  {
   "cell_type": "markdown",
   "metadata": {},
   "source": [
    "Do  $E[(X-\\mu)(Y-\\nu)]=E(XY)-\\mu\\nu$, nên ta cũng có\n",
    " $$\\rho_{X,Y}=\\frac{E(XY)-\\mu  \\nu  }{\\sigma _{X}\\sigma _{Y}}$$\n",
    "Nếu ta tính thì được với bộ dữ liệu trên, $\\hat{\\rho}_{X,Y}=0.998$\n",
    "\n",
    "Ta ước lượng $\\sigma_{X,Y}$ bằng      \n",
    "$$\\hat{\\rho}_{X,Y}=\\frac{\\hat{\\sigma}_{X,Y}}{\\hat{\\sigma}_X\\hat{\\sigma}_Y} = {\\frac {\\sum \\limits _{i=1}^{n}(x_{i}-{\\overline {x}})(y_{i}-{\\overline {y}})}{\\sqrt {\\sum \\limits _{i=1}^{n}(x_{i}-{\\overline {x}})^{2}\\sum \\limits _{i=1}^{n}(y_{i}-{\\overline {y}})^{2}}}},$$.\n",
    "\n",
    "Hệ số tương quan càng gần với -1 và 1 thì tương quan giữa các biến càng mạnh.\n",
    "\n",
    "Hệ số tương quan phụ thuộc vào trung bình của các biến. Mà trung bình thì khá nhạy cảm với\n",
    "outlier. Do đó, hệ số tương quan cũng khá nhạy cảm với outlier.\n",
    " Hệ số tương quan (correlation) chỉ đo lường mối quan hệ tuyến tính giữa các biến.\n",
    "Do đó, ta không nên sử dụng khi mối quan hệ giữa các biến là phi tuyến tính (nonlinear)."
   ]
  },
  {
   "cell_type": "markdown",
   "metadata": {},
   "source": [
    "<center> <hr color = \"#F333FF\" width=\"400px\"></center> \n",
    "\n",
    "Mai:\n",
    "- Dữ liệu này cho thấy hệ số tương quan là 0.998, như vậy có phải lượng mưa càng nhiều\n",
    "    thì số ngô thu hoạch được càng tăng? \n",
    "\n",
    "Parker: \n",
    "- Thì chính cô nói vậy đó thôi! \n",
    "\n",
    "Mai: \n",
    "- Như vậy thì nếu lượng mưa là 130mm thì lượng ngô thu được chắc phải cao hơn\n",
    "    rất nhiều nhỉ? \n",
    "    Parker gật đầu dù cảm thấy chăng chắc là mình sắp bị lôi ra làm trò hề tiếp! \n",
    "\n",
    "Mai: \n",
    "- Nhưng mà chỉ có mùa bão thì lượng mưa mới nên tới 130mm! Lúc đó cây còn chưa\n",
    "    chắc đã không bị cuốn đi chứ đừng nói tới bắp nhiều hơn! \n",
    "\n",
    "Parker hí hửng: \n",
    "- Ồ! Vậy là cái cô dạy tôi là sai? \n",
    "\n",
    "Mai: \n",
    "- Sai đâu mà sai! Tại anh ngoại suy ra khỏi vùng dữ liệu cho nên mới như vậy!\n",
    "    Anh không thấy nếu bỏ 130 vào tập dữ liệu thì 130 thế nào cũng thành outlier à?\n",
    "\n",
    "Parker chưng hửng: \n",
    "- Tôi bị cô dìm hàng quen rồi nên ... không buồn nghĩ!!!\n",
    "\n",
    "Mai: \n",
    "- Thực ra thì hệ số tương quan lớn không có nghĩa là cái này dẫn đến cái kia! Với lại\n",
    "$\\rho_{X,Y}=\\rho_{Y,X}$ nên nếu nói hệ số tương quan lớn đồng nghĩa với việc \"cái này\n",
    "    dẫn đến cái kia\" thì \"nước nhiều dẫn đến ngô nhiều\" hay \"ngô nhiều dẫn đến nước nhiều\"?\n",
    "    Nhưng nhìn chung chúng ta nên cẩn thận với \"ngoại suy\" (extrapolation), tức là suy luận\n",
    "    xa ra khỏi vùng chúng ta nghiên cứu. Điều này cũng giống như chúng ta không thể dùng\n",
    "    giá cổ phiếu từ  năm ngoái đến năm nay để dự đoán giá cổ phiếu 100 năm sau!"
   ]
  },
  {
   "cell_type": "markdown",
   "metadata": {},
   "source": [
    "\n",
    "<center><hr color = \"#F333FF\" width=\"400px\"></center>\n",
    "<font color=\"#ff1493\"> <b>một số ví dụ thú vị về hệ số tương quan  để thấy được rằng\n",
    "    correlation không đồng nghĩa với \"nguyên nhân và kết quả\": </b></font> \n",
    "    \n",
    "<a href=\"https://www.tylervigen.com/spurious-correlations\">https://www.tylervigen.com/spurious-correlations</a>\n",
    "\n",
    "Thông qua đó, chúng ta có thể thấy thêm được rằng nếu hệ số tương quan dương và gần 1\n",
    "thì đồ thị thường trông thế nào và nếu hệ số tương quan âm và gần -1\n",
    "thì đồ thị thường trông thế nào.\n",
    "<hr color = \"#F333FF\" width=\"400px\"> "
   ]
  },
  {
   "cell_type": "markdown",
   "metadata": {},
   "source": [
    "<font color=\"green\"> <b> <center> Ứng dụng của hiệp phương sai, hệ số tương quan  trong chứng khoán</center> </b></font>  \n",
    "    Khi chơi chứng khoán thì người ta không muốn bỏ tất cả trứng vào cùng một rọ.\n",
    "    Chẳng hạn như nếu đã đầu tư nhiều vào bất động sản thì không nên cùng một lúc đầu tư\n",
    "    nhiều vào vật liệu xây dựng vì khi bất động sản hạ nhiệt thì số nhà cần xây mới cũng\n",
    "    rất có khả năng giảm nhiều. Do đó, chúng ta có thể sử dụng hiệp phương sai (Covariance) hoặc hệ số tương quan\n",
    "    (correlation) trong trường hợp này. Nếu cùng hệ số tương quan thì chúng ta muốn giá\n",
    "     X của công ty A và giá Y của công ty B có $\\rho_{X,Y}$ càng gần 0 càng tốt.\n",
    "    Nếu $\\rho_{X,Y}$ càng gần -1 thì điều này có nghĩa là khi giá của A hoặc B tăng\n",
    "        thì giá của cái còn lại sẽ giảm. Đó không phải điều mà chúng ta muốn!\n",
    "        \n",
    "Cần nói thêm là hệ số tương quan chỉ có ý nghĩa khi mối quan hệ giữa hai biến là tuyến tính.\n"
   ]
  },
  {
   "cell_type": "markdown",
   "metadata": {},
   "source": [
    " <footer id=\"main-footer\">\n",
    "        <hr color = \"black\" width=\"400px\">\n",
    "    <center> Copyright &copy; 2019 Ellie Nguyen. All rights reserved.</center>\n",
    "</footer>"
   ]
  }
 ],
 "metadata": {
  "kernelspec": {
   "display_name": "Python 3",
   "language": "python",
   "name": "python3"
  },
  "language_info": {
   "codemirror_mode": {
    "name": "ipython",
    "version": 3
   },
   "file_extension": ".py",
   "mimetype": "text/x-python",
   "name": "python",
   "nbconvert_exporter": "python",
   "pygments_lexer": "ipython3",
   "version": "3.8.3"
  }
 },
 "nbformat": 4,
 "nbformat_minor": 4
}
