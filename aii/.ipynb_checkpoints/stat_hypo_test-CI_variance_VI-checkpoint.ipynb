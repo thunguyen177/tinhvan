{
 "cells": [
  {
   "cell_type": "markdown",
   "metadata": {},
   "source": [
    "<a href='https://ellienguyen.style/'><font color=\"green\"> <b> <center> Ellie V  </center> </b></font> </a>"
   ]
  },
  {
   "cell_type": "markdown",
   "metadata": {},
   "source": [
    "\n",
    "<font color=\"green\"> <b> <center>  Kiểm định giả thuyết cho phương sai </center> </b></font>  \n",
    "\n",
    "Nhắc lại:\n",
    "\n",
    "<font color=\"#ff1493\"> \n",
    "Nếu $X_1...,X_n$ là các biến ngẫu nhiên độc lập có cùng phân phối $N(0,1)$ thì\n",
    "$X_1^2+...+X_n^2\\sim \\chi_n^2$. Trong đó, $\\chi_n^2$ là phân phối Chi bình phương\n",
    "với bậc tự do là n.\n",
    " Nếu $X_1...,X_n$ là các biến ngẫu nhiên độc lập có cùng phân phối $N(0,1)$ thì\n",
    "$\\frac{(n-1)s^2}{\\sigma ^2}\\sim \\chi _{n-1}^{2}$. Trong đó, $s^2$ là phương sai mẫu.\n",
    "</font> \n",
    "\n",
    "Chú ý <font color=\"#00bfff\">mặc dù tổng $s^2=\\sum_{i=1}^n(X_i-\\overline{X})^2 $ có  n\n",
    "thành phần nhưng bậc tự do của phân phối Chi bình phương là n-1. </font>\n",
    "\n",
    "\n",
    "Quay lại với ví dụ về bánh xe: Giả sử một công ty chuyên sản xuất bánh xe hơi muốn kiểm định xem liệu phương sai\n",
    "của độ bền của bánh xe là không quá 20 km. Để làm điều này thì bên nghiên cứu và phát triển\n",
    "sản phẩm lấy mẫu ngẫu nhiên có cỡ mẫu là 50 từ người tiêu dùng thì được phương sai mẫu là\n",
    "$s^2=22$ km. Ở mức tin cậy 0.05, ta kết luận như thế nào?\n",
    "\n",
    "Trả lời: Họ muốn kiểm định xem liệu phương sai\n",
    "của độ bền của bánh xe là <b>không quá</b> 20 km. Do đó, $$H_0: \\sigma ^2\\le 20$$\n",
    "và $$H_1: \\sigma ^2>20.$$\n",
    "Đây là kiểm định đuôi bên phải (right-tailed test) với $\\alpha=0.05, n=50$.\n",
    "Do đó, bậc tự do là 50-1=49. Giá trị tới hạn là $\\chi_{0.95, 49}^2=66.34$. Miền bác bỏ\n",
    "là $\\chi^2>66.34$. Giá trị của thống kê mà ta tính được từ dữ liệu là\n",
    "$$\\chi^2 = \\frac{(n-1)s^2}{\\sigma ^2} = \\frac{(50-1)22}{20}= 53.9<66.34$$.\n",
    "\n",
    "Vậy, với $\\alpha = 0.01$, ta chưa đủ chứng cớ để bác bỏ $H_0$.\n"
   ]
  },
  {
   "cell_type": "markdown",
   "metadata": {},
   "source": [
    " <footer id=\"main-footer\">\n",
    "        <hr color = \"black\" width=\"400px\">\n",
    "    <center> Copyright &copy; 2019 Ellie Nguyen. All rights reserved.</center>\n",
    "</footer>"
   ]
  }
 ],
 "metadata": {
  "kernelspec": {
   "display_name": "Python 3",
   "language": "python",
   "name": "python3"
  },
  "language_info": {
   "codemirror_mode": {
    "name": "ipython",
    "version": 3
   },
   "file_extension": ".py",
   "mimetype": "text/x-python",
   "name": "python",
   "nbconvert_exporter": "python",
   "pygments_lexer": "ipython3",
   "version": "3.8.3"
  }
 },
 "nbformat": 4,
 "nbformat_minor": 4
}
