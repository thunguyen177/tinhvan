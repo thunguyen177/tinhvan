{
 "cells": [
  {
   "cell_type": "markdown",
   "metadata": {},
   "source": [
    "<a href='https://ellienguyen.style/'><font color=\"green\"> <b> <center> Ellie V  </center> </b></font> </a>"
   ]
  },
  {
   "cell_type": "markdown",
   "metadata": {},
   "source": [
    "<font color=\"green\"> <b> <center> Kiểm định giả thuyết cho trung bình </center> </b></font>  \n",
    "\n",
    "Ở phần trước, chúng ta đã thấy rằng: Nếu chúng ta có một mẫu\n",
    "$$X_1,..., X_n\\;\\;\\underset{\\sim}{i.i.d}\\;\\;N(\\mu,\\sigma ^2) $$ \n",
    "thì\n",
    "$$\\overline{X}=\\frac{\\sum_iX_i}{n}\\sim \\;\\;N\\left(\\mu_1,\\frac{\\sigma ^2}{n}\\right)$$\n",
    "và khi n đủ lớn thì ta có thể xấp xỉ $\\frac{\\overline{X}-\\mu}{\\sigma ^2/n}$\n",
    "bằng phân phối chuẩn $N(0,1)$. Khi cỡ mẫu nhỏ thì ta dùng phân phối Student, vì chúng ta biết rằng\n",
    "$T=\\frac{\\overline{X}-\\mu}{S/\\sqrt{n}}$  được gọi là phân phối Student, hay phân phối t, với bậc\n",
    "tự do $n-1.$\n"
   ]
  },
  {
   "cell_type": "markdown",
   "metadata": {},
   "source": [
    "Ví dụ: Một công ty công bố là độ pH trong nước thải của nhà máy là 7. Bạn lấy 19\n",
    "mẫu ngẫu nhiên thì nhận được trung bình mẫu là 7.2 và phương sai mẫu là 0.5. Giả sử\n",
    "tống thể tuân theo phân phối chuẩn, liệu\n",
    "chúng ta có thể bác bỏ giả thuyết mà công ty trên đã công bố ở mức ý nghĩa (significant\n",
    "level) $\\alpha = 0.01$? \n",
    "\n",
    "Lời giải:\n",
    "\n",
    "Nhiều người không thích khái niệm p-value và như đã nói ở bên trên thì chúng ta nên chọn\n",
    "$\\alpha$ trước khi tiến hành thí nghiệm để tránh biased view. Trong ví dụ này, ta kiểm định\n",
    "giả thuyết theo một trình tự khác cũng thường được dùng rất phổ biến. Đó là sử dụng\n",
    "miền bác bỏ: \n",
    "\n",
    "Công ty trên công bố là độ pH trong nước thải của nhà máy là 7, và chúng ta muốn bác bỏ\n",
    "giả thuyết này. Do đó, các giả thuyết chúng ta có là \n",
    "$$H_0: \\mu=7$$\n",
    "$$H_1: \\mu\\neq 7$$\n",
    "\n",
    "Đây là kiểm định giả thuyết 2 phía nên\n",
    " <img src=\"img/stat/2tails.png\"> \n",
    "Tức là ta phải tính toán đến cả hai trường hợp: thống kê (test statistic)\n",
    "lọt vào đuôi bên trái hay bên phải. Do đó,\n",
    " <img src=\"img/stat/2tails.png\"> \n",
    "Ta lại chú ý là diện tích đuôi bên trái bằng diện tích đuôi bên phải. Do đó, \n",
    "p-value = $2\\times P(T\\ge \\hat{T})$ mà ta lại có được từ dữ liệu \n",
    "$$\\hat{T}= \\frac{7.2-7}{0.5/\\sqrt{19}}=1.744.$$\n",
    "Do đó, p-value = $2P(T\\ge \\hat{T})=2\\times P(T>1.744)=0.081>\\alpha.$ Do đó, ở mức ý nghĩa\n",
    "$\\alpha=0.05$, ta chưa đủ bằng chứng để bác bỏ $H_0$.\n",
    "<hr color = \"yellow\" width=\"400px\">\n"
   ]
  },
  {
   "cell_type": "markdown",
   "metadata": {},
   "source": [
    "<font color=\"green\"> <b> <center> Kiểm định giả thuyết thống kê bằng cách sử dụng giá trị tới hạn</center> </b></font>  \n",
    "Trong cách tiếp cận này, chúng ta ấn định $\\alpha$ trước, rồi dựa vào đó để xác định\n",
    "một vùng gọi là <font color=\"red\">\"miền bác bỏ\" (critical region/rejection region)</font>\n",
    "có diện tích là $\\alpha$. Thì chúng ta tiếp tục lấy ở phần đuôi giống như p-value:\n",
    "\n",
    "Nhưng ở đây, thay vì tính p-value, chúng ta xác định trước những phân vị $t_{a,df}$\n",
    "là $a-$quantile (phân vị thứ $a$) của phân phối Student\n",
    "với bậc tự do $df$. Trước đây, chúng ta từng học phân vị thứ nhất, thứ hai,\n",
    "thứ 3 chia dữ liệu\n",
    "ra thành các phần nhất định thì ở đây phân vị thứ $a$ cũng tương tự. Phân vị thứ $a$\n",
    "(a-quantile) là điểm $t_{a,df}$  sao cho $P(T\\le t_{a,df})=\\alpha$ .\n",
    "\n",
    "Để xác định giá trị của nó,ta thường tra bảng hoặc dùng máy tính (trong R,\n",
    "dùng hàm <i>qt</i>). Và những phân vị\n",
    "này xác định ranh giới giữa việc bác bỏ hoặc không bác bỏ giả thuyết thống kê, nên chúng có\n",
    "tên là <font color=\"red\">giá trị tới hạn (critical values) </font>.\n",
    "\n",
    "Ta nhìn vào vùng được tô màu trong hình trên thì nếu thống kê mà chúng ta tính được\n",
    "từ mẫu rơi vào vùng này thì chúng ta sẽ bác bỏ giả thuyết\n",
    "$H_0$. Đây là phép kiểm định 2 phía và ta biết $n=19,\\alpha=0.05$. Do đó, bậc tự do là\n",
    "$n-1=18$ và giá trị tới hạn (critical values) là $-t_{0.025,18}=-2.101$ và\n",
    "$t_{0.975,18}=2.101$. Ở đây $t_{a,df}$ là $a-$quantile (phân vị thứ $a$) của phân phối Student\n",
    "với bậc tự do $df$.\n",
    "\n",
    "Vùng bác bỏ là $T<-2.101$ và $T>2.101$.\n",
    "<img src=\"img/stat/cri1.png\"> \n",
    "\n",
    "Ta lại có được từ dữ liệu \n",
    "$\\hat{T}=\\frac{7.2-7}{0.5/\\sqrt{19}}=1.744$.\n",
    "\n",
    "Như vậy, $T$ không nằm trong vùng bác bỏ. Do đó, ta không có đủ bằng chứng để bác bỏ\n",
    "điều mà công ty trên đã công bố.\n",
    "\n",
    "\n",
    "Ta viết vắn tắt lại lời giải trên như sau:\n",
    "$$H_0: \\mu=7$$\n",
    "$$H_1: \\mu\\neq 7$$\n",
    "Đây là phép kiểm định 2 phía và ta biết $n=19,\\alpha=0.05$. Do đó, bậc tự do là\n",
    "$n-1=18$ và giá trị tới hạn (critical values) là $-t_{0.025,18}=-2.101$ và\n",
    "$t_{0.975,18}=2.101$. Vùng bác bỏ là $T<-2.101$ và $T>2.101$.\n",
    "\n",
    "Ta lại có được từ dữ liệu\n",
    "$$\\hat{T}=\\frac{7.2-7}{0.5/\\sqrt{19}}=1.744.$$\n",
    "Như vậy, $\\hat{T}$ không nằm trong vùng bác bỏ. Do đó, ta không có đủ bằng chứng để bác bỏ\n",
    "điều mà công ty trên đã công bố.\n"
   ]
  },
  {
   "cell_type": "markdown",
   "metadata": {},
   "source": [
    "<center> <hr color = \"yellow\" width=\"200px\"></center> \n",
    "Giả sử như công ty trên, thay vì công bố là độ pH trong nước thải của nhà máy là 7, họ nói:\n",
    "\"độ pH trong nước thải của nhà máy <b>cao nhất</b> là 7. Như vậy, với dữ liệu đã thu thập\n",
    "được,liệu chúng ta  có thể bác bỏ giả thuyết mà công ty trên đã công bố ở mức ý nghĩa (significant\n",
    "level) $\\alpha = 0.01$? \n",
    "\n",
    "Công ty trên công bố là độ pH trong nước thải của nhà máy <b>cao nhất</b> là 7, và chúng ta muốn bác bỏ\n",
    "giả thuyết này. Do đó, các giả thuyết chúng ta có là\n",
    "$$H_0: \\mu\\le 7$$\n",
    "$$H_1: \\mu> 7$$\n",
    "\n",
    "Đây là phép kiểm định 1 phía \n",
    "<img src=\"img/stat/tright.png\"> \n",
    "\n",
    "và ta biết $n=19,\\alpha=0.05$. Do đó, bậc tự do là\n",
    "$n-1=18$ và giá trị tới hạn (critical values) là $t_{1-\\alpha,18}=1.734$. Vùng bác bỏ là\n",
    "$T>1.734$.\n",
    "\n",
    "Ta lại có được từ dữ liệu\n",
    "$$\\hat{T}=\\frac{7.2-7}{0.5/\\sqrt{19}}=1.744$$.\n",
    "\n",
    "Như vậy, $\\hat{T}$ nằm trong vùng bác bỏ. Do đó, ta  bác bỏ\n",
    "điều mà công ty trên đã công bố.\n",
    "\n",
    "Ở đây, nếu dùng hướng tiếp cận bằng p-value thì chúng ta có\n",
    "\n",
    "p-value $= P(T>1.744)= 0.049<0.05$ nên chúng ta bác bỏ $H_0$\n",
    "ở mức ý nghĩa $\\alpha = 0.01.$"
   ]
  },
  {
   "cell_type": "markdown",
   "metadata": {},
   "source": [
    " <footer id=\"main-footer\">\n",
    "        <hr color = \"black\" width=\"400px\">\n",
    "    <center> Copyright &copy; 2019 Ellie Nguyen. All rights reserved.</center>\n",
    "</footer>"
   ]
  }
 ],
 "metadata": {
  "kernelspec": {
   "display_name": "Python 3",
   "language": "python",
   "name": "python3"
  },
  "language_info": {
   "codemirror_mode": {
    "name": "ipython",
    "version": 3
   },
   "file_extension": ".py",
   "mimetype": "text/x-python",
   "name": "python",
   "nbconvert_exporter": "python",
   "pygments_lexer": "ipython3",
   "version": "3.8.3"
  }
 },
 "nbformat": 4,
 "nbformat_minor": 4
}
