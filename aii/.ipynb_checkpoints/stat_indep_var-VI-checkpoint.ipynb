{
 "cells": [
  {
   "cell_type": "markdown",
   "metadata": {},
   "source": [
    "<a href='https://ellienguyen.style/'><b><font color=\"orange\" size = 14>Ellie V</font> </b>\n",
    "</a>  "
   ]
  },
  {
   "cell_type": "markdown",
   "metadata": {},
   "source": [
    "<font color=\"green\"> <b> <center> Biến ngẫu nhiên độc lập </center> </b></font>  \n",
    "Hai biến ngẫu nhiên X và Y là độc lập khi và chỉ khi với các số a và b bất kỳ,\n",
    "biến cố $[X \\le a]$ (biến cố rằng X nhỏ hơn hay bằng a) và $[Y \\le b]$ là các biến cố độc lập.\n",
    "\n",
    "Tương tự, một tập hợp các biến ngẫu nhiên tùy ý là độc lập nếu với tập hợp hữu hạn bất kỳ\n",
    "$X_1,..., X_n$ và một tập hữu hạn bất kỳ gồm\n",
    "các số $a_1,..., a_n$, các biến cố $[X_1\\le a_1],...,[X_n\\le a_n]$  là các biến cố độc lập,\n",
    "như đã được định nghĩa ở trên.\n",
    "\n",
    "Nếu X và Y là độc lập, thì $E[X, Y] = E[X] E[Y]$ và $var(X + Y) = var(X) + var(Y)$.\n",
    "Do đó, $cov(X,Y) = 0$. Ta có thể hiểu trong trường hợp này là nếu X và Y là độc lập thì\n",
    "chúng không dao động cùng nhau, tức là $cov(X,Y) = 0$.\n",
    "\n",
    "Ngoài ra, các biến ngẫu nhiên X và Y với các hàm phân bố $f_X(x)$ và $f_Y(y)$,\n",
    "là độc lập khi và chỉ khi\n",
    "$$F_{X,Y}(x,y)=F_{X}(x)F_{Y}(y), $$\n",
    "Giả sử $X,Y$  có hàm mật độ xác suất là $f_X(x)$ và $f_Y(y)$ thì X và Y độc lập với nhau\n",
    "khi và chỉ khi\n",
    "$$f_{X,Y}(x,y)=f_{X}(x)f_{Y}(y).$$\n",
    "Để hiểu điều này, chúng ta cũng có thể liên tưởng đến việc hai biến cố $A, B$ là độc lập\n",
    "khi và chỉ khi\n",
    "$$P(A\\cap B)=P(A)P(B)$$\n",
    "Nếu X và Y độc lập, thì hiệp phương sai của chúng bằng 0, bởi vì khi đó,\n",
    "$$E(X. Y)=E(X). E(Y)=\\mu \\nu.$$\n",
    "Thay thế vào dạng thứ hai của công thức hiệp phương sai ở trên, ta có\n",
    "$$ Cov(X,Y)=\\mu \\nu -\\mu \\nu =0.$$\n",
    "Tuy nhiên, điều ngược lại không đúng: <font color=\"red\"> nếu X và Y có hiệp phương sai bằng 0,\n",
    "hai biến này KHÔNG nhất thiết độc lập</font>. Do đó, chúng ta có cái tên riêng cho mối quan hệ này:\n",
    "Các biến ngẫu nhiên có hiệp phương sai bằng không được gọi là\n",
    "<font color=\"green\">không tương quan (uncorrelated)</font>."
   ]
  },
  {
   "cell_type": "markdown",
   "metadata": {},
   "source": [
    "<font color=\"green\"> <b> <center> Tỉ lệ chết </center> </b></font> \n",
    "<font color=\"#ff1493\"> \n",
    "\n",
    "- Thưa bác sĩ, khả năng tôi sống được sau chữa phẫu thuật này là bao nhiêu?\n",
    "\n",
    "- 50/50. Nhưng anh yên tâm, 50 người đầu tiên đã chết rồi</font> \n",
    "\n",
    "Parker cười sau khi đọc câu chuyện trên báo.\n",
    "\n",
    "Mai hỏi:\n",
    "\n",
    "- Nếu là anh thì liệu anh có thấy vui khi bác sĩ nói câu đó không?\n",
    "\n",
    "- Vui chứ, 50 người kia đã chết rồi thì chắc là tôi sẽ sống thôi.\n",
    "\n",
    "Nghe câu này, Mai cười ha hả:\n",
    "- Chúc mừng anh!\n",
    "\n",
    "- Chúc mừng gì?\n",
    "\n",
    "- Nếu gọi $X_1,X_2,...., X_{100}$ là biến ngẫu nhiên cho ta biết bệnh nhân sống hay chết sau khi phẫu thuật thì các biến ngẫu nhiên này có thể được xem như là độc lập với nhau. Nên dù 50 người kia đã chết thì xác suất anh sống sót cũng chỉ là 50%"
   ]
  },
  {
   "cell_type": "markdown",
   "metadata": {},
   "source": [
    "<font color=\"green\" size = 10> <b> The death ratio </b></font> \n",
    "\n",
    "“Doctor, what is the odds that I will survive the impending the operation?”\n",
    "\n",
    "“It’s 50/50, but don’t worry because the first fifty had died already!!”\n",
    "\n",
    "Parker laughed upon reading the meme in the newspaper. \n",
    "\n",
    "“If you were to make the surgery, will you be happy when the doctor said that?” Mai asked.\n",
    "\n",
    "“Why not? The first fifty has already died.” \n",
    "\n",
    "Mai laughed when she heard the answer, “Well, congratulation then.”\n",
    "\n",
    "“Congrat? On what?”\n",
    "\n",
    "“Isn’t it? The result of each operation for each person should be considered as independent random variables. So, the results of the first fifty don’t affect the result of the fifty-one operation. That means the possibility of a failure is 50%.”"
   ]
  },
  {
   "cell_type": "markdown",
   "metadata": {},
   "source": [
    " <footer id=\"main-footer\">\n",
    "        <hr color = \"black\" width=\"400px\">\n",
    "    <center> Copyright &copy; 2019 Ellie Nguyen. All rights reserved.</center>\n",
    "</footer>"
   ]
  }
 ],
 "metadata": {
  "kernelspec": {
   "display_name": "Python 3",
   "language": "python",
   "name": "python3"
  },
  "language_info": {
   "codemirror_mode": {
    "name": "ipython",
    "version": 3
   },
   "file_extension": ".py",
   "mimetype": "text/x-python",
   "name": "python",
   "nbconvert_exporter": "python",
   "pygments_lexer": "ipython3",
   "version": "3.8.3"
  }
 },
 "nbformat": 4,
 "nbformat_minor": 4
}
