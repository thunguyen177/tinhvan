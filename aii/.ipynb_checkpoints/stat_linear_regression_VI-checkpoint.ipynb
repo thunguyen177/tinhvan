{
 "cells": [
  {
   "cell_type": "markdown",
   "metadata": {},
   "source": [
    "<a href='https://ellienguyen.style/'><font color=\"green\"> <b> <center> Ellie V  </center> </b></font> </a>"
   ]
  },
  {
   "cell_type": "markdown",
   "metadata": {},
   "source": [
    "<font color=\"green\"> <b> <center> hồi quy</center> </b></font>  \n",
    "\n",
    "Ta nhớ  lại từ phần hiệp phương sai và hệ số tương quan, ta có số liệu sau\n",
    "\n",
    "<pre>\n",
    "X 64.00000 70.0000 75.00000 78.00000 80.00000 90.00000 101.0000 96.00000 82.00000 73.00000\n",
    "Y 67.02898 72.6759 77.38556 80.34171 82.09058 91.24484 103.5563 98.39208 83.86483 73.83063\n",
    "\n",
    "X 65.00000 70.00000 80.00000 90.000 95.00000\n",
    "Y 65.31467 71.46963 81.43943 91.591 96.05272\n",
    "</pre>\n",
    "trong đó X là lượng mưa, Y là lượng bắp và tương ứng với nó là một đồ thị phân tán\n",
    "(scatter plot) như vậy:\n",
    "<img src=\"img/stat/corn_scatterplot.jpeg\"> \n",
    "\n",
    "Khi 2 biến có vẻ như có mối quan hệ tuyến tính với nhau như vậy thì ta thắc mắc: liệu từ giá trị\n",
    "của biến ngẫu nhiên này, chúng ta có thể suy ra giá trị tương ứng của biến ngẫu nhiên\n",
    "còn lại. Thế là chúng ta mô hình hóa như sau: \n",
    " X là lượng mưa, Y là lượng\n",
    "ngô thu hoạch được. Như vậy, ta muốn dự đoán Y dựa trên X, tức là Y phụ thuộc vào\n",
    "X chứ X không phụ thuộc vào Y. Do đó, ta gọi X là biến độc lập và Y là\n",
    "biến phụ thuộc.\n",
    "Giả sử  ta có n tháng và  $X_1,...,X_n$  là lượng mưa trung bình từ quý thứ nhất đến quý\n",
    "thứ n; $Y_1,...,Y_n$  là lượng ngô thu hoạch được  từ quý thứ nhất đến quý thứ n, tức là\n",
    "dữ liệu trông như sau:\n",
    "<table  width=\"200\" height=\"50\">\n",
    "<tr>\n",
    "<td>$X_1$ </td><td>$X_2$ </td><td>...</td><td>$X_n$ </td>\n",
    "</tr>\n",
    "<tr>\n",
    "<td>$Y_1$ </td><td>$Y_2$ </td><td>...</td><td>$Y_n$ </td>\n",
    "</tr>\n",
    "</table>\n"
   ]
  },
  {
   "cell_type": "markdown",
   "metadata": {},
   "source": [
    "Giả sử $\\widehat{Y}_1,...,\\widehat{Y}_n$  là các ước lượng mà ta dự đoán được cho $Y_1,...,Y_n$ .\n",
    "\n",
    "Ta muốn dùng phương pháp bình phương bé nhất, tức là ta muốn\n",
    "$\\sum_{i=1}^n (\\widehat{Y}_i-Y_i)^2$  là nhỏ nhất. Lý do làm như vậy thì cũng như đã\n",
    "nói ở phần variance:\n",
    "<ul>\n",
    "<li> Ta không đánh giá bằng $\\widehat{Y}_i-Y_i$  vì $\\sum_{i=1}^n (\\widehat{Y}_i-Y_i)=0$ </li>\n",
    "<li> Ta không đánh giá bằng $|\\widehat{Y}_i-Y_i|$ vì $\\sum_{i=1}^n |\\widehat{Y}_i-Y_i|$\n",
    "không khả vi để tính đạo hàm  \n",
    "</ul>\n",
    "\n",
    "Bình phương bé nhất nghe thì đơn giản nhưng hiệu quả đến bất ngờ. Hiệu quả của phương pháp bình phương bé nhất (least square) được thể hiện rõ khi\n",
    "người ta sử dụng nó để dự đoán vị trí của một tiểu hành tinh mới được phát hiện có tên là\n",
    "Ceres. Vào\n",
    "1-1-1801 một nhà thiên văn học người Ý có tên là Giuseppe Piazzi đã phát hiện ra hành tinh\n",
    "này và theo dõi được quỹ đạo của nó 40 ngày trước khi nó bị lóa đi bởi ánh sáng mặt trời.\n",
    "Dựa vào dữ liệu này, các nhà thiên văn học muốn xác định vị trí của Ceres sau khi ta nhìn thấy\n",
    "nó trở lại, nhưng họ không muốn giải những phương trình Kepler phức tạp về chuyển động của\n",
    "các hành tinh và phương pháp duy nhất thành công là phương pháp least square của Gauss (lúc\n",
    "này 24 tuổi). Tuy nhiên thì nó không phải là hồi quy tuyến tính đơn thuần như chúng ta bàn\n",
    "ở đây."
   ]
  },
  {
   "cell_type": "markdown",
   "metadata": {},
   "source": [
    "Quay lại vấn đề chính! Chúng ta đã giả sử mối quan hệ giữa X và Y là tuyến tính, nên\n",
    "ta gán cho nó dạng $\\widehat{Y}=aX+b $  giống như phương trình đường thẳng! Tuy nhiên, thường trong\n",
    "thống kê, người ta viết là $\\widehat{Y}=b_0+b_1X$ . Như vậy $\\widehat{Y}_i=b_0+b_1X_i$  và ta tìm\n",
    "$b_0, b_1$  bằng cách tìm cực tiểu cho hàm mất mát (loss function): \n",
    "$$Q=\\sum_{i=1}^n (\\widehat{Y}_i-Y_i)^2=\\sum_{i=1}^n (b_0+b_1X_i-Y_i)^2$$.\n",
    "Lấy đạo hàm của $Q$ theo $b_0,b_1$ và giải hệ phương trình ta được\n",
    "\n",
    "<font color=\"#ff1493\"> \n",
    "$$b_1=\\frac{\\sum_i(X_i-\\overline{X})(Y_i-\\overline{Y})}{\\sum_i(X_i-\\overline{X})^2},\\;\\;\\;\\; b_0=\\overline{Y}-b_1\\overline{X}$$\n",
    "</font> \n",
    "\n",
    "Ta chú ý rằng tử số của $b_1$  là $\\sum_i(X_i-\\overline{X})(Y_i-\\overline{Y})=(n-1)\\widehat{Cov(X,Y)}$\n",
    ", mẫu số\n",
    "$\\sum_i(X_i-\\overline{X})^2=(n-1)\\widehat{Var(X)}$ . Điều này làm ta liên tưởng đến \n",
    "$$\\hat{\\rho}_{X,Y}=\\frac{\\widehat{Cov(X,Y)}}{\\sqrt{\\widehat{Var(X)}\\widehat{Var(Y)}}}$$\n",
    "Và một lần nữa, chúng ta nhắc lại rằng \"tương quan chỉ có ý nghĩa trong trường hợp tuyến\n",
    "tính\". Tương quan bằng 0 không có nghĩa là 2 biến ngẫu nhiên không liên quan gì đến nhau\n",
    "(chúng có thể có quan hệ phi tuyến tính)!\n",
    "\n",
    "Đồng thời, ta cũng có công thức sau giúp chúng ta tính toán nhanh hơn:\n",
    "<font color=\"#ff1493\">\n",
    "$$b_1=\\frac{\\sum_i(X_i-\\overline{X})(Y_i-\\overline{Y})}{\\sum_i(X_i-\\overline{X})^2} = \\frac{\\widehat{Cov(X,Y)}}{\\widehat{Var(X)}}$$\n",
    "</font> "
   ]
  },
  {
   "cell_type": "markdown",
   "metadata": {},
   "source": [
    "\n",
    "Sau khi ước lượng, dự đoán xong, chúng ta muốn xem lại xem chúng ta ước lượng tốt thế nào\n",
    "cả về tổng quan lẫn chi tiết. Về tổng quan, chúng ta đã có $Q=\\sum_{i=1}^n (\\widehat{Y}_i-Y_i)^2$ .\n",
    "Về chi tiết thì chúng ta sẽ vẽ $e_i=\\widehat{Y}_i-Y_i$  theo $\\widehat{Y}_i$ . Đồ thị này gọi là residual plot.\n",
    "$e_i$ ở đây\n",
    "là ước lượng cho $\\epsilon_i$  trong mô hình $Y=\\beta_0+\\beta_1X+\\epsilon$  (và $b_0,b_1$\n",
    "lần lượt là ước lượng cho $\\beta_0,\\beta_1$ ). Trong mô hình hồi quy thông thường\n",
    "(normal linear regression), người ta\n",
    "thường giả sử $\\epsilon_1,.., \\epsilon_n \\;\\underset{\\sim}{i.i.d.}\\; N(0,1)$  và gọi là white noise\n",
    "(nhiễu trắng). Khi đó, các điểm $(e_i,\\widehat{Y}_i)$  nên dao động ngẫu nhiên quanh đường thẳng\n",
    "$e_i=0$  và không nên có một cái xu hướng (trend) nào trên đồ thị. Mô hình của chúng ta thỏa mãn\n",
    "điều này:\n",
    "<img src=\"img/stat/corn_residual_plot.jpeg\">\n"
   ]
  },
  {
   "cell_type": "markdown",
   "metadata": {},
   "source": [
    "Thêm vào đó, chúng ta nên kiểm tra xem: nếu điều kiện tuân theo phân phối chuẩn được\n",
    "thỏa thì residuals nên có phân phối chuẩn. Ta có thể kiểm tra điều này bằng\n",
    "normality plot (quantile-to-quantile plot cho phân phối chuẩn).\n",
    "Nếu các điểm trên normality plot thẳng hàng thì residuals tuân theo phân phối chuẩn.\n",
    "Mô hình của chúng ta thỏa mãn\n",
    "điều này:\n",
    "<img src=\"img/stat/corn_qqnorm.jpeg\">\n",
    "\n",
    "R Code\n",
    "<pre>\n",
    "x=c(64,70,75,78,80,90,101,96,82,73,65,70,80,90,95) #khởi tạo số lượng mưa giả\n",
    "y = 2+x+rnorm(length(x)) # khởi tạo số liệu bắp dựa trên số liệu mưa\n",
    "plot(x,y, col='red',xlab = 'rain',ylab = 'corn')\n",
    "model <- lm(y~x)\n",
    "summary(model)\n",
    "plot(model$fitted.values,model$residuals)\n",
    "abline(0,0)\n",
    "qqnorm(model$residuals)\n",
    "qqline(model$residuals)\n",
    "</pre>"
   ]
  },
  {
   "cell_type": "markdown",
   "metadata": {},
   "source": [
    " <footer id=\"main-footer\">\n",
    "        <hr color = \"black\" width=\"400px\">\n",
    "    <center> Copyright &copy; 2019 Ellie Nguyen. All rights reserved.</center>\n",
    "</footer>"
   ]
  }
 ],
 "metadata": {
  "kernelspec": {
   "display_name": "Python 3",
   "language": "python",
   "name": "python3"
  },
  "language_info": {
   "codemirror_mode": {
    "name": "ipython",
    "version": 3
   },
   "file_extension": ".py",
   "mimetype": "text/x-python",
   "name": "python",
   "nbconvert_exporter": "python",
   "pygments_lexer": "ipython3",
   "version": "3.8.3"
  }
 },
 "nbformat": 4,
 "nbformat_minor": 4
}
