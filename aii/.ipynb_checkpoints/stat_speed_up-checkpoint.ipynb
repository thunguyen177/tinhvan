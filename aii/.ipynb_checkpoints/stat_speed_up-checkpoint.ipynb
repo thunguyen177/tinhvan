{
 "cells": [
  {
   "cell_type": "markdown",
   "metadata": {},
   "source": [
    "<a href='https://ellienguyen.style/'><font color=\"green\"> <b> <center> Ellie V  </center> </b></font> </a>\n",
    "\n",
    "<font color=\"green\" size = 10> <b> <center> King of speed </center> </b></font> \n",
    "\n",
    "\"Slow down!\" Mai screamed inside the car.\n",
    "\n",
    "\"Okay, but wait a minute,\" Parker said and started to speed up when entering the intersection. \n",
    "\n",
    "Mai rolled her eyes. After getting out of the intersection, Parker started to slow down, but Mai yelled at him: \"Are you crazy? I told you to slow down, but you speed up instead!\"\n",
    "\n",
    "Parker laughed, \"I thought a statistician like you would know better. The intersection is where most accidents occur. So, I try to spend less time there to reduce that risk.\"\n",
    "\n",
    "\"Okay, Sir. Smart, what distribution should you use to model the number of car accidents at that intersection? And what distribution should you use to model the time that people have to wait for the road to be cleared after the accident?\""
   ]
  },
  {
   "cell_type": "code",
   "execution_count": null,
   "metadata": {},
   "outputs": [],
   "source": []
  }
 ],
 "metadata": {
  "kernelspec": {
   "display_name": "Python 3",
   "language": "python",
   "name": "python3"
  },
  "language_info": {
   "codemirror_mode": {
    "name": "ipython",
    "version": 3
   },
   "file_extension": ".py",
   "mimetype": "text/x-python",
   "name": "python",
   "nbconvert_exporter": "python",
   "pygments_lexer": "ipython3",
   "version": "3.8.3"
  }
 },
 "nbformat": 4,
 "nbformat_minor": 4
}
