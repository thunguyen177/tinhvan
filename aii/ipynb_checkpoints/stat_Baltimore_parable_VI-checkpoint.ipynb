{
 "cells": [
  {
   "cell_type": "markdown",
   "metadata": {},
   "source": [
    "<a href='https://ellienguyen.style/'><font color=\"green\"> <b> <center> Ellie V  </center> </b></font> </a>"
   ]
  },
  {
   "cell_type": "markdown",
   "metadata": {},
   "source": [
    "<font color=\"green\"> <b> <center> Truyện ngụ ngôn xứ Baltimore</center> </b></font>  \n",
    "    Ngày xửa ngày xưa, ở xứ Baltimore, có một người tên là X nhận được một bức thư lạ từ một\n",
    "    nhà môi giới chứng khoán. Trong đó, người ta tiết lộ rằng có một cổ phiếu sẽ tăng mạnh\n",
    "    trong tuần tới. Một tuần trôi qua! Đúng như lời dự đoán, cổ phiếu ấy tăng ngất ngưởng!\n",
    "    Tuần tiếp theo, X lại nhận được một bức thư mới từ nhà môi giới này. Tuy nhiên, lần này họ\n",
    "    dự đoán là một cổ phiếu nào đó sẽ rớt giá mạnh trong tuần tới. Quả thực đúng vậy!\n",
    "    Và cứ như vậy, liên tiếp 10 tuần, và tuần nào lời dự đoán trong thư cũng trở thành\n",
    "    hiện thực. \n",
    "    Sang tuần thứ 11, bạn nhận được một lời mời đầu tư với nhà mô giới trên. Đi kèm với\n",
    "    đó là số tiền môi giới khổng lồ cho khả năng dự đoán chính xác như được thể hiện\n",
    "    trong 10 tuần vừa rồi qua thư. \n",
    "    Nghe cũng khá hấp dẫn nhỉ? \n",
    "    \n",
    "Thực ra chuyện này gần như không thể xảy ra. Thực ra, mỗi tuần,\n",
    "    nhà môi giới nọ đã gửi 1024 lá thư đến những người khác nhau để lừa đảo.\n",
    "    Chiêu trò là như vậy: Giả sử xác suất dự đoán chính xác giá một cổ phiếu lên hoặc xuống\n",
    "    là 50% thì chuyện này giống như thảy đồng xu mười lần cho mỗi người anh ta gửi thư tới.\n",
    "    Xác suất dự đoán đúng cho tuần thứ nhất là 1/2. Lần dự đoán của tuần thứ 2 là độc lập\n",
    "    với tuần thứ nhất nên xác suất dự đoán đúng cho tuần thứ hai là 1/2. Lần dự đoán của tuần thứ ba là độc lập\n",
    "    với tuần thứ nhất và thứ hai nên xác suất dự đoán đúng cho tuần thứ ba là 1/2... Như vậy,\n",
    "    xác suất dự đoán đúng 10 lần liên tiếp là\n",
    "        $$\\frac{1}{2}\\times \\frac{1}{2}\\times....\\times\\frac{1}{2}=\\left(\\frac{1}{2}\\right)^{10}=\\frac{1}{1024}$$\n",
    "        \n",
    "Như vậy, mỗi tuần, anh ta chỉ cần gửi 1024 lá thư đi thì trong đó chắc chắn sẽ\n",
    "    có 1 người nhận được thư mà có dự đoán đúng 10 tuần liên tiếp!\n"
   ]
  },
  {
   "cell_type": "markdown",
   "metadata": {},
   "source": [
    "\n",
    "<!--Here’s a parable. One day, you receive an unsolicited newsletter from a\n",
    "stockbroker in Baltimore, containing a tip that a certain stock is due for a big\n",
    "rise. A week passes, and just as the Baltimore stockbroker predicted, the\n",
    "stock goes up. The next week, you get a new edition of the newsletter, and this\n",
    "time, the tip is about a stock whose price the broker thinks is going to fall.\n",
    "And indeed, the stock craters. Ten weeks go by, each one bringing a new issue\n",
    "of the mysterious newsletter with a new prediction, and each time, the\n",
    "prediction comes true.\n",
    "On the eleventh week, you get a solicitation to invest money with the\n",
    "Baltimore stockbroker, naturally with a hefty commission to cover the keen\n",
    "view of the market so amply demonstrated by the newsletter’s ten-week run of\n",
    "golden picks.\n",
    "Sounds like a pretty good deal, right? Surely the Baltimore stockbroker is\n",
    "onto something—it seems incredibly unlikely that a complete duffer, with no\n",
    "special knowledge about the market, would get ten up-or-down predictions in\n",
    "a row correct. In fact, you can compute the odds on the nose: if the duffer has\n",
    "a 50% chance of getting each prediction right, then the chance of his getting\n",
    "the first two predictions right is half of half, or a quarter, his chance of getting\n",
    "the first three right is half of that quarter, or an eighth, and so on. Continuing\n",
    "this computation, his chance of hitting the mark ten times in a row* is\n",
    "(1/2) × (1/2) × (1/2) × (1/2) × (1/2) × (1/2) × (1/2) × (1/2)\n",
    "× (1/2) × (1/2) = (1/1024).-->"
   ]
  },
  {
   "cell_type": "markdown",
   "metadata": {},
   "source": [
    " <footer id=\"main-footer\">\n",
    "        <hr color = \"black\" width=\"400px\">\n",
    "    <center> Copyright &copy; 2019 Ellie Nguyen. All rights reserved.</center>\n",
    "</footer>"
   ]
  }
 ],
 "metadata": {
  "kernelspec": {
   "display_name": "Python 3",
   "language": "python",
   "name": "python3"
  },
  "language_info": {
   "codemirror_mode": {
    "name": "ipython",
    "version": 3
   },
   "file_extension": ".py",
   "mimetype": "text/x-python",
   "name": "python",
   "nbconvert_exporter": "python",
   "pygments_lexer": "ipython3",
   "version": "3.8.3"
  }
 },
 "nbformat": 4,
 "nbformat_minor": 4
}
