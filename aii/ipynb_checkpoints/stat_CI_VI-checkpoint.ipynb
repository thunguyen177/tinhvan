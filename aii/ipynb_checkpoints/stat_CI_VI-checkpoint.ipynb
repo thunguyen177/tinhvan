{
 "cells": [
  {
   "cell_type": "markdown",
   "metadata": {},
   "source": [
    "<a href='https://ellienguyen.style/'><font color=\"green\"> <b> <center> Ellie V  </center> </b></font> </a>"
   ]
  },
  {
   "cell_type": "markdown",
   "metadata": {},
   "source": [
    "<font color=\"green\"> <b> <center> Khoảng tin cậy cho trung bình</center> </b></font>  \n",
    "Cứ trước mỗi buổi vào học là Parker lại để một thứ gì đó đáng để tò mò trên bàn để Mai nhìn vào.\n",
    "Lần này là tin tức về rồng. Đó là bảng xếp hạng độ nguy hiểm do rồng tấn công từ các bang.\n",
    "Mai ngưng mắt nhìn tờ báo một tí rồi nhếch mép cười. Parker hỏi:\n",
    "- Cười gì? Người ta bị rồng tấn công cô lại cười!\n",
    "- Tôi cười độ rảnh của anh với mấy người hay đọc mấy cái thứ lá cải này! - Mai bực mình nhìn\n",
    "Parker, thừa biết có kẻ luôn muốn câu giờ - Người ta nghe đến số ca nhập viện vì rồng tấn công ở Alabama nhiều còn ở Maine thì ít,\n",
    "nên chắc tưởng rồng ở Alabama hiền hơn. Nhưng thực tế ở Maine có mấy người ở đâu mà chẳng\n",
    "tai nạn ít hơn! Tỉ lệ không quan tâm, quan tâm đến số lượng!\n",
    "\n",
    "Parker bào chữa:\n",
    "- Nhưng cũng phải xem xem tỉ lệ của cái gì với cái gì chứ! Nhiều khi biết số lượng vẫn hơn! \n",
    "Mai:\n",
    "- Ví dụ?\n",
    "Parker:\n",
    "- Có lần tôi mua Bolga (món gồm thịt gà thả trong vườn cây thuốc của phù thủy và thịt ngựa),\n",
    "người bán nói tỉ lệ 1-1 mà giá rẻ quá chừng! Tôi cứ phân vân sao giá lại rẻ như vậy. Về sau mới\n",
    "biết tỉ lệ này không phải 1kg gà - 1kg ngựa mà là 1 con gà - 1 con ngựa! Mà nếu vậy thì\n",
    "tính ra lại mắc\n",
    "\n",
    "Mai bật cười: \n",
    "- Coi bộ anh đẹp mã như vậy mà cũng bị người ta lừa! \n",
    "\n",
    "Parker: \n",
    "- Đây không phải là bị lừa, mà là hiểu nhầm về khối lượng!\n",
    "\n",
    "Kệ cho Parker bào chữa, Mai vẫn ha ha ha...! Mai nói tiếp: \n",
    "- Nói chung là tùy trường hợp nhưng trong nhiều tình huống, chúng ta nên quan tâm đến tỉ lệ\n",
    "hơn là số lượng! Nhưng như vậy vẫn chưa chắc đã là sự lựa chọn tốt nhất! Nay chúng ta học\n",
    "khoảng tin cậy!\n",
    "<center> <hr color = \"green\" width=\"400px\"></center> "
   ]
  },
  {
   "cell_type": "markdown",
   "metadata": {},
   "source": [
    "<font color=\"#ff1493\"> \n",
    "Khoảng tin cậy (confidence interval) là một khoảng số thực được tính dựa trên thống kê mà ta có.\n",
    "Mức tin cậy (confidence level) cho ta biết ta trường hợp tự tin đến mức nào về việc tham số\n",
    "mà chúng ta ước lượng sẽ rơi vào khoảng tin cậy đó.\n",
    "</font> \n",
    "\n",
    "Ta nhớ lại rằng:\n",
    "nếu $X\\sim N(\\beta_1, \\eta_1^2),Y\\sim N(\\beta_2,\\eta_2^2)$\n",
    "là 2 biến ngẫu nhiên độc lập thì $X+Y\\sim N(\\beta_1+\\beta_2,\\eta_1^2+\\eta_2^2).$\n",
    "\n",
    "Giả sử tôi có một mẫu $X_1,..., X_n\\;\\;\\underset{\\sim}{i.i.d}\\;\\;N(\\mu,\\sigma ^2) $ \n",
    "thì\n",
    "$$\\overline{X}=\\frac{\\sum_iX_i}{n}\\sim \\;\\;N\\left(\\mu_1,\\frac{\\sigma ^2}{n}\\right)$$\n",
    "$$\\Rightarrow \\frac{\\overline{X}-\\mu}{\\sigma /\\sqrt{n}}\\sim \\;\\;N(0,1)$$\n",
    "$$\\Rightarrow P(-z_{\\alpha/2}\\le\\frac{\\overline{X}-\\mu}{\\sigma /\\sqrt{n}}\\le z_{\\alpha/2})=1-\\alpha $$\n",
    "$$\\Rightarrow P(\\overline{X}-z_{\\alpha/2}\\sigma /\\sqrt{n}\\le \\mu\\le  \\overline{X}+z_{\\alpha/2}\\sigma /\\sqrt{n})=1-\\alpha$$\n",
    "thì  \n",
    "$$[\\overline{X}-z_{\\alpha/2}\\sigma /\\sqrt{n},  \\overline{X}+z_{\\alpha/2}\\sigma /\\sqrt{n}]$$ được gọi là\n",
    "khoảng tin cậy mức $1-\\alpha$ cho $\\mu$.\n",
    "\n",
    "Ví dụ:   <img src=\"img/stat/alpha005.png\" align=\"right\">\n",
    "Ở Mỹ người ta bán nhiều loại trái cây theo quả chứ không theo khối lượng như ở Việt Nam\n",
    "(ví dụ: $\\$1$ một quả dưa chuột, $\\$0.8$ một quả kiwi,... cho dù các quả là to nhỏ khác nhau). Do đó, nếu quả quá nhỏ thì\n",
    "khó bán được với giá tốt. Nếu quả quá to thì lại lỗ về chi phí nhà vườn và một số vấn đề khác (Ví dụ:\n",
    "người tiêu dùng không muốn mua quả táo quá to vì to quá thì ăn một lần không hết, muốn mua quả táo quá nhỏ\n",
    "vì như vậy thì hạt nhiều hơn). Do đó, trước khi chính thức thu hoạch vựa trái cây, một chủ vườn muốn tìm\n",
    "khoảng tin cậy cho khối lượng trung bình của mỗi quả táo gala trong vườn.\n",
    "\n",
    "Anh ta hái ngẫu nhiên 50 quả táo thì tính được khối lượng trung bình của một quả táo là 135 gram, với độ lệch chuẩn\n",
    "là 10 . Như vậy với mức ý nghĩa $\\alpha=0.05$ thì khoảng tin cậy mức $0.95$ cho $\\mu$\n",
    "là $[135-1.96 \\frac{10}{\\sqrt{50}}, 135+1.96 \\frac{10}{\\sqrt{50}}]$, tức là\n",
    "$[132.23, 137.77]$. Tuy nhiên,\n",
    "khối lượng trung bình tối ưu của táo là 142 gram/quả (khối lượng tối ưu biết được dựa trên \n",
    "thị trường). Do đó, anh taquyết định chưa thu hoạch vội!"
   ]
  },
  {
   "cell_type": "markdown",
   "metadata": {},
   "source": [
    " <footer id=\"main-footer\">\n",
    "        <hr color = \"black\" width=\"400px\">\n",
    "    <center> Copyright &copy; 2019 Ellie Nguyen. All rights reserved.</center>\n",
    "</footer>"
   ]
  }
 ],
 "metadata": {
  "kernelspec": {
   "display_name": "Python 3",
   "language": "python",
   "name": "python3"
  },
  "language_info": {
   "codemirror_mode": {
    "name": "ipython",
    "version": 3
   },
   "file_extension": ".py",
   "mimetype": "text/x-python",
   "name": "python",
   "nbconvert_exporter": "python",
   "pygments_lexer": "ipython3",
   "version": "3.8.3"
  }
 },
 "nbformat": 4,
 "nbformat_minor": 4
}
