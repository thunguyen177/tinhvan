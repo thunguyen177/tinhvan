{
 "cells": [
  {
   "cell_type": "markdown",
   "metadata": {},
   "source": [
    "<a href='https://ellienguyen.style/'><font color=\"green\"> <b> <center> Ellie V  </center> </b></font> </a>"
   ]
  },
  {
   "cell_type": "markdown",
   "metadata": {},
   "source": [
    "<font color=\"green\"> <b> <center>  Định lý giới hạn trung tâm</center> </b></font>  \n",
    "   \n",
    "Giả sử $X_1,...,X_n,...$ là một dãy các biến ngẫu nhiên độc lập có cùng phân phối xác suất\n",
    "với kỳ vọng bằng $\\mu$, và phương sai $\\sigma ^2<\\infty $. Giả sử\n",
    "$\\overline{x}_n=\\frac{\\sum_{i=1}^nX_i}{n}$\n",
    "   thì \n",
    "$\\frac{\\overline{x}_n-\\mu}{\\sigma/\\sqrt{n}}\\overset{d}{\\rightarrow} N(0,1)$ khi $n{\\rightarrow}\\infty.$\n",
    "   \n",
    "Như vậy, định lý giới hạn trung tâm cho ta biết: khi ta lấy trung bình\n",
    "các biến ngẫu nhiên độc lập với nhau và chuẩn hóa trung bình này thì khi ta tăng\n",
    "n, trung bình này tiến ngày một gần tới $N(0,1)$. \n"
   ]
  },
  {
   "cell_type": "markdown",
   "metadata": {},
   "source": [
    "<font color=\"green\"> <b> <center> Xấp xỉ phân phối nhị thức bằng phân phối chuẩn</center> </b></font>  \n",
    "\n",
    "Nếu  $X_1,..,X_n\\;\\underset{\\sim}{i.i.d.}\\; Ber(p)$ thì\n",
    "$E(X_i)=p, Var(X_i) = p(1-p) \\forall i = 1,...,n.$\n",
    "Ta có $ \\hat{p}=\\frac{\\sum_{i=1}^nX_i}{n}$ là một ước lượng không chệch cho $p$.\n",
    "Áp dụng định lý hội tụ trung tâm ta được khi n đủ lớn\n",
    "\n",
    "$$\\frac{\\hat{p}-p}{\\sqrt{p(1-p)}/\\sqrt{n}}\\approx N(0,1)$$\n",
    "Ta lại có: đặt $X = \\sum_{i=1}^n X_i$ thì $X\\sim Binom(n,p)$. Do đó,\n",
    "$$\\frac{n\\hat{p}-np}{n\\sqrt{p(1-p)}/\\sqrt{n}}\\approx N(0,1)$$\n",
    "$$\\Rightarrow \\frac{X-np}{\\sqrt{np(1-p)}}\\approx N(0,1)$$\n",
    "Tức là khi n đủ lớn\n",
    "$$X\\sim Binom(n,p)\\approx N(np, np(1-p))$$\n",
    "Như vậy \n",
    "<font color=\"#ff1493\"> \n",
    "Khi n đủ lớn thì $Binom(n,p)\\approx N(np, np(1-p))$\n",
    "</font> \n",
    "Vậy n như thế nào thì gọi là đủ lớn? Áp dụng điều này vào trong thực tiễn để xác định bao nhiêu n là đủ thì\n",
    "người ta thấy là khi $n,p$ thỏa mãn $np\\ge 5$ và $n(1-p)\\ge 5$ thì xấp xỉ này là khá tốt!\n",
    "\n",
    "<font color=\"red\"> Hiệu chỉnh liên tục</font>:\n",
    "\n",
    "Ví dụ: Giả sử ta có $X\\sim Binom (20,0.7)$ thì ta có thể sử dụng phân phối chuẩn để xấp xỉ\n",
    "phân phối nhị thức. Câu hỏi là xác suất $(X=8)$ bằng bao nhiêu? \n",
    "\n",
    "Ta có $X\\sim Binom(20,0.7)\\approx N(14,4.2)$ \n",
    "\n",
    "Tuy rằng xấp xỉ như ta đã nói ở ngay bên trên là khá tốt nhưng ta thấy rằng ta đang xấp xỉ một phân phối rời rạc\n",
    "bằng một phân phối liên tục nên phép xấp xỉ này, ta có thể hình dung như sau:\n",
    "<img src=\"img/stat/continuity%20correction.png\" height=\"300\" width=\"400\"> \n",
    "Nhìn vào hình thì ta thấy rằng để xấp xỉ tốt hơn, chúng ta hiệu chỉnh một chút khi tính diện\n",
    "tích dưới đường cong bằng cách xấp xỉ như sau:\n",
    "\n",
    "Do $X\\sim Binom(20,0.7)$ nên ta có $P(X=8)=P(7.5\\le X \\le 8.5)$. Do đó, ta chuẩn hóa với\n",
    "$\\mu = 14, \\sigma=\\sqrt{4.2}$ để được\n",
    "$$P(X=8)\\approx P(\\frac{7.5-20}{\\sqrt{4.2}}<\\frac{7.5-\\mu}{\\sigma }$$\n",
    "$$<\\frac{8.5-20}{\\sqrt{4.2}})$$ \n",
    "$$\\Rightarrow P(X=8)\\approx P(-6.1\\le  Z\\le -5.6)$$\n",
    "$$=\\Phi(-8.8)-\\Phi(-9.1)=1 .01\\times 10^{-8} $$ \n",
    "\n",
    "Để tính $P(X\\ge 8)$ ta làm tương tự: \n",
    "<img src=\"img/stat/continuity2.png\" height=\"300\" width=\"400\"> \n",
    "\n",
    "Như vậy \n",
    "$$P(X\\ge 8 )=P(X \\ge 7.5)\\approx P(\\frac{X-\\mu}{\\sigma}\\ge\\frac{7.5-14}{\\sqrt{4.2}})$$\n",
    "$$= P(Z\\ge -3.17)=1-\\Phi(-3.17)=0.999$$\n",
    "\n",
    "Tương tự,\n",
    "$$P(X\\le 8 )=P(X\\le 8.5)\\approx P(\\frac{X-\\mu}{\\sigma}\\le\\frac{8.5-14}{\\sqrt{4.2}})$$\n",
    "$$= P(Z\\le -2.68)=\\Phi(-2.68)=0.004$$\n",
    "\n",
    "Bài tập: 1.Bạn định thuê nhà ở thành phố. Chủ nhà yêu cầu anh trả $\\$1500$ một tháng.\n",
    "Trong khi đó, theo một bảng khảo sát trên 100 căn hộ thì mức giá thuê căn hộ cho một\n",
    "người ở có trung bình là $\\$1000$ với phương sai 300. Như vậy, liệu giá căn hộ bạn định\n",
    "thuê  $\\$1500$ một tháng có là quá bất thường?\n",
    "\n",
    "2.Một tàu lượn trên không được thiết kế để có thể cho 50 người lượn trên không cùng một lúc.\n",
    "Khối lượng tối đa mà tàu lượn này có thể chạy mà vẫn giữ được an toàn là $5000$ kg.\n",
    "Cân nặng của người lớn (kg) có phân phối chuẩn $N(70,15)$.\n",
    "Nếu có 50 người trên tàu lượn cùng một lúc, xác suất khối lượng của tất cả những người\n",
    "lượn vượt giới hạn cho phép là bao nhiêu?\n"
   ]
  },
  {
   "cell_type": "markdown",
   "metadata": {},
   "source": [
    " <footer id=\"main-footer\">\n",
    "        <hr color = \"black\" width=\"400px\">\n",
    "    <center> Copyright &copy; 2019 Ellie Nguyen. All rights reserved.</center>\n",
    "</footer>"
   ]
  }
 ],
 "metadata": {
  "kernelspec": {
   "display_name": "Python 3",
   "language": "python",
   "name": "python3"
  },
  "language_info": {
   "codemirror_mode": {
    "name": "ipython",
    "version": 3
   },
   "file_extension": ".py",
   "mimetype": "text/x-python",
   "name": "python",
   "nbconvert_exporter": "python",
   "pygments_lexer": "ipython3",
   "version": "3.8.3"
  }
 },
 "nbformat": 4,
 "nbformat_minor": 4
}
