{
 "cells": [
  {
   "cell_type": "markdown",
   "metadata": {},
   "source": [
    "<a href='https://ellienguyen.style/'><font color=\"green\"> <b> <center> Ellie V  </center> </b></font> </a>"
   ]
  },
  {
   "cell_type": "markdown",
   "metadata": {},
   "source": [
    "\n",
    "<font color=\"green\"> <b> <center> Giá đỡ chổi bay (lấy mẫu)</center> </b></font>  \n",
    "Parker: \n",
    "   - Haizz! Tôi chả biết cô học thống kê làm gì?\n",
    "Hồi xưa chẳng có một thời bầu cử chủ tịch bộ pháp thuật mà mấy\n",
    "ông bên thống kê dự đoán là Skeropt thắng nhưng rốt cục thì Lucenberg thắng đó thôi? \n",
    "\n",
    "- Nhưng tôi hỏi anh, cái dự báo đó được sản ra từ tờ báo nào, tỷ lệ trả lời là bao nhiêu? \n",
    "\n",
    "Parker không biết câu trả lời chỉ biết ợm ờ. Mai mỉm cười đắc thắng:\n",
    "\n",
    "- Không biết phải không? Bảng khảo sát và dự báo được đưa ra bởi tờ Nhật báo Lahey.\n",
    "Mà ai đọc nhật báo Lahey? Đa phần chỉ có dân Lahey thôi chứ ai?\n",
    "Vậy kết quả dự đoán của tờ báo đó anh tin được sao?\n",
    "\n",
    "Parker không biết nói câu gì đành lảng sang vấn đề khác:\n",
    "- Ờ, ai biết đâu!\n",
    "Đọc kết quả thống kê thì nên tìm hiểu sơ qua cách người ta thực hiện nghiên cứu,\n",
    "chứ cứ đọc kết quả người ta phô ra như anh thì có mà….tạch.\n",
    "Các nhà lãnh đạo cấp cao mà cũng như anh thì chắc dân tình thi nhau biểu tình.\n",
    "- Mai cười nhếch mép. Vẻ khinh khỉnh lộ rõ.\n",
    "- Thi nhau biểu tình gì?\n",
    "Cách đây nhiều năm, nhiều phù thủy gây áp lực với chính quyền, yêu cầu xây những giá đỡ chổi bay (broom rack) trên những con phố của thành phố Centura. Cơ quan chức năng đành gửi thư tới các hộ dân mời họ làm bảng khảo sát để chắc chắn là phần đông những người phải đóng thuế ủng hộ việc này. Nhưng tỉ lệ trả lời khảo sát rất thấp, và đa phần những người trả lời là những người hay đi dã ngoại hoặc những người làm công việc kinh doanh liên quan tới khóa cho chổi bay hoặc chổi bay. Dĩ nhiên, họ đều ủng hộ việc này! Nhưng khi thấy kết quả khảo sát như vậy, chính quyền đành cử người đi phỏng vấn từng hộ dân. Kết quả khảo sát mới cho ra là phần đông mọi người không có nhu cầu sử dụng giá đỡ chổi bay! Nếu chính quyền chỉ dựa vào kết quả ban đầu thì mấy người không cần giá đỡ chổi bay đã đổ ra đường biểu tình chứ sao?\n",
    "- Nhưng làm sao họ biết được? Phỏng vấn tất cả mọi người à?\n",
    "- Không, dại gì! Thành phố này cũng hơi thưa thớt cho nên nếu mà đi phỏng vấn ngẫu nhiên\n",
    "10 người thôi thì cũng tốn rất nhiều thời gian đi từ chỗ này đến chỗ nọ. Cho nên người ta nghĩ\n",
    "tới cách khác. Họ lôi bản đồ của thành phố ra, chia thành 750 phần, mỗi phần có 10 hộ gia đình.\n",
    "Người ta đánh số mỗi phần từ 1 đến 750 rồi chọn ngẫu nhiên 40 phần và phỏng vấn những hộ ở trong phần đó. Cái này gọi là cluster sampling (lấy mẫu theo nhóm), thường được dùng khi các thành phần của tổng thể phân bố rải rác về mặt địa lý."
   ]
  },
  {
   "cell_type": "markdown",
   "metadata": {},
   "source": [
    "- Nói như cô, lỡ những người ở trong một phần nào đó là khá giống nhau nhưng lại khác nhiều so với những phần khác thì sao? Nếu phần đó không được chọn thì có phải là vô lý không?\n",
    "- Dĩ nhiên, nếu các phần tử trong mỗi phần nhỏ là khá đều nhau so với toàn bộ tổng thể thì phương pháp này có thể trở nên bất hợp lý. Lấy thêm một ví dụ khác, khi chính quyền muốn biết dân có muốn cho xây hồ bơi tập thể không. Trong trường hợp này, các hộ giàu thường tụ lại một nơi, các hộ nghèo thường tụ lại ở một nơi khác. Như vậy, nếu dùng cluster sampling thì những nhà giàu đã có bể bơi thường sẽ trả lời là không muốn bể bơi tập thể trong thị trấn, những hộ nghèo, hộ có thu nhập trung bình thì lại muốn vì họ không có bể bơi riêng.\n",
    "- Ha ha, thấy chưa?\n",
    "- Thấy chưa cái gì? Có một giải pháp khác đó là lấy mẫu phân tầng (stratified sampling).Phương pháp này thường đáng tin hơn so với lấy mẫu theo nhóm. Với phương pháp này thì chúng\n",
    "ta chia các hộ dân ra thành 3 tổng thể nhỏ hơn gọi là strata. Trong trường hợp này thì 3 tổng\n",
    "thể nhỏ hơn đó lần lượt là hộ có thu nhập, cao hộ có thu nhập trung bình, và hộ có thu nhập\n",
    "thấp. Sau đó thì chúng ta lấy mẫu ngẫu nhiên từ mỗi tổng thể nhỏ này. Như vậy thì sẽ không\n",
    "có một nhóm thu nhập nào bị thiếu. Nếu muốn chính xác hơn thì chúng ta có thể sử dụng phương\n",
    "pháp “lấy mẫu phân tầng ngẫu nhiên theo tỉ lệ” (stratified random sampling with proportional\n",
    "allocation). Như vậy thì mỗi strata sẽ được lấy mẫu tương ứng với tỷ lệ kích cỡ. Giả sử như hộ\n",
    "có thu nhập cao chiếm  15% dân số, hộ có thu nhập trung bình chiếm 65%, và hộ có thu nhập\n",
    "thấp thì chiếm  20%. Như vậy nếu chúng ta muốn lấy mẫu có kích cỡ bằng 100 thì chúng ta sẽ\n",
    "chọn ngẫu nhiên 15 hộ có thu nhập cao (tức là  15% của 100), 65 hộ có thu nhập trung bình\n",
    "(tức là 65% của 100), 20 hộ có thu nhập thấp (tức là  20% của 100).\n",
    "Giờ thì anh thấy chưa….?\n"
   ]
  },
  {
   "cell_type": "markdown",
   "metadata": {},
   "source": [
    " <footer id=\"main-footer\">\n",
    "        <hr color = \"black\" width=\"400px\">\n",
    "    <center> Copyright &copy; 2019 Ellie Nguyen. All rights reserved.</center>\n",
    "</footer>"
   ]
  }
 ],
 "metadata": {
  "kernelspec": {
   "display_name": "Python 3",
   "language": "python",
   "name": "python3"
  },
  "language_info": {
   "codemirror_mode": {
    "name": "ipython",
    "version": 3
   },
   "file_extension": ".py",
   "mimetype": "text/x-python",
   "name": "python",
   "nbconvert_exporter": "python",
   "pygments_lexer": "ipython3",
   "version": "3.8.3"
  }
 },
 "nbformat": 4,
 "nbformat_minor": 4
}
