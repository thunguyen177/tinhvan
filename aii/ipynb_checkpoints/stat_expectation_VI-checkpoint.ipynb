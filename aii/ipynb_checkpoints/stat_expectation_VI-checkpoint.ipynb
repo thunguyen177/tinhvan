{
 "cells": [
  {
   "cell_type": "markdown",
   "metadata": {},
   "source": [
    "<a href='https://ellienguyen.style/'><font color=\"green\"> <b> <center> Ellie V  </center> </b></font> </a>"
   ]
  },
  {
   "cell_type": "markdown",
   "metadata": {},
   "source": [
    "<font color=\"green\"> <b> <center> Kỳ vọng</center> </b></font>  \n",
    "    Trong khi chờ Parker về, Mai không biết làm gì nên lôi đồng tiền cổ ra mân mê\n",
    "    rồi thảy xem nó có cân bằng hay không.\n",
    "    \n",
    "Một lúc sau, Parker đi vào, thấy Mai vẫn đang thảy đồng xu thì liền kiếm chuyện để câu giờ, đỡ phải học:\n",
    "-Sao người ta luôn cho rằng là xác suất nhận được mặt sấp và mặt ngửa khi thảy đồng xu là 1/2 nhỉ? Tôi thấy hai mặt của một đồng xu thường đâu có\n",
    "giống nhau đâu?\n",
    "\n",
    "Mai chỉnh lại: \n",
    "- Thì người ta đâu có giả thuyết vậy đâu! Họ giả thuyết là <font color=\"#ff8c00\">xác suất nhận được mặt sấp và\n",
    "    mặt ngửa khi thảy <b>một đồng xu cân bằng </b> là 1/2! </font>\n",
    "\n",
    "Parker đơ một tẹo, xong rồi lại lặn ra được thứ khác để hỏi:\n",
    "- Vậy đồng xu trong tay cô thì sao? Cân bằng không? Hay là mình thảy để\n",
    "ước lượng thử đi!\n",
    "\n",
    "Mai thừa biết Parker muốn câu giờ. Nó lườm: \n",
    "- Tôi chờ anh nãy giờ, thảy được 50 lần rồi! Ước lượng được là xác suất mặt ngửa\n",
    "    là 0.7! VÀO HỌC!\n",
    "<hr color = \"yellow\" width=\"300px\">\n",
    "Mai: \n",
    "- Giả sử chúng ta thảy đồng xu này, nếu ngửa thì anh đưa cho tôi 1 tờ giấy hiện thực,\n",
    "nếu xấp thì tôi đưa cho anh 2 tờ. Như vậy, nếu chơi trò này thì anh liệu có lời không?\n",
    "\n",
    "Parker: \n",
    "-  Cứ cho xác suất mặt ngửa là 0.7 thì trong 100 lần thảy, tôi sẽ được khoảng 70 lần mặt ngửa nên\n",
    "tôi phải đưa cô 70 tờ giấy hiện thực. Nhưng cũng sẽ có khoảng 30 lần mặt xấp nên cô phải đưa tôi 60\n",
    "tờ. Như vậy tôi lỗ 10 tờ nên trò này tôi không chơi đâu! \n",
    "\n",
    "Mai cười: \n",
    "- Như vậy trung bình mỗi lần thảy anh được bao nhiêu tờ?\n",
    "\n",
    "Parker: \n",
    "- Lỗ thì có! $\\frac{-10}{100}=-\\frac{1}{10}$ \n",
    "    Mai: \n",
    "    - Tôi có thể gom những phép tính anh đã làm như sau:\n",
    "    \n",
    "    $$\\frac{0.7 \\times 100 \\times (-1) +0.3 \\times 100 \\times 2}{100}= 0.7  \\times (-1) +0.3\\times 2 = -0.1$$\n",
    "\n",
    "Có một cách ngắn hơn để trả lời câu hỏi này. Đó là sử dụng khái niệm kỳ vọng.\n",
    "    Nếu X là một biến ngẫu nhiên rời rạc với các giá trị $x_1,x_2,...$ và các xác suất tương ứng\n",
    "là $p_1,p_2,...$ với tổng bằng 1, thì kỳ vọng, kí hiệu là $\\mathrm {E} [X]$ hoặc $\\mu$\n",
    "    chính là trung bình tổng thể và\n",
    "    $$ \\mathrm {E} [X]=\\sum _{i}p_{i}x_{i}\\,$$\n",
    "Như vậy, quay trở lại câu hỏi hồi nãy, thì nếu gọi X là số giấy anh có được sau mỗi lần thảy\n",
    "thì xác suất anh được 2 tờ bằng xác suất mặt sấp bằng 0.3, xác suất anh mất 1 tờ bằng xác suất mặt\n",
    "ngửa và bằng 0.7. Như vậy, trung bình mỗi lần thảy anh được \n",
    "    $\\mu=0.3\\times 2 + 0.7 \\times (-1)=-0.1$\n",
    "\n",
    "Chúng ta ước lượng trung bình tổng thể (kỳ vọng) bằng trung bình mẫu. Như vậy, nếu trong\n",
    "mẫu có các giá trị $-1 \\;\\;\\; -1 \\;\\;\\; -1 \\;\\;\\;....\\;\\;\\; 2\\;\\;\\; 2$ trong đó có 70 số -1, 30 số 2\n",
    "thì trung bình mẫu là $$\\frac{-1+-1+...+-1+2+...+2}{100}=-0.1$$\n",
    "\n",
    "Trung bình mẫu là ước lượng không chệch của trung bình tổng thể (kỳ vọng). Tức là\n",
    "$E(\\overline{X})=\\mu$. Sau này học luật số lớn thì anh sẽ thấy, điều này có nghĩa là khi chúng ta\n",
    "thu thập càng nhiều dữ liệu thì trung bình mẫu sẽ tiến càng gần đến trung bình tổng thể (kỳ vọng)\n",
    "\n",
    "Một số tính chất cơ bản của kỳ vọng: Với hai biến ngẫu nhiên $X$ và Y bất kỳ (được định nghĩa trên cùng một\n",
    "    không gian xác suất) và hai số thực bất kỳ $a,b$:\n",
    "\n",
    "        \n",
    "<ul>\n",
    "    <li>$ \\mathrm {E} [aX+bY]=a\\mathrm {E} [X]+b\\mathrm {E} [Y]\\,$\n",
    "</li>\n",
    "    <li>$|\\mathrm {E} [X]|\\leq \\mathrm {E} [|X|]$</li>\n",
    "</ul>\n"
   ]
  },
  {
   "cell_type": "markdown",
   "metadata": {},
   "source": [
    " <footer id=\"main-footer\">\n",
    "        <hr color = \"black\" width=\"400px\">\n",
    "    <center> Copyright &copy; 2019 Ellie Nguyen. All rights reserved.</center>\n",
    "</footer>"
   ]
  }
 ],
 "metadata": {
  "kernelspec": {
   "display_name": "Python 3",
   "language": "python",
   "name": "python3"
  },
  "language_info": {
   "codemirror_mode": {
    "name": "ipython",
    "version": 3
   },
   "file_extension": ".py",
   "mimetype": "text/x-python",
   "name": "python",
   "nbconvert_exporter": "python",
   "pygments_lexer": "ipython3",
   "version": "3.8.3"
  }
 },
 "nbformat": 4,
 "nbformat_minor": 4
}
