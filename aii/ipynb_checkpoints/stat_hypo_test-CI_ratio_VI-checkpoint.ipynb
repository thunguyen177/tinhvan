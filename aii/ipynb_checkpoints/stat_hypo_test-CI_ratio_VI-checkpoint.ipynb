{
 "cells": [
  {
   "cell_type": "markdown",
   "metadata": {},
   "source": [
    "<a href='https://ellienguyen.style/'><font color=\"green\"> <b> <center> Ellie V  </center> </b></font> </a>"
   ]
  },
  {
   "cell_type": "markdown",
   "metadata": {},
   "source": [
    "<font color=\"green\"> <b> <center> Kiểm định giả thuyết và khoảng tin cậy cho tỉ lệ</center> </b></font>   \n",
    "Giả sử chúng ta có mô hình nhị thức (binomial) với n phép thử và xác suất thành công\n",
    "trong mỗi phép thử là $p$. Gọi X là số lần thành công trong n phép thử.\n",
    "Ta ước lượng $p$ bằng $\\hat{p}=\\frac{X}{n}$. \n",
    "Ta nhớ lại rằng nếu $X\\sim Binom(n,p)$ thì trong phần định lý giới hạn trung tâm,\n",
    "chúng ta đã biết được rằng khi n đủ lớn:\n",
    " $$z=\\frac{\\hat{p}-p}{\\sqrt{p(1-p)/n}}\\approx N(0,1)$$\n",
    "Như vậy, để kiểm định giả thuyết cho $p$, ta có thể sử dụng thống kê\n",
    "$$\\frac{\\hat{p}-p}{\\sqrt{p(1-p)/n}}$$\n",
    "Khoảng tin cậy $1-\\alpha$ cho $p$ là\n",
    "$$\\left[\\hat{p}-z_{\\alpha/2}\\sqrt{p(1-p)/n}, \\hat{p}+z_{\\alpha/2}\\sqrt{p(1-p)/n}\\right]$$\n",
    "Ở đây, ta đã sử dụng định lý giới hạn trung tâm để xấp xỉ. Do đó,ta phải kiểm tra những\n",
    "điều kiện giống  như khi ta xấp xỉ phân phối nhị thức bằng phân phối chuẩn, đó là\n",
    "$n\\hat{p}\\ge 5, n(1-\\hat{p})\\ge 5$.\n",
    "\n",
    "Để biết được cỡ mẫu đủ lớn để đạt được độ chính xác $1-\\alpha$, ta giải phương trình\n",
    "teo n tương tự như khi tìm khoảng tin cậy cho trung bình.\n"
   ]
  },
  {
   "cell_type": "markdown",
   "metadata": {},
   "source": [
    "Ví dụ:Theo tờ \"USA today\" thì 5% người Mỹ đã thấy người ngoài hành tinh. Để kiểm\n",
    "định xem điều này là đúng hay sai, bạn khảo sát bằng cách hỏi ngẫu nhiên 300 người. Trong\n",
    "những người tham gia khảo sát thì có 7% trả lời là đã thấy. Ở mức tin cậy 1%, liệu\n",
    "chúng ta có thể bác bỏ báo cáo của tờ \"USA today\"?\n",
    "\n",
    "Trả lời: \n",
    "\n",
    "Ta kiểm định $H_0: p=0.05$ và $H_1: p\\neq 0.05$.\n",
    "Để sử dụng kết quả đã bàn phía trên, trước tiên chúng ta kiểm tra điều kiện\n",
    "$n\\hat{p}\\ge 5, n(1-\\hat{p})\\ge 5$. Ta có, $n=300$ và dưới $H_0$ thì $p=0.05$ .\n",
    "Do đó, $n\\hat{p}=15\\ge 5, n(1-\\hat{p})\\ge 5$, nên ta có thể sử dụng phép xấp xỉ bên trên.\n",
    "\n",
    "Ta có $z_{\\alpha/2}=2.58$  nên vùng bác bỏ là $z\\le -2.58$ và $z\\ge 2.58$.\n",
    " Lại có\n",
    "$$z=\\frac{\\hat{p}-p}{\\sqrt{p(1-p)/n}}=\\frac{\\hat{0.07}-0.05}{\\sqrt{0.05(1-0.05)/300}}=1.59$$\n",
    "Như vậy, $z$  không nằm trong vùng bác bỏ nên ta không có đủ bằng chứng để bác bỏ $H_0$.\n",
    "\n",
    "Ta cũng có thể tính p-value\n",
    "Ở đây, ta cũng xấp xỉ được khoảng tin cậy 0.99 cho $p$ là\n",
    "$$\\left[.07-z_{0.01/2}\\sqrt{0.05(1-0.05)/300}, 0.07+z_{0.01/2}\\sqrt{0.05(1-0.05)/300}\\right] $$"
   ]
  },
  {
   "cell_type": "markdown",
   "metadata": {},
   "source": [
    " <footer id=\"main-footer\">\n",
    "        <hr color = \"black\" width=\"400px\">\n",
    "    <center> Copyright &copy; 2019 Ellie Nguyen. All rights reserved.</center>\n",
    "</footer>"
   ]
  }
 ],
 "metadata": {
  "kernelspec": {
   "display_name": "Python 3",
   "language": "python",
   "name": "python3"
  },
  "language_info": {
   "codemirror_mode": {
    "name": "ipython",
    "version": 3
   },
   "file_extension": ".py",
   "mimetype": "text/x-python",
   "name": "python",
   "nbconvert_exporter": "python",
   "pygments_lexer": "ipython3",
   "version": "3.8.3"
  }
 },
 "nbformat": 4,
 "nbformat_minor": 4
}
