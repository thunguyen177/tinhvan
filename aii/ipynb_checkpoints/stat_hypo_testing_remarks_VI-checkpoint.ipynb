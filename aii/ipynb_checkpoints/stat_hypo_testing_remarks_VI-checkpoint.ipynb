{
 "cells": [
  {
   "cell_type": "markdown",
   "metadata": {},
   "source": [
    "<a href='https://ellienguyen.style/'><font color=\"green\"> <b> <center> Ellie V  </center> </b></font> </a>"
   ]
  },
  {
   "cell_type": "markdown",
   "metadata": {},
   "source": [
    "Một số lưu ý quan trọng trong kiểm định giả thuyết thống kê \n",
    "<font color=\"green\"> <b> <center> Bàn về p-value</center> </b></font>  \n",
    "\n",
    "P-value:  Trong một thí dụ ông đưa ra có p-value  nhỏ hơn hoặc bằng 0.01, Fisher nói rằng\n",
    "chỉ một trong 100 giá trị sẽ sẽ vượt quá thống kê đã được tính  một cách ngẫu nhiên. Do đó thì\n",
    "sự khác biệt giữa các kết quả là rất  đáng kể (significant).\n",
    "cụm từ “đáng kể” (significant) có thể xem như một dấu hiệu báo cho chúng ta biết rằng xác\n",
    "suất này đủ thấp để bác bỏ giả thuyết $H_0$. Fisher gọi xác suất cho phép chúng ta tuyên bố đáng kể\n",
    "(significant) là p-value.Ông cũng đưa ra một số ví dụ về khái niệm này.\n",
    "\n",
    "Trong một ví dụ Ông cho thấy rằng p-value nhỏ hơn 0.01 và nói: “Chỉ một trong 100 giá trị\n",
    "sẽ vượt quá thống kê đã được tính một cách ngẫu nhiên. Do đó sự khác biệt giữa các kết quả là đáng\n",
    "kể.” Ông cũng từng nói rằng: “... một quan sát được xem là đáng kể (significant) nếu nó khó có thể\n",
    "xảy ra nếu điều mà ta đã giả thuyết là đúng. Thông thường một kết quả có thể được xem như là đáng\n",
    "kể  nếu khả năng điều này xảy ra ngẫu nhiên là không quá một trong 20 phép thử (trials). Đại lượng\n",
    "này tuy bất kỳ nhưng lại tiện lợi. . .” Tuy nhiên thì tùy theo ngành và tùy theo nhà phân tích mà\n",
    "người ta có thể dùng significant level khác nhau để đưa ra kết luận.  Do đó,  trong nhiều bài báo\n",
    "người ta thường ghi giá trị p-value  hơn là chỉ nói bác bỏ hay không bác bỏ giả thuyết ban đầu.\n",
    "\n",
    "<center> <hr color = \"#F333FF\" width=\"400px\"></center> \n",
    "<font color=\"green\"> <b> <center> Bàn về việc bác bỏ $H_0$</center> </b></font>  \n",
    "Ta gợi lại:\n",
    "<b>Các bước để kiểm định giả thuyết </b>\n",
    "0. Chọn giả thuyết $H_0$ \n",
    "1. Giả sử giả thuyết $H_0$ là đúng thì dưới giả thuyết $H_0$, ta suy ra được ...\n",
    "Khi này có 2 trường hợp có thể xảy ra:\n",
    "- tìm được điều vô lý (xác suất xảy ra thấp, tức là p-value thấp): bác bỏ $H_0$\n",
    "- không tìm ra được điều vô lý: không bác bỏ $H_0$\n",
    "\n",
    "\n",
    "Như vậy thì việc không bác bỏ được giả thuyết $H_0$ không hề có nghĩa là $H_0$ đúng mà chỉ\n",
    "có nghĩa là chúng ta chưa tìm được bằng chứng để bác bỏ $H_0$. Do đó mà người ta thường lập giả\n",
    "thuyết $H_0$ là cái mà họ muốn bác bỏ!Một phép kiểm định không bác bỏ giả thuyết $H_0$ thì không có nghĩa $H_0$ là đúng.\n",
    "Chuyện này cũng giống như chúng ta  tấn công một cái pháo đài tên là $H_0$.\n",
    "Súng bắn ná không hạ được cái pháo đài (nếu ta không bác bỏ được $H_0$) thì ta chuyển\n",
    "sang dùng súng aka. Aka không hạ được (ta không bác bỏ được $H_0$)  thì ta chuyển sang dùng súng\n",
    "thần công. Nhiều khi súng thần công mới đủ sức  hạ nổi thành ( ta mới bác bỏ được giả thuyết\n",
    "$H_0$)! Còn nếu không bắn đá, bắn lửa,... vô!\n",
    "\n",
    "<center> <hr color = \"#F333FF\" width=\"400px\"></center> \n",
    "<font color=\"green\"> <b> <center> Những điều đáng tranh cãi liên quan đến việc sử dụng kiểm định giả thuyết thống kê </center> </b></font>  \n",
    "Deming kịch liệt chỉ trích việc sử dụng kiểm định giả thiết thống kê và việc chúng được\n",
    "sử dụng rộng rãi. Ông chỉ ra rằng một câu hỏi thực tiễn không thể là sự khác biệt giữa hai phương\n",
    "pháp A và B  là đáng kể hay không đáng kể. Đối với một sự khác biệt có sẵn nhỏ đến cỡ nào chúng\n",
    "ta cũng có thể tìm ra một số lần làm thí nghiệm sao cho nó trở nên đáng kể (Given a difference.\n",
    ".. however small between them...one can find a... number of repetitions of the experiment...\n",
    "that will produce significance.). Cho nên sự khác biệt là đáng kể hay không thì không quan trọng!\n",
    "Cái quan trọng là độ khác biệt! \n",
    "\n",
    "Giả sử p value bằng 0.05 thì chúng ta có thể hiểu rằng khi ta lặp đi lặp lại thí nghiệm này\n",
    "thật nhiều lần thì trung bình  cứ 20 lần thì mới  có một lần $H_0$ không bị bác bỏ. Nhưng như\n",
    "vậy thì giả sử có 20 người thực hiện một thí nghiệm độc lập với nhau. 19 người kết luận rằng\n",
    "$H_0$: \" gà có trước trứng có sau\" là đúng. Nhưng người thứ 20 lại có p value = 0.05, và người\n",
    "này quyết định bác bỏ giả thuyết hanh, anh ta tuyên bố: \" trứng có trước gà có sau\". Khi đó,\n",
    "bạn nghĩ thế nào?\n",
    "\n",
    "\n",
    "p-value giống như bằng chứng trong xử án vậy. p-value yếu (tức là giá trị của p-value lớn) thì\n",
    "sức cống hiến của nó là nhỏ. Dù nhỏ thì vẫn tốt hơn không có. p-value mạnh (tức là giá trị của p-value\n",
    "thấp) thì bằng chứng này có sức cống hiến lớn hơn, nhưng nó không giúp ta chắc chắn được 100 %\n",
    "là $H_0$ đúng. Bạn cũng có thể liên tưởng điều này đến án oan vậy! Và một lần nữa xin nhấn mạnh\n",
    "rằng, thống kê thì nói đến những khả năng, không phải là sự chắc chắn 100%!\n",
    "\n",
    "Trước những bất cập của kiểm định giả thuyết như vậy thì  nhiều khi, người ta sử dụng\n",
    "thêm một công cụ khác, đó là \"khoảng tin cậy\" (confidence intervals).\n",
    "\n",
    "<center> <hr color = \"#F333FF\" width=\"400px\"></center> \n",
    "\n",
    "Một số phép kiểm định khác chưa được đề cập ở đây:\n",
    "\n",
    "<ul>\n",
    "<li>Kiểm định Chi bình phương cho tính độc lập (Chi square test for independence)</li>\n",
    "<li> Chi square test for goodness of fit thường được dùng để xem dữ liệu có tuân theo một\n",
    "phân phối nhất định hay không</li>\n",
    "<li>Sign test xem median có bằng m hay không </li>\n",
    "<li>Wilcoxon signed-rank test xem 2 mẫu từ cùng một tổng thể có độc lập với nhau hay không </li>\n",
    "<li>Wilcoxon rank sum test xem 2 mẫu <i>độc lập </i> có cùng phân phối hay không </li>\n",
    "<li>Kruskal - Wallis test cho từ 3 mẫu trở lên xem các mẫu <i>độc lập </i> có cùng phân phối hay không </li>\n",
    "</ul>\n"
   ]
  },
  {
   "cell_type": "markdown",
   "metadata": {},
   "source": [
    " <footer id=\"main-footer\">\n",
    "        <hr color = \"black\" width=\"400px\">\n",
    "    <center> Copyright &copy; 2019 Ellie Nguyen. All rights reserved.</center>\n",
    "</footer>"
   ]
  }
 ],
 "metadata": {
  "kernelspec": {
   "display_name": "Python 3",
   "language": "python",
   "name": "python3"
  },
  "language_info": {
   "codemirror_mode": {
    "name": "ipython",
    "version": 3
   },
   "file_extension": ".py",
   "mimetype": "text/x-python",
   "name": "python",
   "nbconvert_exporter": "python",
   "pygments_lexer": "ipython3",
   "version": "3.8.3"
  }
 },
 "nbformat": 4,
 "nbformat_minor": 4
}
