{
 "cells": [
  {
   "cell_type": "markdown",
   "metadata": {},
   "source": [
    "<a href='https://ellienguyen.style/'><b><font color=\"orange\" size = 14>Ellie V</font> </b>\n",
    "</a>  "
   ]
  },
  {
   "cell_type": "markdown",
   "metadata": {},
   "source": [
    "<font color=\"green\" size = 10> <b> The death ratio </b></font> \n",
    "\n",
    "“Doctor, what is the odds that I will survive the impending the operation?”\n",
    "\n",
    "“It’s 50/50, but don’t worry because the first fifty had died already!!”\n",
    "\n",
    "Parker laughed upon reading the meme in the newspaper. \n",
    "\n",
    "“If you were to make the surgery, will you be happy when the doctor said that?” Mai asked.\n",
    "\n",
    "“Why not? The first fifty has already died.” \n",
    "\n",
    "Mai laughed when she heard the answer, “Well, congratulation then.”\n",
    "\n",
    "“Congrat? On what?”\n",
    "\n",
    "“Isn’t it? The result of each operation for each person should be considered as independent random variables. So, the results of the first fifty don’t affect the result of the fifty-one operation. That means the possibility of a failure is 50%.”"
   ]
  },
  {
   "cell_type": "code",
   "execution_count": null,
   "metadata": {},
   "outputs": [],
   "source": []
  }
 ],
 "metadata": {
  "kernelspec": {
   "display_name": "Python 3",
   "language": "python",
   "name": "python3"
  },
  "language_info": {
   "codemirror_mode": {
    "name": "ipython",
    "version": 3
   },
   "file_extension": ".py",
   "mimetype": "text/x-python",
   "name": "python",
   "nbconvert_exporter": "python",
   "pygments_lexer": "ipython3",
   "version": "3.8.3"
  }
 },
 "nbformat": 4,
 "nbformat_minor": 4
}
