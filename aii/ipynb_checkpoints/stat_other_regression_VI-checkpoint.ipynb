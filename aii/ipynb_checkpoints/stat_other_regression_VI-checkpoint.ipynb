{
 "cells": [
  {
   "cell_type": "markdown",
   "metadata": {},
   "source": [
    "<a href='https://ellienguyen.style/'><font color=\"green\"> <b> <center> Ellie V  </center> </b></font> </a>"
   ]
  },
  {
   "cell_type": "markdown",
   "metadata": {},
   "source": [
    "Một số mô hình hồi quy khác \n",
    "<font color=\"green\"> <b> <center> Hồi quy đa thức (polynomial regression)</center> </b></font>  \n",
    "\n",
    " Nếu ta có mô hình $y=\\beta_0+\\beta_1 x$  thì ta cũng có thể\n",
    "có mô hình $y=\\beta_0+\\beta_1 x+\\beta_2 x^2 $  hay\n",
    "$y=\\beta_0+\\beta_1 x +\\beta_2 x^2+\\beta_3 x^3$  hay\n",
    "phương trình có bậc cao hơn. Tuy nhiên, chúng ta cần chú ý đến việc overfitting, tức là sai số\n",
    "trên tập dữ liệu mà chúng ta mô hình hóa (training set) thì thấp nhưng sai số trên dữ liệu ngoài\n",
    "tập dữ liệu này lại cao. Thêm vào đó, qua n điểm, ta luôn có thể tìm được một phương trình\n",
    "bậc n đi qua n điểm này. Chung quy lại, trước khi quyết định thử mô hình nào, chúng ta nên vẽ\n",
    "đồ thị phân tán (scatter plot) trước để có một cái nhìn trực quan về dữ liệu.\n"
   ]
  },
  {
   "cell_type": "markdown",
   "metadata": {},
   "source": [
    "\n",
    "<hr color = \"#F333FF\" width=\"400px\">\n",
    "<a id=\"Least absolute deviation regression\"></a>\n",
    "<h3>Least absolute deviation regression</h3>\n",
    "\n",
    "Trong phương pháp hồi quy tuyến tính thông thường, chúng ta\n",
    "tìm cực tiểu của $\\sum_i(Y_i-a-bX_i)^2$ thay vì dùng $\\sum_i|Y_i-a-bX_i|$. Tuy nhiên, trong\n",
    "Least absolute deviation regression, ta đi tìm cực tiểu của $\\sum_i|Y_i-a-bX_i|$. Chuyện này\n",
    "phức tạp hơn và cần phải sử dụng <i>linear programming</i>. Ta có thể thực hiện điều này trong R\n",
    "bằng cách sử dụng gói lệnh <b>quantreg</b>. Phương pháp này có những lợi điểm sau:\n",
    "\n",
    "- Giảm ảnh hưởng của outlier \n",
    "- (Y|X=x) (là một biến ngẫu nhiên) có đuôi dài \n",
    "- (Y|X=x) không đối xứng và chúng ta muốn ước lượng median thay cho trung bình. \n",
    "Tuy nhiên, khi sử dụng phương pháp này, chúng ta cần\n",
    "để ý xem ước lượng có ổn định (stable) hay không (không ổn định (unstable) có nghĩa là một chút\n",
    "thay đổi trong dữ liệu có thể làm cho giá trị của các ước lượng thay đổi nhiều).\n",
    "\n",
    "<hr color = \"#F333FF\" width=\"400px\">\n",
    "<a id=\"Quantile regression\"></a>\n",
    "<h3>Quantile regression</h3>\n",
    "Lưu ý rằng mô hình $Y=\\beta_0+\\beta_1X+\\epsilon$ cho ta $E(Y)=E(\\beta_0+\\beta_1X+\\epsilon)=\\beta_0+\\beta_1X$\n",
    "(vì $\\beta_0,\\beta_1,X$ là các hằng số và $\\epsilon$ có kỳ vọng bằng 0). Như vậy, chúng ta đi ước lượng trung bình.\n",
    "Tuy nhiên, nhiều khi chúng ta muốn dự đoán những extreme value hơn. Chẳng hạn, khi ta muốn dự đoán những người có thu\n",
    "nhập ở dưới mức nghèo, khi ta muốn ước lượng số loài bị tuyệt chủng trong một vụ tràn dầu trên biển, khi một công ty\n",
    "mỹ phẩm muốn cho ra một mặt hàng xa xỉ thì họ muốn biết tỉ lệ người dân có thể quan tâm và có đủ tiền để mua sản phẩm đó,...\n",
    "\n",
    "Bạn đọc có thể tìm hiểu thêm trên mạng hoặc/và mục quantile regression trong chương 11 của Common Errors in Statistics\n",
    "and how to avoid them.\n",
    "<hr color = \"#F333FF\" width=\"400px\">\n",
    "<a id=\"Error-in-variables regression\"></a>\n",
    "<h3>Error-in-variables regression</h3>\n",
    " Đây là mô hình cho phép chúng ta xem xét cả sai số trong dự đoán biến phụ thuộc lẫn sai số khi đo lường biến độc lập..\n",
    "Mô hình có dạng như sau:\n",
    "$$Y_i=\\beta_0+\\beta_1X_i^*+\\epsilon\\;\\;\\; i =1,...,n$$\n",
    "Trong đó, $X^*$ là biến độc lập mà chúng ta không quan sát được (unobserved regressor). Thay vào đó,\n",
    "cái mà chúng ta quan sát được là\n",
    "$$X_i=X_i^*+\\eta_i\\;\\;\\; i =1,...,n$$\n",
    "Trong đó, ta giả sử sai số $\\eta_i$ là độc lập với $X_i^*$.\n",
    "Xem thêm trên <a href=\"https://en.wikipedia.org/wiki/Errors-in-variables_models\">Wikipedia.</a>\n",
    "\n",
    "<a id=\"Piecewise regression\"></a>\n",
    "<h3>Piecewise regression</h3>\n",
    " phương pháp này có ý tưởng cơ bản là phân mảnh dữ liệu ra và\n",
    "thực hiện hồi quy trên từng phần nhỏ. Xem thêm trên\n",
    "<a href=\"https://newonlinecourses.science.psu.edu/stat501/node/310/\">\n",
    "psu online course</a> \n",
    "<hr color = \"#F333FF\" width=\"400px\">\n",
    " <h3>Hồi quy logistic</h3>\n",
    "Khi Y chỉ nhận 1 trong 2 giá trị là 0 hoặc 1.\n",
    "<a href=\"https://blogtinhvan.blogspot.com/2016/01/hoi-quy-logistics.html\">Xem thêm</a>\n",
    "<hr color = \"#F333FF\" width=\"400px\">\n",
    " Khi nhắc tới white noise (nhiễu trắng), ta thường nghĩ là chả có gì hay ho, nhưng\n",
    "thực ra nó cũng có một ứng dụng khá thú vị được gọi là dội lại ngẫu nhiên\n",
    "(Stochastic resonance).. Khi mà tín hiệu quá yếu để có thể được dò ra bởi sensor, ta có thể làm nó lớn hơn\n",
    "bằng cách thêm nhiễu (white noise)  gồm một quang phổ có độ rộng lớn với nhiều tần số.\n",
    "Những tần số trong nhiễu tương ứng với những tần số trong tín hiệu gốc sẽ va dội vào nhau,\n",
    "khiến cho tín hiệu gốc trở nên to hơn mà không làm nhiễu trở nên lớn hơn, và từ đó, tỉ lệ\n",
    "giữa tín hiệu gốc và nhiễu trở nên lớn hơn. Thêm vào đó, khi này tín hiệu có thể đủ lớn\n",
    "để sensor có thể dò ra được. Sau đó, ta có thể lọc nhiễu để lấy tín hiệu gốc.\n",
    "<!--is a phenomenon where a signal that is normally too weak to be detected by a sensor,\n",
    "can be boosted by adding white noise to the signal, which contains a wide spectrum of\n",
    "frequencies. The frequencies in the white noise corresponding to the original signal's\n",
    "frequencies will resonate with each other, amplifying the original signal while not\n",
    "amplifying the rest of the white noise (thereby increasing the signal-to-noise ratio\n",
    "which makes the original signal more prominent). Further, the added white noise can be\n",
    "enough to be detectable by the sensor, which can then filter it out to effectively detect\n",
    "the original, previously undetectable signal.-->\n"
   ]
  },
  {
   "cell_type": "markdown",
   "metadata": {},
   "source": [
    " <footer id=\"main-footer\">\n",
    "        <hr color = \"black\" width=\"400px\">\n",
    "    <center> Copyright &copy; 2019 Ellie Nguyen. All rights reserved.</center>\n",
    "</footer>"
   ]
  }
 ],
 "metadata": {
  "kernelspec": {
   "display_name": "Python 3",
   "language": "python",
   "name": "python3"
  },
  "language_info": {
   "codemirror_mode": {
    "name": "ipython",
    "version": 3
   },
   "file_extension": ".py",
   "mimetype": "text/x-python",
   "name": "python",
   "nbconvert_exporter": "python",
   "pygments_lexer": "ipython3",
   "version": "3.8.3"
  }
 },
 "nbformat": 4,
 "nbformat_minor": 4
}
