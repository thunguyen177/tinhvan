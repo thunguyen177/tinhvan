{
 "cells": [
  {
   "cell_type": "markdown",
   "metadata": {},
   "source": [
    "<a href='https://ellienguyen.style/'><font color=\"green\"> <b> <center> Ellie V  </center> </b></font> </a>"
   ]
  },
  {
   "cell_type": "markdown",
   "metadata": {},
   "source": [
    "<font color=\"green\"> <b> <center> Outlier và phân phối của những cực điểm</center> </b></font>  \n",
    "- Vậy giả sử tôi muốn xin vào Gogog đi. Mức lương sắp theo thứ tự từ nhỏ đến lớn là\n",
    "$$\\$38 000 , \\$41 000 ,\\$ 45 000 , \\$52 000 ,\\$ 60 000 ,$$\n",
    "$$\\$ 74 000 ,\\$78 000 , \\$87 000 , \\$95 000 ,\\$1 500 000$$ \n",
    "\n",
    "nếu tôi bỏ \\$1 500 000 ra ngoài mẫu thì tôi vẫn có thể dùng trung bình (mean)\n",
    "    đúng không?\n",
    "\n",
    "- Trong trường hợp này thì cũng có thể tạm chấp nhận được!\n",
    "\n",
    "Parker đắc thắng khi gỡ được một phần danh dự:\n",
    "\n",
    "- À há! Vậy là tôi nói cũng có điểm đúng chứ bộ?\n",
    "\n",
    "Mai hơi nhíu mày, quyết không để cậu ta gỡ được quá nhiều:\n",
    "\n",
    "- Tùy từng trường hợp! Nếu anh chắc chắn là outlier xuất hiện do sai sót khi thu thập dữ\n",
    "    liệu hoặc thiết bị đo lường bị hư hỏng\n",
    " thì anh hoàn toàn có thể xóa nó khỏi mẫu. Nhưng nếu không rõ nguyên nhân thì nên    tìm hiểu về nguyên nhân xuất hiện outlier trước.\n",
    "\n",
    "Parker:\n",
    "- Ờ! Nhưng một quan trắc khác các quan trắc trong mẫu đến cỡ nào thì mới được gọi là outlier?\n",
    " Ví dụ như lớn hơn những cái còn lại 100 hay 1000 đơn vị hay sao?\n",
    "- Thông minh quá hen! - Mai cất giọng châm chọc -  Nếu mà như vậy thì chẳng hạn như tôi     có dữ liệu về độ dài cánh bướm tính theo milimet là:\n",
    "\n",
    "34.5mm   31.6mm    30.1mm    32.3mm    23.9mm     27.7mm    28.8mm     35.9mm     27.3mm    45mm\n",
    "\n",
    "thì khi tôi đổi sang nanomet thì được\n",
    "\n",
    "34500000 micromet      31600000 micromet     30100000 micromet     32300000 micromet     23900 000 micromet  \n",
    "\n",
    " 27700 000 micromet       28800 000 micromet     35900 000 micromet      27300 000 micromet     45000 000 micromet\n",
    "\n",
    "như vậy có phải là mỗi con số cũng đã chênh nhau cả hàng ngàn đơn vị rồi không? - rồi Mai tủm tỉm cười - Như vậy chả lẽ quan trắc nào cũng là outlier...??\n",
    "\n",
    "Parker cau có hỏi:\n",
    "- Chứ cô định làm sao?"
   ]
  },
  {
   "cell_type": "markdown",
   "metadata": {},
   "source": [
    "Mai bắt đầu thao thao bất tuyệt:\n",
    "               \n",
    "- Trong thống kê, chúng ta không muốn kết quả phân tích dữ liệu bị ảnh hưởng quá nhiều\n",
    "    bởi đơn vị đo lường mà chúng ta sử dụng. Tôi muốn nhận định mà tôi có được khi sử\n",
    "    dụng nanomet cũng phải giống nhận định mà tôi có được khi sử dụng centimet hay inch\n",
    "    hay mét! Do đó, người ta thường sử dụng những thứ để đo lường độ lớn tương đối của\n",
    "    một hoặc nhiều quan trắc so với các quan trắc khác. Nói chung là thống kê là khoa\n",
    "    học của sự tương đối. Chưa ai định nghĩa outlier một cách cụ thể nhưng trong biểu đồ\n",
    "    hộp (boxplot), những điểm có khả năng là outlier thường được chỉ rõ bằng các dấu sao\n",
    "    hoặc dấu tròn gì đó.\n",
    "- Biểu đồ hộp là cái gì?\n",
    "- Là cái này nè... - Mai nói rồi vạch ra cái biểu đồ\n",
    "    <img src=\"img/stat/boxplot.png\">"
   ]
  },
  {
   "cell_type": "markdown",
   "metadata": {},
   "source": [
    " Parker:\n",
    " - Nhìn giống cái nhà hai ngăn với cái hai cái hàng rào! Sao không gọi là biểu đồ nhà\n",
    "    mà lại gọi là biểu đồ hộp nhỉ?\n",
    "Mai ghét cái vẻ cố tỏ ra vui tính của Parker. Cô nàng châm chọc:\n",
    "- Chắc chỉ có anh mới xây nhà không cửa, không mái để mỗi lần vào phải bay hoặc độn thổ như vậy! Chú ý cái đường đậm chính giữa là <font color=\"#00bfff\">trung vị (median),\n",
    "    2 đường bên cạnh nó là phân vị thứ nhất ($Q_1$), phân vị thứ hai ($Q_3$),\n",
    "    và hai cái hàng rào nhà anh là hai cái giới hạn. Giới hạn dưới $= Q_1 - 1.5 IQR$.\n",
    "    Giới hạn trên $ = Q_3 + 1.5 IQR$. Trong đó, interquantile range là hiệu giữa phân vị thứ\n",
    "    3 và phân vị thứ nhất: $IQR = Q_3-Q_1$.</font> \n",
    "- Yên tâm đi! Nếu tôi xây nhà như vậy, nhất định là xây cho cô ở, không phải cho tôi!\n",
    "Mai \"hứ\" một tiếng rồi tiếp:\n",
    "- Đây là dữ liệu cánh bướm tôi vừa nói\n",
    "    <img src=\"img/stat/butterfly_wingspan.png\"> \n",
    "cái điểm hình tròn không nằm giữa giới hạn trên và giới hạn dưới nên nó có thể được xem\n",
    "    như một outlier. Nói chung, <font color=\"green\">outlier là giá trị có độ lớn khác biệt hẳn so với\n",
    "    các giá trị khác trong dữ liệu,   như thể chúng không thuộc về tổng thể này</font> .\n",
    "- Nhưng chắc trong hầu hết các trường hợp, ta chỉ cần liệng cái outlier ra khỏi dữ liệu là xong nhỉ? Thường ai quan tâm đến cái đó làm gì!\n",
    "Mai trợn mắt làm một tràng:\n",
    "- Nãy tôi vừa nói mà anh không nghe hả?  <font color=\"#ff8c00\">Nếu anh chắc chắn là outlier xuất hiện do sai\n",
    "    sót khi thu thập dữ liệu hoặc thiết bị đo lường bị hư hỏng thì anh hoàn toàn có thể\n",
    "    xóa nó khỏi mẫu. Nhưng nếu không rõ nguyên nhân thì nên tìm hiểu về nguyên nhân xuất\n",
    "    hiện outlier trước. Nhiều khi dữ liệu đến từ những phân phối có đuôi dài (heavy-tail\n",
    "    distribution) thì những cái khá lớn so với những quan trắc còn lại chưa chắc đã là\n",
    "    outlier. </font> Nhiều khi những cực điểm là những cái người ta phải quan tâm đến nhiều nhất!\n",
    "    Liệng cái gì mà liệng! Tui liệng kiến thức vào đầu anh là anh lại liệng trả! Trong\n",
    "    cải tiến quá trình sản xuất sợi bông và vải ở viện Shirley,  thì người ta thấy rằng\n",
    "    một trong những vấn đề nan giải là  độ chắc của một sợi cotton vừa được se.  Lực cần để làm đứt một sợi cotton  thì khác nhau từ sợi này qua sự khác cho dù chúng được xe dưới cùng một điều kiện. Sau khi áp dụng lực  với cường độ khác nhau,  Tippet xem xét sợi chỉ dưới kính hiển vi  về phát hiện ra rằng việc sợi cotton có đứt hay không thì phụ thuộc vào thớ sợi yếu nhất ở bên trong nó.  Đây là một ví dụ điển hình là tại sao chúng ta nên quan tâm đến distribution of the extreme (phân phối của những cực điểm). Đối với người thường, nếu họ biết được phân phối của những cực điểm dính dáng thế nào tới phân phối của những giá trị thông thường thì họ có thể dựa trên chiều cao của những đợt lũ hàng năm để dự đoán chiều cao của đợt lũ lớn nhất trong cả trăm năm.  Dựa vào đó thì người ta có thể tính toán chiều cao tối ưu cho việc đắp đê ngăn lũ.\n",
    "\n",
    "    Parker chửa biết distrution là cái chi chi và hắn hơi bất ngờ trước thái\n",
    "độ hung dữ của Mai nhưng vẫn tỏ ra bình thản:\n",
    "- Ờ, lần này thì tôi nhớ rồi!\n",
    "\n",
    "Nói rồi gã ta quay lưng đi, cốt để cho Mai không thấy mình làm gì rồi ngoáy bút vẽ thật nhanh trên tờ giấy trước mặt những hình con sâu nhỏ, rồi một con sâu róm to đùng, to gấp 5 lần những con còn lại, rồi đọc bùa chú: “This is my drawing! Turn them into real things!\" \n",
    "\n",
    "Giờ Mai mới biết\n",
    "là Parker giở trò với giấy hiện thực (giấy có khả năng biến mọi thứ trong tranh thì hiện thực\n",
    "trong vòng một thời gian ngắn trước khi tan vào hư vô) nhưng quá trễ. Lập tức tờ giấy mỏng biến\n",
    "thành hình những con sâu to gấp mười lần trong tranh bò lồm cồm trên bàn. Mai muốn nghẹt thở khi\n",
    "thấy con sâu róm khổng lồ. Cô nàng đứng bật dậy, hét ầm lên “Á….” rồi bỏ chạy, quên mất là độn\n",
    "thổ thì nhanh hơn. Parker cười khoái trá, hỏi vói theo:\n",
    "\n",
    "- Sâu to như vậy thì đã được xem là outlier chưa?\n",
    "\n",
    "Nhưng khi quay lưng đi gọi khoái trá như vậy thì anh không để ý rằng con sâu bự chảng\n",
    "    bò đang cố bò lên người mình. Khi quay lại, thấy nó đang bò lên thì anh chàng cũng\n",
    "    hét lên, hẩy mình cho nó rơi ra, rồi ... chạy nốt!!!\n",
    "<hr color = \"black\" width=\"400px\">\n",
    "    Bạn đọc quan tâm đến distribution of the extreme có thể tìm hiểu thêm với từ khóa Generalized extreme value distribution. E. J. Gumbel  cũng có một cuốn sách về chủ đề này với tựa đề Statistics of Extremes."
   ]
  },
  {
   "cell_type": "markdown",
   "metadata": {},
   "source": [
    " <footer id=\"main-footer\">\n",
    "        <hr color = \"black\" width=\"400px\">\n",
    "    <center> Copyright &copy; 2019 Ellie Nguyen. All rights reserved.</center>\n",
    "</footer>"
   ]
  }
 ],
 "metadata": {
  "kernelspec": {
   "display_name": "Python 3",
   "language": "python",
   "name": "python3"
  },
  "language_info": {
   "codemirror_mode": {
    "name": "ipython",
    "version": 3
   },
   "file_extension": ".py",
   "mimetype": "text/x-python",
   "name": "python",
   "nbconvert_exporter": "python",
   "pygments_lexer": "ipython3",
   "version": "3.8.3"
  }
 },
 "nbformat": 4,
 "nbformat_minor": 4
}
