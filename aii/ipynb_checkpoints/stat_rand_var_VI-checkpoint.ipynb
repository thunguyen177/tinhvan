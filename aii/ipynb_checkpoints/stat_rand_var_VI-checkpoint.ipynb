{
 "cells": [
  {
   "cell_type": "markdown",
   "metadata": {},
   "source": [
    "<a href='https://ellienguyen.style/'><font color=\"green\"> <b> <center> Ellie V  </center> </b></font> </a>"
   ]
  },
  {
   "cell_type": "markdown",
   "metadata": {},
   "source": [
    "<font color=\"green\"> <b> <center> Biến ngẫu nhiên và định nghĩa cổ điển của xác suất</center> </b></font>  \n",
    "Vẫn phải đi dạy, dù vẫn bực, Mai nhìn Parker hầm hầm như sắp xử trảm tên ấy. Cô nàng đanh giọng nói:\n",
    "-  Hôm nay chúng ta nói về biến ngẫu nhiên. \"Biến\" là biến đổi, \"ngẫu nhiên\" là không có ...không ngẫu nhiên!!! \n",
    "\n",
    "<font color=\"red\">Một biến ngẫu nhiên, thường được kí hiệu là X là một biến có giá trị là kết quả của một hiện tượng\n",
    "ngẫu nhiên.</font> Ví dụ như giới tính người yêu anh có thể là nữ, nam, hoặc đồng giới! Biến này gọi là\n",
    "biến phân loại (categorical variable) vì nó có thể là một trong 3 loại: nữ, nam, hoặc đồng giới!\n",
    "Số lần người đó đi chơi với anh có thể được xem như biến rời rạc (discrete random variable) \n",
    "vì ta có thể liệt kê tất cả các giá trị của nó! Nhưng chiều cao, cân nặng của họ thì là biến\n",
    "liên tục.\n",
    "-  Giới tính người yêu tôi có thể là nữ, nam, hoặc đồng giới? Ý cô là tôi lưỡng tính hả?\n",
    "\n",
    "Mai gờm gờm:\n",
    "- Tôi chỉ đoán thôi!\n",
    "\n",
    "Để xoa dịu cơn giận của Mai, Parker cười đùa:\n",
    "- Không sao! Nếu vậy thật thì càng có nhiều lựa chọn!\n",
    "\n",
    "Mai buột miệng cười, nhưng mau chóng ghìm lại, vì cô nàng vẫn chưa hết cáu về vụ mấy con sâu bữa trước. Parker nhớ lại chuyện hôm trước, nhưng cũng không lấy gì làm nhọ, vì Mai không biết rằng anh chàng cũng chạy mất dép, mấy tiếng sau mới quay lại. Về chuyện chạy mất khi con sâu cố bò lên, lão tự bào chữa với lòng rằng mình không sợ con sâu, mà chỉ là ... sợ nó bò lên người!!!\n",
    "Mai:\n",
    "- Lấy ví dụ khác: lượng hàng bán được của \"Baker Boy\" qua các tháng là biến rời rạc. Đó có thể là một triệu sản phẩm, 1 triệu hai trăm sản phẩm, hoặc hai triệu sản phẩm, tức là đếm được. Nhưng doanh thu của họ qua mỗi tháng là biến ngẫu nhiên liên tục.\n",
    "- Ô kê! - Parker cười, giống như là đi học vui lắm!!\n",
    "\n",
    "Mai lườm nó:\n",
    "\n",
    "- Giờ tôi hỏi anh, giới tính của cá là biến phân loại hay biến liên tục?\n",
    "\n",
    "Parker thản nhiên đáp:\n",
    "- Dĩ nhiên là liên tục!\n",
    "\n",
    "Mai mặt hầm hầm, chuẩn bị tuôn cơn giận. Nhưng Parker biết rẽ lái tức thì:\n",
    "- Đùa thôi! Biến phân loại! Cô vừa nói giới tính người yêu tôi là biến phân loại xong! Giới tính của cá làm sao liên tục được!\n",
    "\n",
    "Mai kiềm lại lửa trên đầu, hỏi tiếp:\n",
    "- Vậy chiều dài con cá là biến ngẫu nhiên liên tục hay rời rạc!\n",
    "\n",
    "Parker:\n",
    "- Liên tục!\n",
    "\n",
    "Mai:\n",
    "- Số lông trên tay anh là biến ngẫu nhiên liên tục hay rời rạc?\n",
    "\n",
    "Biết cô nàng chê mình lắm lông, Parker đổi mặt sang hơi hầm hầm:\n",
    "- Đếm được, nên rời rạc!\n",
    "\n",
    "Mai:\n",
    "- Mà nhân tiện, anh có biết hiện tượng người mọc nhiều lông có tên khoa học là gì không?\n",
    "\n",
    "Parker bắt đầu gờm gờm:\n",
    "- Không!\n",
    "\n",
    "Mai thản nhiên nói, không nhìn mặt nó, không cười (nhưng thực ra là đang nhịn cười):\n",
    "- Hiện tượng ... lại tổ!"
   ]
  },
  {
   "cell_type": "markdown",
   "metadata": {},
   "source": [
    "Mai e hèm một cái rồi tiếp:\n",
    "- Không gian mẫu hay không gian mẫu toàn thể, thường được ký hiệu là $\\Omega$, của một thí nghiệm hay thử ngẫu nhiên là tập hợp tất cả các kết quả có thể xảy ra. Ví dụ, trong thí nghiệm tung một đồng xu, \n",
    "    không gian mẫu sẽ là {ngửa, sấp}. Còn đối với thí nghiệm tung một con xúc xắc thì không gian mẫu \n",
    "    là $\\{1, 2, 3, 4, 5, 6\\}$. Bất kì tập hợp con nào của không gian mẫu đều thường được gọi là một biến cố. Như vậy, một <font color=\"red\">biến cố (event)</font> là một tập các kết quả đầu ra (outcomes). Chẳng hạn,khi tung một con xúc xắc thì $\\{1\\}, \\{2\\},\\{1,2\\}, \\{1, 2, 3, 4, 5, 6\\}$ đều là biến cố.\n",
    "Theo định nghĩa cổ điển của lý thuyết xác suất thì xác suất $P(E)$ của một biến cố $E$ được định nghĩa là $P(E)=\\frac{n}{N}$. Trong đó, n là tổng số outcome có khả năng xảy ra như nhau, n là số lần biến cố \n",
    "    E xảy ra. Nói cách khác, người ta định nghĩa xác suất xảy ra của một biến cố bằng tần suất nó xảy ra. Như vậy thì rõ ràng xác suất của một biến cố luôn nằm giữa 0 và 1 \n",
    "    $(0\\le P(E)\\le 1\\forall \\Omega)$. Ví dụ khi thảy một đồng xu cân bằng thì xác suất mặt ngửa\n",
    "    là $P(\\text{ngửa})=\\frac{1}{2}$.\n",
    "    \n",
    "Rồi Mai lại tiếp tục giở một cái giọng rất ... Mai:\n",
    "- Một ví dụ khác gần gũi hơn như nếu xác suất anh bắn tên trúng bia tâm bia đỡ là 0.2 thì về lâu về dài, khi anh bắn càng nhiều tên thì trung bình cứ mười lần chỉ trúng có hai lần! Khi anh đi săn tập thể, muông thú sẽ rất biết ơn anh vì thay vì để người thạo săn bắn hạ gục con thú, anh sẽ giành cơ hội để thể hiện mình nhưng cuối cùng bắn không trúng và để cho con thú nó chạy mất!\n",
    "\n",
    "Parker biết là Mai đã đã nhìn thấy mình tập bắn tên. Mặt nó hầm hầm, vừa tức vừa xấu hổ. Mai mặc kệ:\n",
    "- Nếu điều gì có xác suất nó xảy ra bằng 1 thì chắc chắn điều đó sẽ xảy ra. Ví dụ: Để ước đoán khả năng anh sẽ thay bạn gái trong vòng một tháng tới, tôi sẽ ước tính xác suất của biến cố \n",
    "    E: \"anh thay bạn gái trong vòng một tháng\". Nhưng nghe đâu, anh chưa có mối tình nào kéo dài quá một tháng nên biến cố E\n",
    "    này dĩ nhiên có xác suất bằng 1. Nếu điều gì có xác suất nó xảy ra bằng 0  thì  chắc chắn \n",
    "    điều đó sẽ không xảy ra. Ví dụ, anh thông minh hơn tôi là một điều có xác suất xảy ra bằng 0, \n",
    "    tức là đây là điều không thể xảy ra!\n",
    "\n",
    "Parker nghe rất tức nhưng không làm được gì vì những điều Mai nói không có cái gì là sai!!!"
   ]
  },
  {
   "cell_type": "markdown",
   "metadata": {},
   "source": [
    " <footer id=\"main-footer\">\n",
    "        <hr color = \"black\" width=\"400px\">\n",
    "    <center> Copyright &copy; 2019 Ellie Nguyen. All rights reserved.</center>\n",
    "</footer>"
   ]
  }
 ],
 "metadata": {
  "kernelspec": {
   "display_name": "Python 3",
   "language": "python",
   "name": "python3"
  },
  "language_info": {
   "codemirror_mode": {
    "name": "ipython",
    "version": 3
   },
   "file_extension": ".py",
   "mimetype": "text/x-python",
   "name": "python",
   "nbconvert_exporter": "python",
   "pygments_lexer": "ipython3",
   "version": "3.8.3"
  }
 },
 "nbformat": 4,
 "nbformat_minor": 4
}
