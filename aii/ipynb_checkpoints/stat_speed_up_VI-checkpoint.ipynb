{
 "cells": [
  {
   "cell_type": "markdown",
   "metadata": {},
   "source": [
    "<a href='https://ellienguyen.style/'><font color=\"green\"> <b> <center> Ellie V  </center> </b></font> </a>\n",
    "\n",
    "<font color=\"green\" size = 10> <b> <center> Vua tốc độ </center> </b></font> \n",
    "\n",
    "Mai hét lên\n",
    "-Đi chậm thôi!\n",
    "\n",
    "Parker nhanh chóng đáp\n",
    "- Ừ, nhưng từ từ đã. - Nói rồi anh chàng phóng xe còn nhanh hơn, lại đúng lúc phi qua chỗ ngã tư.\n",
    "\n",
    "Mai tròn xoa mắt:\n",
    "- Anh bị cái gì vậy? Tôi bảo anh đi chậm lại mà anh phóng còn nhanh hơn nữa là sao?\n",
    "\n",
    "Parker cười:\n",
    "- Thì giờ tôi châm lại rồi đó thôi. Tôi tưởng cái này cô phải rõ hơn tôi chứ?\n",
    "\n",
    "- Rõ cái gì? \n",
    "\n",
    "- Giao lộ là chỗ hay xảy ra tai nạn. Nên tôi phóng nhanh qua chỗ đó hơn để giảm xác suất bị tông.\n",
    "\n",
    "- Thôi được rồi, ngài \"thông thái\". Vậy anh cho tôi hỏi là anh dùng phân phối nào để mô hình số vụ tai nạn giao thông ở ngã tư, và phân phối nào để mô hình thời gian tắc đường sau một vụ tai nạn?\n",
    "\n",
    "- ..."
   ]
  },
  {
   "cell_type": "markdown",
   "metadata": {},
   "source": [
    "<font color=\"green\"> <b> <center> Phân phối Poisson</center> </b></font>  \n",
    "Phân phối Poisson được áp dụng cho nhiều hiện tượng với xác suất để sự kiện (hiện tượng)\n",
    "đó xảy ra là không đổi trong suốt khoảng (thời gian, không gian) đó. Các ví dụ sau được mô\n",
    "hình theo phân phối Poisson: \n",
    "- Số lượng xe đi ngang qua 1 căn nhà trong một khoảng thời gian cho trước. \n",
    "- Số cuộc điện thoại được gọi tới tổng đài trong mỗi phút. \n",
    "- Số lần truy cập vào một trang web trong mỗi phút. \n",
    "- Số tai nạn trên một đoạn đường \n",
    "- Số lượng bài báo khoa học của mỗi học giả trong suốt cuộc đời. \n",
    "\n"
   ]
  },
  {
   "cell_type": "markdown",
   "metadata": {},
   "source": [
    "<font color=\"green\"> <b> <center> Phân phối mũ (phân phối đãng trí)</center> </b></font>  \n",
    "Mai: \n",
    "- Sao tôi giao bài tập mà anh không làm? \n",
    "Parker: \n",
    "- Tôi quên! \n",
    "Mai tròn mắt, vẻ hơi giận: \n",
    "- Anh đãng trí đến mức đó cơ á? \n",
    "Parker: \n",
    "- Ừ! Tôi đãng trí vậy á! Có cách nào mô tả sự đãng trí bằng xác suất thống kê không? \n",
    "Mai cười: \n",
    "- Có chứ!  Một biến ngẫu nhiên X được gọi là có phân phối mũ với tỉ lệ (rate) $\\lambda$, kí hiệu là\n",
    "$X\\sim exp(\\lambda)$ nếu\n",
    "hàm mật độ xác suất của nó có dạng:\n",
    "$$f(x;\\lambda )=\\left\\{{\\begin{matrix}\\lambda e^{-\\lambda x}&,\\;x\\geq 0,\\\\0&,\\;x<0.\\end{matrix}}\\right.$$\n",
    "\n",
    "Khi đó, $\\mathbf {E} [X]={\\frac {1}{\\lambda }}$  và  $Var(X)=\\frac {1}{\\lambda ^{2}}$. \n",
    " Ta ước lượng tỉ lệ (rate) $\\lambda$ bằng   nghịch đảo của trung bình mẫu: $\\widehat {\\lambda }=\\frac {1}{\\overline {x}}$. \n",
    "\n",
    "Hàm phân bố tích lũy của phân phối mũ là:\n",
    " $$F(x;\\lambda )=\\left\\{{\\begin{matrix}1-e^{-\\lambda x}&,\\;x\\geq 0,\\\\0&,\\;x<0.\\end{matrix}}\\right.$$\n",
    "\n",
    "Một tính chất quan trọng của phân phối mũ là nó không nhớ. Nghĩa là nếu một biến ngẫu nhiên T\n",
    "có phân phối mũ thì:\n",
    "$$ P(T>s+t\\;|\\;T>t)=P(T>s)\\;\\;\\forall\\ s,t\\geq 0.$$\n",
    "Ví dụ: $P(T > 40 | T > 30) = P(T > 10)$ . Điều này có nghĩa là  xác suất điều kiện rằng ta cần đợi, chẳng hạn, 10 phút nữa trước\n",
    "khi cú điện thoại tiếp theo được gọi đến, biết rằng ta đã đợi nó 30 phút rồi,\n",
    "không khác gì với xác suất cho việc ta cần đợi thêm 10 phút nữa cho đến khi cú điện thoại\n",
    "tiếp theo được gọi đến, biết rằng ta vừa mới bắt đầu quá trình đợi.\n",
    "\n",
    "Tuy nhiên, $P(T > 40 | T > 30) = P(T > 10)$ không có nghĩa rằng các biến cố\n",
    "$T > 40$ và $T > 30$ là độc lập vì\n",
    "$P(T>40\\mid T>30)=P(T>10)$(không nhớ)$\\neq   P(T>40\\mid T>30)=P(T>40)$(độc  lập) \n",
    "\n",
    " Một số ví dụ về việc mô hình hóa sử dụng phân phối mũ: \n",
    "\n",
    "- Thời gian cho đến khi một vụ tai nạn giao thông xảy ra lần nữa trên một đoạn đường \n",
    "- Thời gian cho đến khi một hạt phóng xạ phân rã\n",
    "\n",
    "- Khoảng cách giữa các đột biến trên một sợi ADN \n",
    "\n",
    "- Khoảng cách giữa hai đoạn hay xảy ra tai nạn trên một con đường cho trước.\n"
   ]
  },
  {
   "cell_type": "markdown",
   "metadata": {},
   "source": [
    " <footer id=\"main-footer\">\n",
    "        <hr color = \"black\" width=\"400px\">\n",
    "    <center> Copyright &copy; 2019 Ellie Nguyen. All rights reserved.</center>\n",
    "</footer>"
   ]
  }
 ],
 "metadata": {
  "kernelspec": {
   "display_name": "Python 3",
   "language": "python",
   "name": "python3"
  },
  "language_info": {
   "codemirror_mode": {
    "name": "ipython",
    "version": 3
   },
   "file_extension": ".py",
   "mimetype": "text/x-python",
   "name": "python",
   "nbconvert_exporter": "python",
   "pygments_lexer": "ipython3",
   "version": "3.8.3"
  }
 },
 "nbformat": 4,
 "nbformat_minor": 4
}
