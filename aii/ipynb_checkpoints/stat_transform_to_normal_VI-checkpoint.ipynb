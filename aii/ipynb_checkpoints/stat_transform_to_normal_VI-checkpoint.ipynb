{
 "cells": [
  {
   "cell_type": "markdown",
   "metadata": {},
   "source": [
    "<a href='https://ellienguyen.style/'><font color=\"green\"> <b> <center> Ellie V  </center> </b></font> </a>"
   ]
  },
  {
   "cell_type": "markdown",
   "metadata": {},
   "source": [
    "<font color=\"green\"> <b> <center> Sử dụng phép biến đổi (transformation)</center> </b></font>  \n",
    "Không phải khi nào các điều kiện: tuyến tính, phương sai là hằng số,\n",
    "tuân theo phân phối chuẩn cũng được thỏa mãn. Khi đó, ta có thể biến đổi (transform X, Y hoặc\n",
    "cả hai). \n",
    "<img src=\"img/stat/transform_X.png\" width=\"400\" height=\"400\">\n",
    "\n",
    "Tại sao lại đổi biến như vậy và tại sao trong trường hợp này, ta biến đổi X chứ không biến đổi\n",
    "Y thì ta có thể liên tưởng đến hàm số thông thường. Ví dụ như\n",
    "hình thứ nhất ở trong 3 cái bên trên: Giả sử\n",
    "ta có hàm $y=f(x)=x^2$. Như vậy thì $x=\\sqrt{y}$  Khi đó, nếu ta đặt $z=\\sqrt{y}$\n",
    "thì ta có đường thẳng $z=x$. Dĩ nhiên, đường hồi quy không nhất thiết có dạng như vậy\n",
    "nhưng mà  phép biến đổi như vậy  nó giúp giảm độ cong, cho\n",
    "đường hồi quy thẳng hơn. \n",
    "<font color=\"#ff1493\"> Nếu một số giá trị của X là gần 0 mà ta lại cần phép biến đổi\n",
    "nghịch đảo thì ta có thể cộng thêm hằng số vào mẫu, tức là thực hiện phép biến đổi\n",
    "$X'=\\frac{1}{X+k}$ với k là hằng số ta chọn. </font>\n",
    "\n",
    "<center> <hr color = \"yellow\" width=\"300px\"></center> \n",
    "Khi nhìn vào hình sau, các bạn chú ý phần màu ống loe. Đây chính là khi chúng ta thực hiện\n",
    "phép biến đổi trên Y.\n",
    "<img src=\"img/stat/transform_Y.png\" width=\"400\" height=\"400\"> \n",
    "Để hiểu nguyên nhân biến đổi như vậy, chúng ta tưởng tượng là ta hoán đổi X,Y và liên tưởng\n",
    "lại như ở mục phép biến đổi với X.\n",
    "\n",
    "<font color=\"#ff8c00\"> Đôi khi, chúng ta muốn sử dụng phép biến đổi $\\log$  mà có một số\n",
    "giá trị của Y là âm. Khi đó, chúng ta cộng Y với một hằng số k để cho hết âm, tức là\n",
    "thực hiện phép biến đổi $Y'=\\log_{10}(Y+k)$  với k là hằng số mà chúng ta chọn. </font>\n",
    "<hr color = \"yellow\" width=\"300px\">\n",
    "Ngoài những phép biến đổi cơ bản trên ra, phép biến đổi Box-Cox  (Box-Cox transformation)\n",
    "cũng được sử dụng khá phổ biến. "
   ]
  },
  {
   "cell_type": "markdown",
   "metadata": {},
   "source": [
    " <footer id=\"main-footer\">\n",
    "        <hr color = \"black\" width=\"400px\">\n",
    "    <center> Copyright &copy; 2019 Ellie Nguyen. All rights reserved.</center>\n",
    "</footer>"
   ]
  }
 ],
 "metadata": {
  "kernelspec": {
   "display_name": "Python 3",
   "language": "python",
   "name": "python3"
  },
  "language_info": {
   "codemirror_mode": {
    "name": "ipython",
    "version": 3
   },
   "file_extension": ".py",
   "mimetype": "text/x-python",
   "name": "python",
   "nbconvert_exporter": "python",
   "pygments_lexer": "ipython3",
   "version": "3.8.3"
  }
 },
 "nbformat": 4,
 "nbformat_minor": 4
}
