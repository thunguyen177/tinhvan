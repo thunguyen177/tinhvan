{
 "cells": [
  {
   "cell_type": "markdown",
   "metadata": {},
   "source": [
    "\n",
    "How do we cook? \n",
    "Before coming to US, mommy cook for me. So,...\n",
    "However, I know something from statistics that can help me. That's a `mixture model`, which also remind me of the `cám lợn` that I have to cook for the pigs, when I was small.\n",
    "\n",
    "Yes! We just throw arbitrary things that are available in the fridge into a pot. This is a real world `mixture model`, which can be used for both classification and clustering. After the pot has boiled for about 15 minutes, the proteins from meat/bones/fishes start to cluster on the surface. Even though `expectation maximization` is a common procedure for estimating parameters in this model but I must admit that the expectation that I got for my dishes are usually minimal! "
   ]
  },
  {
   "cell_type": "code",
   "execution_count": null,
   "metadata": {},
   "outputs": [],
   "source": []
  }
 ],
 "metadata": {
  "kernelspec": {
   "display_name": "Python 3",
   "language": "python",
   "name": "python3"
  },
  "language_info": {
   "codemirror_mode": {
    "name": "ipython",
    "version": 3
   },
   "file_extension": ".py",
   "mimetype": "text/x-python",
   "name": "python",
   "nbconvert_exporter": "python",
   "pygments_lexer": "ipython3",
   "version": "3.7.4"
  }
 },
 "nbformat": 4,
 "nbformat_minor": 2
}
