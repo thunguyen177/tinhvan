{
 "cells": [
  {
   "cell_type": "markdown",
   "metadata": {},
   "source": [
    "## Ridge regression\n",
    "\n",
    "- *From: Efficient quadratic regularization for expression arrays*: The solution to **Ridge regression** is $\\hat{\\beta}=(X^TX+\\lambda I)^{-1}X^Ty$. Note that $X^TX + \\lambda I$ is now invertible. Therefore, Ridge regression can be use for $p>>n$ problems. In addition, the effect of the penalty term is to constrain the size of the coefficients by shrinking them toward zero. A more subtle effect is that coefficients of correlated variables are shrunk toward each other as well as toward zero."
   ]
  },
  {
   "cell_type": "markdown",
   "metadata": {},
   "source": [
    "## References:\n",
    "bitex:\n",
    "\n",
    "@article{hastie2004efficient,\n",
    "  title={Efficient quadratic regularization for expression arrays},\n",
    "  author={Hastie, Trevor and Tibshirani, Robert},\n",
    "  journal={Biostatistics},\n",
    "  volume={5},\n",
    "  number={3},\n",
    "  pages={329--340},\n",
    "  year={2004},\n",
    "  publisher={Oxford University Press}\n",
    "}"
   ]
  },
  {
   "cell_type": "code",
   "execution_count": null,
   "metadata": {},
   "outputs": [],
   "source": []
  }
 ],
 "metadata": {
  "kernelspec": {
   "display_name": "Python 3",
   "language": "python",
   "name": "python3"
  },
  "language_info": {
   "codemirror_mode": {
    "name": "ipython",
    "version": 3
   },
   "file_extension": ".py",
   "mimetype": "text/x-python",
   "name": "python",
   "nbconvert_exporter": "python",
   "pygments_lexer": "ipython3",
   "version": "3.7.4"
  }
 },
 "nbformat": 4,
 "nbformat_minor": 2
}
