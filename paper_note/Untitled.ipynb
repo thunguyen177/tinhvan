{
 "cells": [
  {
   "cell_type": "code",
   "execution_count": null,
   "metadata": {},
   "outputs": [],
   "source": [
    "@article{tsamardinos2019greedy,\n",
    "  title={A greedy feature selection algorithm for Big Data of high dimensionality},\n",
    "  author={Tsamardinos, Ioannis and Borboudakis, Giorgos and Katsogridakis, Pavlos and Pratikakis, Polyvios and Christophides, Vassilis},\n",
    "  journal={Machine learning},\n",
    "  volume={108},\n",
    "  number={2},\n",
    "  pages={149--202},\n",
    "  year={2019},\n",
    "  publisher={Springer}\n",
    "}\n",
    "\n",
    "@article{borboudakis2019forward,\n",
    "  title={Forward-backward selection with early dropping},\n",
    "  author={Borboudakis, Giorgos and Tsamardinos, Ioannis},\n",
    "  journal={The Journal of Machine Learning Research},\n",
    "  volume={20},\n",
    "  number={1},\n",
    "  pages={276--314},\n",
    "  year={2019},\n",
    "  publisher={JMLR. org}\n",
    "}"
   ]
  }
 ],
 "metadata": {
  "kernelspec": {
   "display_name": "Python 3",
   "language": "python",
   "name": "python3"
  },
  "language_info": {
   "codemirror_mode": {
    "name": "ipython",
    "version": 3
   },
   "file_extension": ".py",
   "mimetype": "text/x-python",
   "name": "python",
   "nbconvert_exporter": "python",
   "pygments_lexer": "ipython3",
   "version": "3.7.4"
  }
 },
 "nbformat": 4,
 "nbformat_minor": 2
}
