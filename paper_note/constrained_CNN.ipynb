{
 "cells": [
  {
   "cell_type": "markdown",
   "metadata": {},
   "source": [
    "# Constrained Convolutional Neural Networks for Weakly Supervised Segmentation\n",
    "\n",
    "<a href='https://www.cv-foundation.org/openaccess/content_iccv_2015/papers/Pathak_Constrained_Convolutional_Neural_ICCV_2015_paper.pdf'>paper link</a> \n",
    "\n",
    "In this paper, the authors propose a loss function to optimize convolutional neural networks with abitrary linear constraints on the structured output space of pixel labels.\n",
    "\n",
    "Let $\\overrightarrow{Q}$ be the vectorized softmax output. The Constrained CNN (CCNN) optimization problem can be formulated as:       \n",
    "   <font color=\"red\"> Find $\\theta$ such that $A_I\\overrightarrow{Q}\\ge \\overrightarrow{b}_I \\forall I$ </font> \n",
    "        \n",
    "where $A_I \\in \\mathbb{R}^{k\\times nm}, \\overrightarrow{b}_I\\in \\mathbb{R} ^k$ enforce $k$ individual linear constraints on the output distribution of the networks on image $I$. \n",
    "\n",
    "This problem is generally not convex with respect to the network parameters. To optimize the above problem, the authors introduce a latent probability distribution `P(X)` over the semantic labels `X`. They constrain $P(X)$ to lie in the feasibility region of the constrained objective while removing the constraints on the network output `Q`. After that, they encourage P and Q to \n",
    "model the same probability distribution by minimizing their KL-divergence. This result in a new problem that is much easier to optimize: <font color=\"red\"> $\\min_{\\theta,P} D(P(X)||Q(X|\\theta))$ such that $A\\overrightarrow{P}\\ge \\overrightarrow{b}, \\sum_XP(X)=1$, </font> where $D(P(X)||Q(X|\\theta)) =  \\sum_XP(X)\\log P(X)-\\mathbb{E}[\\log Q(X|\\theta)]$ and $\\overrightarrow{P}$ is the vectorized version of $P(X)$.\n",
    "\n",
    "We can also relax the problem by adding a slack variable $\\xi$ like in SVM. Details of this and the optimization process are in the papers.\n",
    "\n",
    "\n",
    "**Possible constraints** (more details are in the paper):\n",
    "\n",
    "- Lower and upper bounds on the expected number of foreground and background pixel labels in a scene. \n",
    "\n",
    "- Suppression constraint: to suppress any label that does not appear in the image.\n",
    "\n",
    "- Size constraint"
   ]
  },
  {
   "cell_type": "code",
   "execution_count": null,
   "metadata": {},
   "outputs": [],
   "source": []
  }
 ],
 "metadata": {
  "kernelspec": {
   "display_name": "Python 3",
   "language": "python",
   "name": "python3"
  },
  "language_info": {
   "codemirror_mode": {
    "name": "ipython",
    "version": 3
   },
   "file_extension": ".py",
   "mimetype": "text/x-python",
   "name": "python",
   "nbconvert_exporter": "python",
   "pygments_lexer": "ipython3",
   "version": "3.7.4"
  }
 },
 "nbformat": 4,
 "nbformat_minor": 2
}
