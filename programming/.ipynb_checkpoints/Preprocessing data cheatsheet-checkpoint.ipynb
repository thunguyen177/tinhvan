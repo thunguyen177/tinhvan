{
 "cells": [
  {
   "cell_type": "markdown",
   "metadata": {},
   "source": [
    "<a href='https://ellienguyen.style/'><font color=\"green\"> <b> <center> Ellie V  </center> </b></font> </a>"
   ]
  },
  {
   "cell_type": "markdown",
   "metadata": {},
   "source": [
    "## Pandas\n",
    "- It's possible to use `pop()` with column numbers. Ex: `df.pop(48)` to get the 48th column"
   ]
  },
  {
   "cell_type": "markdown",
   "metadata": {
    "id": "rCIcGqmh7bDH"
   },
   "source": [
    "## Multi-label data\n",
    "\n",
    "- preprocess nominal data\n",
    "```\n",
    "cat_ind = np.array([1,2,5,6,17])\n",
    "for idx in cat_ind:\n",
    "  X = X.join(pd.get_dummies(X[[idx]].astype(str)))\n",
    "X = X.drop(cat_ind, axis = 1)\n",
    "X.shape\n",
    "```\n",
    "- Binarize multi-label data:\n",
    "```\n",
    "from sklearn.preprocessing import MultiLabelBinarizer\n",
    "mlb = MultiLabelBinarizer()\n",
    "y = mlb.fit_transform(list(y.itertuples(index=False)))\n",
    "```"
   ]
  },
  {
   "cell_type": "markdown",
   "metadata": {},
   "source": [
    " <footer id=\"main-footer\">\n",
    "        <hr color = \"black\" width=\"400px\">\n",
    "    <center> Copyright &copy; 2019 Ellie Nguyen. All rights reserved.</center>\n",
    "</footer>"
   ]
  }
 ],
 "metadata": {
  "kernelspec": {
   "display_name": "Python 3",
   "language": "python",
   "name": "python3"
  },
  "language_info": {
   "codemirror_mode": {
    "name": "ipython",
    "version": 3
   },
   "file_extension": ".py",
   "mimetype": "text/x-python",
   "name": "python",
   "nbconvert_exporter": "python",
   "pygments_lexer": "ipython3",
   "version": "3.8.3"
  }
 },
 "nbformat": 4,
 "nbformat_minor": 4
}
