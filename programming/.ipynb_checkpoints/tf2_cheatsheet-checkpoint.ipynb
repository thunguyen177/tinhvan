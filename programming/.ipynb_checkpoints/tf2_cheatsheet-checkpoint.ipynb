{
 "cells": [
  {
   "cell_type": "markdown",
   "metadata": {},
   "source": [
    "<a href='https://ellienguyen.style/'><font color=\"green\"> <b> <center> Ellie V  </center> </b></font> </a>"
   ]
  },
  {
   "cell_type": "markdown",
   "metadata": {},
   "source": [
    "<font color=\"green\" size = 10> <b> <center> Tensorflow 2 cheatsheet </center> </b></font>  "
   ]
  },
  {
   "cell_type": "code",
   "execution_count": 1,
   "metadata": {
    "colab": {},
    "colab_type": "code",
    "id": "0voMeeC_7K2U"
   },
   "outputs": [],
   "source": [
    "import tensorflow as tf\n",
    "import matplotlib.pyplot as plt\n",
    "from tensorflow.keras import Model\n",
    "from tensorflow.keras.utils import plot_model"
   ]
  },
  {
   "cell_type": "markdown",
   "metadata": {},
   "source": [
    "## <font color=\"green\"> Download & extract data</font> \n",
    "Available datasets in tensorflow:\n",
    "\n",
    "https://www.tensorflow.org/datasets/catalog/overview\n",
    "\n",
    "A tutorial shows how to load and preprocess an image dataset in three ways\n",
    "https://www.tensorflow.org/tutorials/load_data/images?hl=en\n",
    "\n",
    "download and extract: `tf.keras.utils.get_file()` or "
   ]
  },
  {
   "cell_type": "code",
   "execution_count": 0,
   "metadata": {
    "colab": {},
    "colab_type": "code",
    "id": "amQGQI8FEZPH"
   },
   "outputs": [],
   "source": [
    "# Keras datasets\n",
    "from tensorflow.keras import datasets\n",
    "(train_images,train_labels), \\\n",
    "  (test_images,test_labels) = datasets.cifar10.load_data()\n",
    "\n",
    "# TensorFlow datasets\n",
    "import tensorflow_datasets as tfds\n",
    "dataset, metadata = tfds.load('cycle_gan/horse2zebra',\n",
    "                              with_information = True,\n",
    "                              as_supervised = True)"
   ]
  },
  {
   "cell_type": "markdown",
   "metadata": {
    "colab_type": "text",
    "id": "XywGjpJaIBvd"
   },
   "source": [
    " Caching is important to avoid repeated work\n",
    "\n",
    " Use either an in-memory cache, or a cache file\n",
    "\n",
    " order is important. Cache before shuffling and batching"
   ]
  },
  {
   "cell_type": "code",
   "execution_count": 0,
   "metadata": {
    "colab": {},
    "colab_type": "code",
    "id": "JEAHq808IABJ"
   },
   "outputs": [],
   "source": [
    "def preprocess(img):\n",
    "    img = tf.cast(image,tf.float32)\n",
    "    img = (img/127.5)-1\n",
    "    img = tf.image.resize(img, [286,286])\n",
    "    return img\n",
    "\n",
    "image_ds = image_ds.map(preprocess,num_parallel_calls=AUTOTUNE).cache()"
   ]
  },
  {
   "cell_type": "code",
   "execution_count": null,
   "metadata": {},
   "outputs": [],
   "source": [
    "import tensorflow_datasets as tfds\n",
    "# create an instance of `DownloadManager` first\n",
    "dm = tfds.download.DownloadManager(download_dir='/tmp')\n",
    "# use it to download datasets\n",
    "dl_manager = tfds.download.DownloadManager\n",
    "train_dir = dm.download('https://abc.org/train.tar.gz')"
   ]
  },
  {
   "cell_type": "markdown",
   "metadata": {},
   "source": [
    " Parallel download: list -> list:"
   ]
  },
  {
   "cell_type": "code",
   "execution_count": null,
   "metadata": {},
   "outputs": [],
   "source": [
    "image_files = dl_manager.download(\n",
    "    ['https://a.org/1.jpg', 'https://a.org/2.jpg', ...])"
   ]
  },
  {
   "cell_type": "markdown",
   "metadata": {
    "id": "YbQ9a0eSLWRc"
   },
   "source": [
    "Parallel download: dict -> dict"
   ]
  },
  {
   "cell_type": "code",
   "execution_count": null,
   "metadata": {},
   "outputs": [],
   "source": [
    "data_dirs = dl_manager.download_and_extract({\n",
    "   'train': 'https://abc.org/train.zip',\n",
    "   'test': 'https://abc.org/test.zip',\n",
    "})\n",
    "data_dirs['train']\n",
    "data_dirs['test']"
   ]
  },
  {
   "cell_type": "markdown",
   "metadata": {},
   "source": [
    "## <font color=\"darkorange\"> Preprocessing data</font>  "
   ]
  },
  {
   "cell_type": "code",
   "execution_count": null,
   "metadata": {},
   "outputs": [],
   "source": [
    "train_df = tf.data.Dataset.from_tensor_slices(\n",
    "    (Xtrain, ytrain)).shuffle(TRAIN_BUF).batch(BATCH_SIZE)"
   ]
  },
  {
   "cell_type": "markdown",
   "metadata": {},
   "source": [
    "## <font color=\"green\">  Model API:</font> \n",
    "\n",
    "Several ways to define a model in Tensorflow and keras:"
   ]
  },
  {
   "cell_type": "code",
   "execution_count": null,
   "metadata": {},
   "outputs": [],
   "source": [
    "model = models.Sequential()\n",
    "model.add(layers.Dense(10, activation = 'relu', input_shape = (58,)))\n",
    "model.add(layers.Dense(G, activation='sigmoid'))\n",
    "model.compile(optimizer = 'adam', \n",
    "             loss = 'sparse_categorical_crossentropy',\n",
    "             metrics = ['accuracy'])\n",
    "model.fit(Xtrain, ytrain, epoches = 10)\n",
    "model.evaluate(Xtest, ytest)"
   ]
  },
  {
   "cell_type": "code",
   "execution_count": null,
   "metadata": {},
   "outputs": [],
   "source": [
    "# Functional API\n",
    "inputs = tf.keras.Input(shape = (image_size,image_size))\n",
    "x = Flatten()(inputs)\n",
    "x = Dense(512, activation = 'relu')(x)\n",
    "x = Dropout(0.2)(x)\n",
    "prediction = Dense(10, activation = 'softmax')(x)\n",
    "model = tf.keras.models.Model(inputs = inputs, outputs = predictions)"
   ]
  },
  {
   "cell_type": "code",
   "execution_count": 0,
   "metadata": {
    "colab": {},
    "colab_type": "code",
    "id": "zIUSDH0K7j-e"
   },
   "outputs": [],
   "source": [
    "class MyModel(tf.keras.Model):\n",
    "    def __init__(self,num_classes=10):\n",
    "        super(MyModel,self).__init__(name = 'my_model')\n",
    "        self.dense_1 = layers.Dense(32,activation = 'relu')\n",
    "        self.dense_2 = layers.Dense(num_classes,activation='softmax')\n",
    "        \n",
    "    def call(self, inputs):\n",
    "        # Define forward pass here\n",
    "        x = self.dense_1(inputs)\n",
    "        return self.dense_2(x)"
   ]
  },
  {
   "cell_type": "code",
   "execution_count": 0,
   "metadata": {
    "colab": {},
    "colab_type": "code",
    "id": "MyNPVM5X8gSf"
   },
   "outputs": [],
   "source": [
    "class MyModel(tf.keras.Model):\n",
    "    def __init__(self,num_classes=10):\n",
    "        super(MyModel,self).__init__(name = 'my_model')\n",
    "        self.dense_1 = layers.Dense(32)\n",
    "        self.dense_2 = layers.Dense(num_classes,activation='softmax')\n",
    "    \n",
    "    def call(self, inputs):\n",
    "        # Define your forward pass here\n",
    "        x = self.dense_1(inputs)\n",
    "        x = tf.nn.relu(x)\n",
    "        return self.dense_2(x)"
   ]
  },
  {
   "cell_type": "markdown",
   "metadata": {
    "colab_type": "text",
    "id": "ZKno0g1rJZ8x"
   },
   "source": [
    "## <font color=\"green\"> Transfer learning</font> "
   ]
  },
  {
   "cell_type": "code",
   "execution_count": 0,
   "metadata": {
    "colab": {},
    "colab_type": "code",
    "id": "91YrBVenJcAs"
   },
   "outputs": [],
   "source": [
    "# Load MobiNetV2 model, pretrained on ImageNet\n",
    "model = tf.keras.applications.MobileNetV2(\n",
    "    input_shape = (image_size, image_size,3),\n",
    "    include_top = False, weights = 'imagenet', pooling = 'avg'\n",
    ")\n",
    "model.trainable = False\n",
    "\n",
    "# add a new layer for classification\n",
    "softmax_layer = tf.keras.layers.Dense(\n",
    "    number_of_class, activation = 'softmax')\n",
    "new_model = tf.keras.Sequential([model, softmax_layer])\n",
    "new_model.compile(loss = tf.keras.losses.categorical_crossentropy,\n",
    "                 optimizer = tf.keras.optimizers.RMSprop(lr = 1e-3),\n",
    "                 metric = ['accuracy'])\n",
    "\n",
    "# train the softmax layer:\n",
    "new_model.fit(train_dataset, epoches = 10)"
   ]
  },
  {
   "cell_type": "markdown",
   "metadata": {
    "id": "sswWYwvH5A5D"
   },
   "source": [
    "## <font color=\"darkorange\"> Custom training </font> \n",
    "\n",
    "- remove the last layer: `model.pop()`\n",
    "\n",
    "- select specific layer: `model.layers[layer_index]`\n",
    "\n",
    "- fix layer weights: `model.layers[layer_index].trainable = False`"
   ]
  },
  {
   "cell_type": "markdown",
   "metadata": {
    "id": "xSuK_25JnadP"
   },
   "source": [
    "## Inserting layers:"
   ]
  },
  {
   "cell_type": "code",
   "execution_count": null,
   "metadata": {},
   "outputs": [],
   "source": [
    "from tensorflow.keras.applications import VGG16\n",
    "from tensorflow.keras.layers import Dropout\n",
    "from tensorflow.keras.models import Sequential\n",
    "\n",
    "model = VGG16(weights='imagenet')\n",
    "\n",
    "# check structure and layer names before looping\n",
    "model.summary()\n",
    "\n",
    "# loop through layers, add Dropout after layers 'fc1' and 'fc2'\n",
    "updated_model = Sequential()\n",
    "for layer in model.layers:\n",
    "    updated_model.add(layer)\n",
    "    if layer.name in ['fc1', 'fc2']:\n",
    "        updated_model.add(Dropout(.2))\n",
    "\n",
    "model = updated_model\n",
    "\n",
    "# check structure\n",
    "model.summary()"
   ]
  },
  {
   "cell_type": "markdown",
   "metadata": {},
   "source": [
    "## <font color=\"darkorange\">  Checkpoints</font> "
   ]
  },
  {
   "cell_type": "code",
   "execution_count": null,
   "metadata": {},
   "outputs": [],
   "source": [
    "def scheduler(epoch):\n",
    "    if epoch < 40:\n",
    "        return 0.001\n",
    "    else:\n",
    "        return 0.0005\n",
    "\n",
    "callback = tf.keras.callbacks.LearningRateScheduler(scheduler)\n",
    "checkpoint_path = \"cp.ckpt\"\n",
    "checkpoint_dir = os.path.dirname(checkpoint_path)\n",
    "\n",
    "# Create a callback that saves the model's weights\n",
    "cp_callback = tf.keras.callbacks.ModelCheckpoint(filepath=checkpoint_path,\n",
    "                                                 monitor = 'loss',\n",
    "                                                 save_best_only = True,\n",
    "                                                 save_weights_only=True,\n",
    "                                                 verbose=1)\n",
    "\n",
    "cp_callback = tf.keras.callbacks.EarlyStopping(monitor = 'val_loss',\n",
    "                                               patience = 100,\n",
    "                                               restore_best_weights = True)\n",
    "\n",
    "history = model.fit(X_train, y_train,\n",
    "                    batch_size = BATCH_SIZE,\n",
    "                    epochs=EPOCHES,\n",
    "                    callbacks=[callback,cp_callback]) \n",
    "\n",
    "# loading weights from check points:\n",
    "checkpoint_path = \"drive/My Drive/Colab Notebooks/checkpoints_conv/cp.ckpt\"\n",
    "model.load_weights(checkpoint_path)"
   ]
  },
  {
   "cell_type": "markdown",
   "metadata": {
    "id": "OIWiczkHLppk"
   },
   "source": [
    "## <font color=\"darkorange\"> Tensorflow functions:</font> \n",
    "\n",
    "- `@tf.function`: decorator to run function as a tensorflow graph\n",
    "\n",
    "- `tf.map_fn`: map function to a vector. **super slow**\n",
    "\n",
    "- `tf.vectorized_map`: Parallel map on the list of tensors unpacked from elems on dimension 0. (does not allow index mapping. For index mapping, use python built in `map()` instead)"
   ]
  },
  {
   "cell_type": "markdown",
   "metadata": {},
   "source": [
    "## <font color=\"green\"> Gradient </font> "
   ]
  },
  {
   "cell_type": "markdown",
   "metadata": {},
   "source": [
    "### <font color=\"darkorange\"> Gradient tape </font> \n",
    " Custom training loop with GradientTape:"
   ]
  },
  {
   "cell_type": "code",
   "execution_count": 0,
   "metadata": {
    "colab": {},
    "colab_type": "code",
    "id": "G7X2CEYR9HIt"
   },
   "outputs": [],
   "source": [
    "@tf.function #Creates a callable TensorFlow graph from a Python function. \n",
    "def train_step(features,labels):\n",
    "    with tf.GradientTape() as tape:\n",
    "        logits = model(features, training = True)\n",
    "        loss = loss_fn(labels,logits)\n",
    "    grads = tape.gradient(loss, model.trainable_variables)\n",
    "    optimizer.apply_gradients(zip(grads,model.trainable_variables))\n",
    "    return loss"
   ]
  },
  {
   "cell_type": "markdown",
   "metadata": {},
   "source": [
    "### <font color=\"darkorange\"> Gradient clipping</font> \n",
    "\n",
    "`tf.clip_by_value`\n",
    "\n",
    "`tf.clip_by_norm`\n",
    "\n",
    "`tf.clip_by_global_norm` "
   ]
  },
  {
   "cell_type": "code",
   "execution_count": null,
   "metadata": {},
   "outputs": [],
   "source": [
    "with tf.GradientTape() as tape:\n",
    "    loss = compute_loss(model, x,y)\n",
    "gradients = tape.gradient(loss, model.trainable_variables)\n",
    "# gradients, _ = tf.clip_by_global_norm(gradients, 5.0)\n",
    "gradients = [tf.clip_by_value(gr, 0.0001,1) for gr in gradients]\n",
    "optimizer.apply_gradients(zip(gradients, model.trainable_variables))"
   ]
  },
  {
   "cell_type": "markdown",
   "metadata": {},
   "source": [
    "### <font color=\"darkorange\"> Simple linear regression with gradient descent from scratch</font> "
   ]
  },
  {
   "cell_type": "code",
   "execution_count": null,
   "metadata": {},
   "outputs": [],
   "source": [
    "# This code is from Tensorflow at TF World\n",
    "# simulate data\n",
    "def make_noisy_data(m=0.1,b=0.3,n=100):\n",
    "    x = tf.random.uniform(shape=(n,))\n",
    "    noise = tf.random.normal(shape=(n,),stddev = 0.1)\n",
    "    y = m*x+b+noise\n",
    "    return x,y\n",
    "\n",
    "x_train, y_train = make_noisy_data()\n",
    "\n",
    "m = tf.Variable(0.)\n",
    "b = tf.Variable(0.)\n",
    "def predict(x):\n",
    "    y=m*x+b\n",
    "    return y  \n",
    "\n",
    "def squared_error(y_pred,y_true,x_train):\n",
    "    return tf.reduce_mean(tf.square(y_pred-y_true))+tf.reduce_mean(x_train)\n",
    "\n",
    "loss = squared_error(predict(x_train),y_train,x_train)\n",
    "print('Starting loss', loss.numpy())    \n",
    "\n",
    "# Gradient descent\n",
    "learning_rate = 0.05\n",
    "steps = 200\n",
    "for i in range(steps):\n",
    "    with tf.GradientTape() as tape:\n",
    "        prediction = predict(x_train)\n",
    "        loss = squared_error(prediction,y_train, x_train)\n",
    "    gradients = tape.gradient(loss, [m,b])\n",
    "    m.assign_sub(gradients[0]*learning_rate)\n",
    "    b.assign_sub(gradients[1]*learning_rate)\n",
    "    if i%20==0:\n",
    "        print ('step %d, Loss %f' %(i,loss.numpy()))"
   ]
  },
  {
   "cell_type": "markdown",
   "metadata": {
    "id": "5jixc7QMyNSo"
   },
   "source": [
    "## Tensorflow adds on\n",
    "```\n",
    "import tensorflow_addons as tfa\n",
    "```"
   ]
  },
  {
   "cell_type": "markdown",
   "metadata": {
    "colab_type": "text",
    "id": "4m6ldkVJ46cp"
   },
   "source": [
    "### <font color=\"darkorange\">  Visual question answering example</font> \n",
    "https://www.youtube.com/watch?v=5ECD8J3dvDQ at 8:44"
   ]
  },
  {
   "cell_type": "code",
   "execution_count": 0,
   "metadata": {
    "colab": {},
    "colab_type": "code",
    "id": "nbQ3TWwy1Xf4"
   },
   "outputs": [],
   "source": [
    "# A vision model \n",
    "# Encode an image into a vector\n",
    "vision_model = Sequential()\n",
    "vision_model.add(Conv2D(64,(3,3), activation='relu',\n",
    "                        input_shape = (224,224,3)))\n",
    "vision_model.add(MaxPooling2D())\n",
    "vision_model.add(Flatten())\n",
    "# Get a tensor with the output of your vision model\n",
    "image_input = Input(shape = (224,224,3))\n",
    "encoded_image = vision_model(imge_input)\n",
    "# A language model\n",
    "# Encode the question into a vector\n",
    "question_input = Input(shape = (100,),dtype = 'int32',  name = 'Question')\n",
    "embedded_question = Embedding(input_dim = 10000,output_dim=256,input_length=100)(question_input)\n",
    "encoded_question = LSTM(256)(embedded_question)\n",
    "# Concatenate the encoded image and question\n",
    "merged = layers.concatenate([encoded_image, encoded_question])\n",
    "# You can train w/ .fit, .train_on_batch, or GradientTape\n",
    "vqa_model = Model(inputs = [image_input,question_input], outputs = output)\n",
    "plot_model(vqa_model, to_file = 'model.png')"
   ]
  },
  {
   "cell_type": "markdown",
   "metadata": {},
   "source": [
    " <footer id=\"main-footer\">\n",
    "        <hr color = \"black\" width=\"400px\">\n",
    "    <center> Copyright &copy; 2019 Ellie Nguyen. All rights reserved.</center>\n",
    "</footer>"
   ]
  }
 ],
 "metadata": {
  "colab": {
   "authorship_tag": "ABX9TyP2QvFpK6iJIjkFUg9+Q2m2",
   "collapsed_sections": [],
   "name": "tf2_cheatsheet.ipynb",
   "provenance": [],
   "toc_visible": true
  },
  "kernelspec": {
   "display_name": "Python 3",
   "language": "python",
   "name": "python3"
  },
  "language_info": {
   "codemirror_mode": {
    "name": "ipython",
    "version": 3
   },
   "file_extension": ".py",
   "mimetype": "text/x-python",
   "name": "python",
   "nbconvert_exporter": "python",
   "pygments_lexer": "ipython3",
   "version": "3.8.3"
  }
 },
 "nbformat": 4,
 "nbformat_minor": 1
}
