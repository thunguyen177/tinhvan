{
 "cells": [
  {
   "cell_type": "markdown",
   "metadata": {},
   "source": [
    "# Error: no module named ...\n",
    "Go to where the package locates and find out what the name of the folder and import with that name instead. For example:\n",
    "\n",
    "If I install package deepymod with \n",
    "`import deepymod`\n",
    "but meet the `error: no module named 'deepymod'`\n",
    "then I will go to \n",
    "`C:\\Documents\\Anaconda3\\envs\\pytorch\\Lib\\site-packages\\`\n",
    "and I see the name of the folder is `deepymod_torch` instead. Then I will import the package as\n",
    "`import deepymod_torch`"
   ]
  },
  {
   "cell_type": "markdown",
   "metadata": {},
   "source": [
    "# Conda: PackagesNotFoundError & package conflicts\n",
    "Many times, I install a package by following instructions from anaconda website but I meet an error: `PackagesNotFoundError: The following packages are not available from current channels:`. Another time, I tried to install keras in an enviroments, I got `package conflicts` error. These problems can be solved by simply installing the package with `pip` instead of conda."
   ]
  },
  {
   "cell_type": "code",
   "execution_count": null,
   "metadata": {},
   "outputs": [],
   "source": []
  }
 ],
 "metadata": {
  "kernelspec": {
   "display_name": "Python 3",
   "language": "python",
   "name": "python3"
  },
  "language_info": {
   "codemirror_mode": {
    "name": "ipython",
    "version": 3
   },
   "file_extension": ".py",
   "mimetype": "text/x-python",
   "name": "python",
   "nbconvert_exporter": "python",
   "pygments_lexer": "ipython3",
   "version": "3.8.1"
  }
 },
 "nbformat": 4,
 "nbformat_minor": 4
}
