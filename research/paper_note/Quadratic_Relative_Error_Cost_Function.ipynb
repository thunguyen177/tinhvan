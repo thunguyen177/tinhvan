{
 "cells": [
  {
   "cell_type": "markdown",
   "metadata": {},
   "source": [
    "# Quadratic Relative Error Cost Function for neural networks\n",
    "\n",
    "Summary of the paper:\n",
    "<a href='https://ieeexplore.ieee.org/abstract/document/8769865/'>Investigation on Performance of Neural Networks Using Quadratic Relative Error Cost Function </a> \n",
    "\n",
    "In this paper, the authors investigate the performance of neural networks when Quadratic Relative Error Cost Function is used vs when mean square error (MSE) is used.\n",
    "\n",
    "According to the paper, the MSE is defined as $$C = \\frac{1}{m}\\sum_i^m(y_{oi}-y_i)^2/2,$$ where $M$ is the number of samples, $y_{oi}$ is the output of the $i^{th}$ sample from the neural network, $y_i$ is the target value of the $i^{th}$ samples. \n",
    "\n",
    "The Quadratic Relative Error Cost Function (REMSE) is defined as $$C = \\frac{1}{m}\\sum_i^m(\\frac{y_{oi}-y_i}{y_i})^2/2,$$\n",
    "\n",
    "Some important points from the paper:\n",
    "\n",
    "\"A neural network\n",
    "using the REMSE cost function generally gains acceleration\n",
    "that is A (A is larger than 1) times that gained by a network\n",
    "using the MSE cost function in the beginning. At each iteration, the weight adjustment to the $i^\n",
    "{th}$ sample of REMSE would gain $1/y^2_i$\n",
    "times that gained by the weight adjustment\n",
    "to the same sample of MSE. This is why a neural network\n",
    "with the REMSE cost function is much faster than that with\n",
    "the MSE cost function.\"\n",
    "\n",
    "\"For the REMSE cost function, the range of y should be from\n",
    "0 to 1. When y = 0, the reciprocal of y tends to infinity. Two\n",
    "possible methods are provided when using the REMSE cost\n",
    "function if y = 0. One method is to replace zero with a small\n",
    "value, such as $1 \\times 10^{−3}$ or less, and the other method is to\n",
    "locally apply the MSE cost function at the point y = 0.\"\n",
    "\n",
    "\"If the target dataset contains\n",
    "larger magnitude data, neural networks using the REMSE\n",
    "cost function would reduce the precision of output data and seems worse than that using MSE cost function. However,\n",
    "when the dataset contains more small magnitude data or\n",
    "small magnitude data attracts more attention, neural networks\n",
    "using REMSE cost function would work better and should get\n",
    "preferential recommendation\""
   ]
  },
  {
   "cell_type": "code",
   "execution_count": null,
   "metadata": {},
   "outputs": [],
   "source": []
  }
 ],
 "metadata": {
  "kernelspec": {
   "display_name": "Python 3",
   "language": "python",
   "name": "python3"
  },
  "language_info": {
   "codemirror_mode": {
    "name": "ipython",
    "version": 3
   },
   "file_extension": ".py",
   "mimetype": "text/x-python",
   "name": "python",
   "nbconvert_exporter": "python",
   "pygments_lexer": "ipython3",
   "version": "3.6.6"
  }
 },
 "nbformat": 4,
 "nbformat_minor": 2
}
