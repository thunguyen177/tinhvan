{
 "cells": [
  {
   "cell_type": "markdown",
   "metadata": {},
   "source": [
    "## Ridge regression\n",
    "\n",
    "- From: <a href='https://web.stanford.edu/~hastie/Papers/biostat.pdf'> Efficient quadratic regularization for expression arrays</a>: The solution to **Ridge regression** is $\\hat{\\beta}=(X^TX+\\lambda I)^{-1}X^Ty$. Note that $X^TX + \\lambda I$ is now invertible. Therefore, Ridge regression can be use for $p>>n$ problems. In addition, the effect of the penalty term is to constrain the size of the coefficients by shrinking them toward zero. A more subtle effect is that coefficients of correlated variables are shrunk toward each other as well as toward zero."
   ]
  },
  {
   "cell_type": "markdown",
   "metadata": {},
   "source": [
    "## Relaxed LASSO\n",
    "\n",
    "\n",
    "In <a href='https://stat.ethz.ch/~nicolai/relaxo.pdf'>Relaxed LASSO</a>,  there are two parameters controlling the solution of the problem: $\\lambda$, controls the variable selection and $\\phi$ controls the shrinkage level. When $\\phi=1$, Lasso and relaxed-Lasso are the identical, but when $\\phi<1$, we obtain a solution with coefficients closer to what would give an orthogonal projection on the selected variables."
   ]
  },
  {
   "cell_type": "markdown",
   "metadata": {},
   "source": [
    "## Parallel feature selection\n",
    "\n",
    "Currently, there has been studies on  <a href='https://www.kdd.org/kdd2016/papers/files/rpp0839-liA.pdf'> parallel Lasso</a>. However, one may ask a question: Lasso relies on the <a href='http://pages.stat.wisc.edu/~shao/stat992/pres4.pdf'>sparsity assumption</a>. When the number of features is so big that we need to select features parallelly, is this assumption still reasonable?"
   ]
  },
  {
   "cell_type": "code",
   "execution_count": null,
   "metadata": {},
   "outputs": [],
   "source": []
  }
 ],
 "metadata": {
  "kernelspec": {
   "display_name": "Python 3",
   "language": "python",
   "name": "python3"
  },
  "language_info": {
   "codemirror_mode": {
    "name": "ipython",
    "version": 3
   },
   "file_extension": ".py",
   "mimetype": "text/x-python",
   "name": "python",
   "nbconvert_exporter": "python",
   "pygments_lexer": "ipython3",
   "version": "3.6.6"
  }
 },
 "nbformat": 4,
 "nbformat_minor": 2
}
